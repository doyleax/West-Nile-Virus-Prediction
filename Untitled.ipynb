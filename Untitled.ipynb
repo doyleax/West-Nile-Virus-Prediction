{
 "cells": [
  {
   "cell_type": "code",
   "execution_count": 1,
   "metadata": {
    "collapsed": true
   },
   "outputs": [],
   "source": [
    "import pandas as pd\n",
    "from matplotlib import pyplot as plt\n",
    "%matplotlib inline\n",
    "traps = pd.read_csv('assets/train.csv')\n",
    "spray = pd.read_csv('assets/spray.csv')\n",
    "weather = pd.read_csv('assets/weather.csv')\n",
    "\n",
    "import datetime\n",
    "### Modify trap dataset\n",
    "\n",
    "# Convert Date column to actual date data type\n",
    "traps.Date = pd.to_datetime(traps.Date,format='%Y-%m-%d')\n",
    "\n",
    "# Convert Date column to actual date data type\n",
    "spray.Date = pd.to_datetime(spray.Date,format='%Y-%m-%d')\n",
    "\n",
    "traps.Date = [x.date() for x in traps.Date]\n",
    "spray.Date = [x.date() for x in spray.Date]\n"
   ]
  },
  {
   "cell_type": "code",
   "execution_count": 2,
   "metadata": {
    "collapsed": true
   },
   "outputs": [],
   "source": [
    "from geopy.distance import vincenty\n",
    "\n",
    "traps['spray'] = 'N'"
   ]
  },
  {
   "cell_type": "code",
   "execution_count": 3,
   "metadata": {
    "collapsed": false
   },
   "outputs": [
    {
     "name": "stderr",
     "output_type": "stream",
     "text": [
      "/anaconda/lib/python2.7/site-packages/ipykernel/__main__.py:14: SettingWithCopyWarning: \n",
      "A value is trying to be set on a copy of a slice from a DataFrame.\n",
      "Try using .loc[row_indexer,col_indexer] = value instead\n",
      "\n",
      "See the caveats in the documentation: http://pandas.pydata.org/pandas-docs/stable/indexing.html#indexing-view-versus-copy\n",
      "/anaconda/lib/python2.7/site-packages/ipykernel/__main__.py:20: SettingWithCopyWarning: \n",
      "A value is trying to be set on a copy of a slice from a DataFrame.\n",
      "Try using .loc[row_indexer,col_indexer] = value instead\n",
      "\n",
      "See the caveats in the documentation: http://pandas.pydata.org/pandas-docs/stable/indexing.html#indexing-view-versus-copy\n"
     ]
    }
   ],
   "source": [
    "from shapely.geometry import mapping, shape, Point\n",
    "from shapely.geometry.base import BaseGeometry\n",
    "from six import string_types\n",
    "\n",
    "from geopandas import GeoSeries, GeoDataFrame\n",
    "from geopandas.base import GeoPandasBase\n",
    "from geopandas.plotting import plot_dataframe\n",
    "import geopandas.io\n",
    "\n",
    "\n",
    "\n",
    "\n",
    "spray_map = spray[['Latitude','Longitude']]\n",
    "spray_map[\"geometry\"] = spray_map.apply(lambda row: Point(row[\"Longitude\"], row[\"Latitude\"]), axis=1)\n",
    "del(spray_map[\"Latitude\"], spray_map[\"Longitude\"])\n",
    "spray_map = geopandas.GeoDataFrame(spray_map,geometry=\"geometry\")\n",
    "\n",
    "\n",
    "traps_map = traps[['Latitude','Longitude']]\n",
    "traps_map[\"geometry\"] = traps_map.apply(lambda row: Point(row[\"Longitude\"], row[\"Latitude\"]), axis=1)\n",
    "del(traps_map[\"Latitude\"], traps_map[\"Longitude\"])\n",
    "traps_map = geopandas.GeoDataFrame(traps_map,geometry=\"geometry\")\n"
   ]
  },
  {
   "cell_type": "code",
   "execution_count": null,
   "metadata": {
    "collapsed": false
   },
   "outputs": [
    {
     "name": "stderr",
     "output_type": "stream",
     "text": [
      "//anaconda/lib/python2.7/site-packages/pandas/core/indexing.py:141: SettingWithCopyWarning: \n",
      "A value is trying to be set on a copy of a slice from a DataFrame\n",
      "\n",
      "See the caveats in the documentation: http://pandas.pydata.org/pandas-docs/stable/indexing.html#indexing-view-versus-copy\n",
      "  self._setitem_with_indexer(indexer, value)\n"
     ]
    }
   ],
   "source": [
    "import numpy as np\n",
    "from datetime import timedelta\n",
    "\n",
    "for i in range(0,len(traps)):\n",
    "    trap_lat = traps.Latitude.iloc[i]\n",
    "    trap_long = traps.Longitude.iloc[i]\n",
    "    trap_week_ago = traps.Date.iloc[i] - timedelta(days=7)\n",
    "    dist = []\n",
    "    for j in range(0,len(spray)):\n",
    "        if spray.Date.iloc[i] >= trap_week_ago: \n",
    "            if spray.Date.iloc[i] <= traps.Date.iloc[i]:\n",
    "                spray_lat = spray.Latitude.iloc[i] \n",
    "                spray_long = spray.Longitude.iloc[i]\n",
    "                a = (trap_lat, trap_long)\n",
    "                b = (spray_lat, spray_long)\n",
    "                dist.append(vincenty(a, b).miles)\n",
    "    try:\n",
    "        traps.spray.iloc[i] = min(dist)\n",
    "    except:\n",
    "        traps.spray.iloc[i] = np.NaN\n"
   ]
  },
  {
   "cell_type": "code",
   "execution_count": 12,
   "metadata": {
    "collapsed": true
   },
   "outputs": [
    {
     "data": {
      "text/plain": [
       "0        2007-05-22\n",
       "1        2007-05-22\n",
       "2        2007-05-22\n",
       "3        2007-05-22\n",
       "4        2007-05-22\n",
       "5        2007-05-22\n",
       "6        2007-05-22\n",
       "7        2007-05-22\n",
       "8        2007-05-22\n",
       "9        2007-05-22\n",
       "10       2007-05-22\n",
       "11       2007-05-22\n",
       "12       2007-05-22\n",
       "13       2007-05-22\n",
       "14       2007-05-22\n",
       "15       2007-05-22\n",
       "16       2007-05-22\n",
       "17       2007-05-22\n",
       "18       2007-05-22\n",
       "19       2007-05-22\n",
       "20       2007-05-22\n",
       "21       2007-05-22\n",
       "22       2007-05-22\n",
       "23       2007-05-22\n",
       "24       2007-05-22\n",
       "25       2007-05-29\n",
       "26       2007-05-29\n",
       "27       2007-05-29\n",
       "28       2007-05-29\n",
       "29       2007-05-29\n",
       "            ...    \n",
       "10476    2013-09-19\n",
       "10477    2013-09-19\n",
       "10478    2013-09-19\n",
       "10479    2013-09-19\n",
       "10480    2013-09-19\n",
       "10481    2013-09-19\n",
       "10482    2013-09-19\n",
       "10483    2013-09-19\n",
       "10484    2013-09-19\n",
       "10485    2013-09-19\n",
       "10486    2013-09-19\n",
       "10487    2013-09-19\n",
       "10488    2013-09-19\n",
       "10489    2013-09-19\n",
       "10490    2013-09-19\n",
       "10491    2013-09-19\n",
       "10492    2013-09-19\n",
       "10493    2013-09-19\n",
       "10494    2013-09-19\n",
       "10495    2013-09-19\n",
       "10496    2013-09-19\n",
       "10497    2013-09-19\n",
       "10498    2013-09-19\n",
       "10499    2013-09-19\n",
       "10500    2013-09-19\n",
       "10501    2013-09-19\n",
       "10502    2013-09-19\n",
       "10503    2013-09-19\n",
       "10504    2013-09-19\n",
       "10505    2013-09-19\n",
       "Name: Date, dtype: object"
      ]
     },
     "execution_count": 12,
     "metadata": {},
     "output_type": "execute_result"
    }
   ],
   "source": []
  },
  {
   "cell_type": "code",
   "execution_count": null,
   "metadata": {
    "collapsed": true
   },
   "outputs": [],
   "source": []
  }
 ],
 "metadata": {
  "kernelspec": {
   "display_name": "Python 2",
   "language": "python",
   "name": "python2"
  },
  "language_info": {
   "codemirror_mode": {
    "name": "ipython",
    "version": 2
   },
   "file_extension": ".py",
   "mimetype": "text/x-python",
   "name": "python",
   "nbconvert_exporter": "python",
   "pygments_lexer": "ipython2",
   "version": "2.7.13"
  }
 },
 "nbformat": 4,
 "nbformat_minor": 2
}
