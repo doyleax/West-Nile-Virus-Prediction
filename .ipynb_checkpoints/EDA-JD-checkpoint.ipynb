{
 "cells": [
  {
   "cell_type": "code",
   "execution_count": 1,
   "metadata": {
    "collapsed": false
   },
   "outputs": [],
   "source": [
    "import pandas as pd\n",
    "import numpy as np\n",
    "import pandas_profiling as pdp   # pip install pandas-profiling\n",
    "import seaborn as sns\n",
    "import time\n",
    "from matplotlib import pyplot as plt\n",
    "%matplotlib inline\n",
    "\n",
    "# traps = pd.read_csv('assets/train.csv')\n",
    "# spray = pd.read_csv('assets/spray.csv')\n",
    "weather = pd.read_csv('assets/weather.csv')"
   ]
  },
  {
   "cell_type": "markdown",
   "metadata": {},
   "source": [
    "# Preliminary EDA"
   ]
  },
  {
   "cell_type": "code",
   "execution_count": 2,
   "metadata": {
    "collapsed": true
   },
   "outputs": [],
   "source": [
    "# pdp.ProfileReport(traps)\n",
    "# pdp.ProfileReport(spray)\n",
    "# pdp.ProfileReport(weather)\n",
    "\n",
    "# sns.pairplot(traps)\n",
    "# sns.pairplot(spray)\n",
    "# sns.pairplot(weather)"
   ]
  },
  {
   "cell_type": "code",
   "execution_count": 4,
   "metadata": {
    "collapsed": true
   },
   "outputs": [
    {
     "data": {
      "image/png": "[encoded data removed]",
      "text/plain": [
       "<matplotlib.figure.Figure at 0x114496310>"
      ]
     },
     "metadata": {},
     "output_type": "display_data"
    }
   ],
   "source": [
    "# def find_correlation(data,title):\n",
    "#     correlation = data.corr()\n",
    "#     sns.heatmap(correlation, vmax=.8, square=True)\n",
    "#     plt.title(title)\n",
    "\n",
    "# find_correlation(traps, 'Traps')"
   ]
  },
  {
   "cell_type": "markdown",
   "metadata": {},
   "source": [
    "# Data Transformation"
   ]
  },
  {
   "cell_type": "markdown",
   "metadata": {},
   "source": [
    "## Modify columns"
   ]
  },
  {
   "cell_type": "code",
   "execution_count": 3,
   "metadata": {
    "collapsed": true
   },
   "outputs": [
    {
     "name": "stderr",
     "output_type": "stream",
     "text": [
      "/anaconda/lib/python2.7/site-packages/ipykernel/__main__.py:35: SettingWithCopyWarning: \n",
      "A value is trying to be set on a copy of a slice from a DataFrame\n",
      "\n",
      "See the caveats in the documentation: http://pandas.pydata.org/pandas-docs/stable/indexing.html#indexing-view-versus-copy\n",
      "/anaconda/lib/python2.7/site-packages/ipykernel/__main__.py:36: SettingWithCopyWarning: \n",
      "A value is trying to be set on a copy of a slice from a DataFrame\n",
      "\n",
      "See the caveats in the documentation: http://pandas.pydata.org/pandas-docs/stable/indexing.html#indexing-view-versus-copy\n",
      "/anaconda/lib/python2.7/site-packages/ipykernel/__main__.py:37: SettingWithCopyWarning: \n",
      "A value is trying to be set on a copy of a slice from a DataFrame\n",
      "\n",
      "See the caveats in the documentation: http://pandas.pydata.org/pandas-docs/stable/indexing.html#indexing-view-versus-copy\n"
     ]
    }
   ],
   "source": [
    "# import datetime\n",
    "# # Convert Date columns to actual date data type\n",
    "# traps.Date = pd.to_datetime(traps.Date)\n",
    "# spray.Date = pd.to_datetime(spray.Date)\n",
    "weather.Date = pd.to_datetime(weather.Date)\n",
    "\n",
    "# # Create dummies for Species\n",
    "# dummies = pd.get_dummies(traps, columns=['Species'])\n",
    "\n",
    "# # Create a new df with the dummies\n",
    "# traps_2_cols = traps.columns.drop('Species')\n",
    "# traps_2 = pd.concat([traps[traps_2_cols],dummies])\n",
    "\n",
    "# Weather data:\n",
    "# the PrecipTotal column contains the letter 'T' in some rows\n",
    "# this indicates a 'trace' amount of precipitation, which is\n",
    "# defined as less than 0.005\n",
    "# 'M' indicates missing data\n",
    "# 'PrecipTotal','Tavg'\n",
    "\n",
    "def clean_col(column):\n",
    "    weather[column] = weather[column].str.replace('T','0.005')\n",
    "    weather[column] = weather[column].str.replace('M','0.0')\n",
    "    weather[column] = weather[column].astype(float)\n",
    "\n",
    "\n",
    "clean_col('Tavg')\n",
    "clean_col('PrecipTotal')\n",
    "clean_col('WetBulb')\n",
    "clean_col('StnPressure')\n",
    "clean_col('SeaLevel')\n",
    "clean_col('AvgSpeed')\n",
    "\n",
    "weather.CodeSum = weather.CodeSum.str.strip()\n",
    "weather.CodeSum[weather.CodeSum.str.contains('^\\w')] = '1'\n",
    "weather.CodeSum[weather.CodeSum!='1'] = '0'\n",
    "weather['Tavg'][weather.Tavg==0] = (weather.Tmin + weather.Tmax) / 2\n"
   ]
  },
  {
   "cell_type": "markdown",
   "metadata": {},
   "source": [
    "## Grouping records from same trap, same day inspection"
   ]
  },
  {
   "cell_type": "code",
   "execution_count": 35,
   "metadata": {
    "collapsed": true
   },
   "outputs": [],
   "source": [
    "# # Because records are capped at 50 mosquitos,\n",
    "# # we are grouping the data to obtain a unique\n",
    "# # observation record per trap per date, with\n",
    "# # a total sum of NumMosquitos\n",
    "\n",
    "# traps = traps[['Trap',\n",
    "#                'Latitude',\n",
    "#                'Longitude',\n",
    "#                'Date',\n",
    "#                'Species',\n",
    "#                'WnvPresent',\n",
    "#                'NumMosquitos']].groupby(['Trap',\n",
    "#                                          'Latitude',\n",
    "#                                          'Longitude',\n",
    "#                                          'Date', \n",
    "#                                          'Species',\n",
    "#                                          'WnvPresent']).agg({'NumMosquitos':np.sum}).reset_index()"
   ]
  },
  {
   "cell_type": "markdown",
   "metadata": {
    "collapsed": true
   },
   "source": [
    "## Applying the weather data to the dataframe"
   ]
  },
  {
   "cell_type": "code",
   "execution_count": 9,
   "metadata": {
    "collapsed": true
   },
   "outputs": [],
   "source": [
    "## This function takes three arguments:\n",
    "## The column name as a string from weather dataframe that we want to extract\n",
    "## a numpy function that we want to do to the data\n",
    "## an integer number of previous days to extraxct\n",
    "\n",
    "def weather_add(df, weather_col, func, days_range=7):\n",
    "    new_list = []\n",
    "    for i in df['Date']:\n",
    "        mask = (weather['Date'] <= i) & (weather['Date'] >= i - pd.Timedelta(days=days_range))\n",
    "        data_list = func(weather[weather_col][mask])\n",
    "        new_list.append(data_list)\n",
    "    return new_list"
   ]
  },
  {
   "cell_type": "code",
   "execution_count": 5,
   "metadata": {
    "collapsed": false,
    "scrolled": true
   },
   "outputs": [],
   "source": [
    "## running this cell will extract the average temp min, average temp max, and precipitation sum \n",
    "## to the traps dataframe from the previous 7 days.\n",
    "\n",
    "traps['Tmax'] = weather_add(traps, weather_col='Tmax', func=np.mean)\n",
    "traps['Tmin'] = weather_add(traps, weather_col='Tmin', func=np.mean)\n",
    "traps['rain'] = weather_add(traps, weather_col='PrecipTotal', func= np.sum)\n",
    "traps['Tmax_3'] = weather_add(traps, weather_col='Tmax', func=np.mean, days_range=3)\n",
    "traps['Tmax_20'] = weather_add(traps, weather_col='Tmax',func=np.mean, days_range=20)\n",
    "\n",
    "for col in ['Tavg','DewPoint','WetBulb','CodeSum','StnPressure','SeaLevel', 'ResultSpeed', 'ResultDir','AvgSpeed']:\n",
    "    traps[col] = weather_add(traps, weather_col=col, func=np.mean)\n"
   ]
  },
  {
   "cell_type": "markdown",
   "metadata": {},
   "source": [
    "## Scale the Data "
   ]
  },
  {
   "cell_type": "code",
   "execution_count": 27,
   "metadata": {
    "collapsed": false
   },
   "outputs": [
    {
     "data": {
      "text/html": [
       "<div>\n",
       "<table border=\"1\" class=\"dataframe\">\n",
       "  <thead>\n",
       "    <tr style=\"text-align: right;\">\n",
       "      <th></th>\n",
       "      <th>Trap</th>\n",
       "      <th>Latitude</th>\n",
       "      <th>Longitude</th>\n",
       "      <th>Date</th>\n",
       "      <th>Species</th>\n",
       "      <th>WnvPresent</th>\n",
       "      <th>NumMosquitos</th>\n",
       "      <th>Tmax</th>\n",
       "      <th>Tmin</th>\n",
       "      <th>rain</th>\n",
       "      <th>...</th>\n",
       "      <th>Tmax_20</th>\n",
       "      <th>Tavg</th>\n",
       "      <th>DewPoint</th>\n",
       "      <th>WetBulb</th>\n",
       "      <th>CodeSum</th>\n",
       "      <th>StnPressure</th>\n",
       "      <th>SeaLevel</th>\n",
       "      <th>ResultSpeed</th>\n",
       "      <th>ResultDir</th>\n",
       "      <th>AvgSpeed</th>\n",
       "    </tr>\n",
       "  </thead>\n",
       "  <tbody>\n",
       "  </tbody>\n",
       "</table>\n",
       "<p>0 rows × 23 columns</p>\n",
       "</div>"
      ],
      "text/plain": [
       "Empty DataFrame\n",
       "Columns: [Trap, Latitude, Longitude, Date, Species, WnvPresent, NumMosquitos, Tmax, Tmin, rain, Spray, Spray_Days_Ago, Tmax_3, Tmax_20, Tavg, DewPoint, WetBulb, CodeSum, StnPressure, SeaLevel, ResultSpeed, ResultDir, AvgSpeed]\n",
       "Index: []\n",
       "\n",
       "[0 rows x 23 columns]"
      ]
     },
     "execution_count": 27,
     "metadata": {},
     "output_type": "execute_result"
    }
   ],
   "source": [
    "traps[traps.rain.isnull()]\n",
    "\n",
    "# Index([u'Trap', u'Latitude', u'Longitude', u'Date', u'Species', u'WnvPresent',\n",
    "#        u'NumMosquitos', u'Tmax', u'Tmin', u'rain', u'Spray', u'Spray_Days_Ago',\n",
    "#        u'Tmax_3', u'Tmax_20', u'Tavg', u'DewPoint', u'WetBulb', u'CodeSum',\n",
    "#        u'StnPressure', u'SeaLevel', u'ResultSpeed', u'ResultDir', u'AvgSpeed'],\n",
    "# #       dtype='object')\n"
   ]
  },
  {
   "cell_type": "code",
   "execution_count": 59,
   "metadata": {
    "collapsed": false
   },
   "outputs": [],
   "source": [
    "from sklearn.preprocessing import MinMaxScaler, StandardScaler\n",
    "\n",
    "features = traps.columns.drop(['Species','Date','Trap','Spray','Spray_Days_Ago'])\n",
    "\n",
    "traps_rescaled = pd.DataFrame(MinMaxScaler().fit_transform(traps[features]),columns=features)\n",
    "# traps_rescaled = pd.concat(traps_rescaled, traps[['Species','Date','Trap']])\n",
    "traps_rescaled2 = pd.DataFrame(StandardScaler().fit_transform(traps[features]),columns=features)\n"
   ]
  },
  {
   "cell_type": "code",
   "execution_count": null,
   "metadata": {
    "collapsed": false
   },
   "outputs": [],
   "source": [
    "## Save the transformed files so we don't have to run the earlier cells\n",
    "\n",
    "# traps.to_csv('./assets/Train_transformed/traps.csv', encoding='utf-8', index=False)"
   ]
  },
  {
   "cell_type": "code",
   "execution_count": 2,
   "metadata": {
    "collapsed": false
   },
   "outputs": [],
   "source": [
    "##re-import the altered traps file\n",
    "\n",
    "traps = pd.read_csv('./assets/Train_transformed/traps.csv')\n",
    "traps.drop('Unnamed: 0',axis=1,inplace=True)"
   ]
  },
  {
   "cell_type": "markdown",
   "metadata": {},
   "source": [
    "# Feature Selection"
   ]
  },
  {
   "cell_type": "code",
   "execution_count": 13,
   "metadata": {
    "collapsed": false
   },
   "outputs": [
    {
     "data": {
      "text/html": [
       "<div>\n",
       "<table border=\"1\" class=\"dataframe\">\n",
       "  <thead>\n",
       "    <tr style=\"text-align: right;\">\n",
       "      <th></th>\n",
       "      <th>Trap</th>\n",
       "      <th>Latitude</th>\n",
       "      <th>Longitude</th>\n",
       "      <th>Date</th>\n",
       "      <th>Species</th>\n",
       "      <th>WnvPresent</th>\n",
       "      <th>NumMosquitos</th>\n",
       "      <th>Tmax</th>\n",
       "      <th>Tmin</th>\n",
       "      <th>rain</th>\n",
       "      <th>Tmax_3</th>\n",
       "      <th>Tmax_20</th>\n",
       "      <th>Spray</th>\n",
       "      <th>Spray_Days_Ago</th>\n",
       "    </tr>\n",
       "  </thead>\n",
       "  <tbody>\n",
       "    <tr>\n",
       "      <th>0</th>\n",
       "      <td>T001</td>\n",
       "      <td>41.953705</td>\n",
       "      <td>-87.733974</td>\n",
       "      <td>2007-06-26</td>\n",
       "      <td>CULEX PIPIENS/RESTUANS</td>\n",
       "      <td>0</td>\n",
       "      <td>1</td>\n",
       "      <td>80.1875</td>\n",
       "      <td>64.3125</td>\n",
       "      <td>2.09</td>\n",
       "      <td>80.625</td>\n",
       "      <td>83.428571</td>\n",
       "      <td>NaN</td>\n",
       "      <td>NaN</td>\n",
       "    </tr>\n",
       "    <tr>\n",
       "      <th>1</th>\n",
       "      <td>T001</td>\n",
       "      <td>41.953705</td>\n",
       "      <td>-87.733974</td>\n",
       "      <td>2007-07-11</td>\n",
       "      <td>CULEX PIPIENS/RESTUANS</td>\n",
       "      <td>0</td>\n",
       "      <td>1</td>\n",
       "      <td>87.5625</td>\n",
       "      <td>68.5625</td>\n",
       "      <td>1.87</td>\n",
       "      <td>88.250</td>\n",
       "      <td>82.166667</td>\n",
       "      <td>NaN</td>\n",
       "      <td>NaN</td>\n",
       "    </tr>\n",
       "  </tbody>\n",
       "</table>\n",
       "</div>"
      ],
      "text/plain": [
       "   Trap   Latitude  Longitude       Date                 Species  WnvPresent  \\\n",
       "0  T001  41.953705 -87.733974 2007-06-26  CULEX PIPIENS/RESTUANS           0   \n",
       "1  T001  41.953705 -87.733974 2007-07-11  CULEX PIPIENS/RESTUANS           0   \n",
       "\n",
       "   NumMosquitos     Tmax     Tmin  rain  Tmax_3    Tmax_20  Spray  \\\n",
       "0             1  80.1875  64.3125  2.09  80.625  83.428571    NaN   \n",
       "1             1  87.5625  68.5625  1.87  88.250  82.166667    NaN   \n",
       "\n",
       "   Spray_Days_Ago  \n",
       "0             NaN  \n",
       "1             NaN  "
      ]
     },
     "execution_count": 13,
     "metadata": {},
     "output_type": "execute_result"
    }
   ],
   "source": [
    "traps.head(2)"
   ]
  },
  {
   "cell_type": "code",
   "execution_count": 65,
   "metadata": {
    "collapsed": true
   },
   "outputs": [],
   "source": [
    "features = ['rain','Tmax_3','Tmax_20']"
   ]
  },
  {
   "cell_type": "code",
   "execution_count": 68,
   "metadata": {
    "collapsed": false
   },
   "outputs": [],
   "source": []
  },
  {
   "cell_type": "code",
   "execution_count": 69,
   "metadata": {
    "collapsed": true
   },
   "outputs": [],
   "source": []
  },
  {
   "cell_type": "markdown",
   "metadata": {},
   "source": [
    "# Building the Models"
   ]
  },
  {
   "cell_type": "code",
   "execution_count": 57,
   "metadata": {
    "collapsed": true
   },
   "outputs": [],
   "source": [
    "from sklearn.metrics import roc_auc_score\n",
    "def score_model(model):\n",
    "    preds = model.predict(X_test)\n",
    "    roc_score = roc_auc_score(y_test, preds)\n",
    "    return roc_score"
   ]
  },
  {
   "cell_type": "markdown",
   "metadata": {
    "collapsed": true
   },
   "source": [
    "## Random Forest"
   ]
  },
  {
   "cell_type": "markdown",
   "metadata": {
    "collapsed": true
   },
   "source": [
    "performs at .57\n",
    "performs at .59 with Tmin, rain, Tmax_3 and Tmax_20"
   ]
  },
  {
   "cell_type": "code",
   "execution_count": 70,
   "metadata": {
    "collapsed": false
   },
   "outputs": [
    {
     "data": {
      "text/plain": [
       "0.5"
      ]
     },
     "execution_count": 70,
     "metadata": {},
     "output_type": "execute_result"
    }
   ],
   "source": [
    "from sklearn.ensemble import RandomForestClassifier\n",
    "from sklearn.model_selection import GridSearchCV, train_test_split\n"
   ]
  },
  {
   "cell_type": "code",
   "execution_count": 82,
   "metadata": {
    "collapsed": false
   },
   "outputs": [
    {
     "data": {
      "text/plain": [
       "0.77814569536423839"
      ]
     },
     "execution_count": 82,
     "metadata": {},
     "output_type": "execute_result"
    }
   ],
   "source": [
    "from sklearn.preprocessing import MinMaxScaler, StandardScaler\n",
    "\n",
    "features = traps.columns.drop(['Species','Date','Trap','Spray','Spray_Days_Ago'])\n",
    "\n",
    "traps_minmax = pd.DataFrame(MinMaxScaler().fit_transform(traps[features]),columns=features)\n",
    "\n",
    "X = traps_minmax[features]\n",
    "y = traps.WnvPresent\n",
    "\n",
    "X_train, X_test, y_train, y_test = train_test_split(X, y,stratify=y, test_size=0.33, random_state=0)\n",
    "\n",
    "RF = RandomForestClassifier(n_estimators = 5, bootstrap=True, max_depth=3,\n",
    "                            max_features='auto',min_samples_leaf= 1, min_samples_split= 4)\n",
    "RF_model= RF.fit(X_train,y_train)\n",
    "score_model(RF_model)"
   ]
  },
  {
   "cell_type": "code",
   "execution_count": 83,
   "metadata": {
    "collapsed": false
   },
   "outputs": [
    {
     "data": {
      "text/plain": [
       "0.92384105960264895"
      ]
     },
     "execution_count": 83,
     "metadata": {},
     "output_type": "execute_result"
    }
   ],
   "source": [
    "features = traps.columns.drop(['Species','Date','Trap','Spray','Spray_Days_Ago'])\n",
    "\n",
    "traps_minmax = pd.DataFrame(MinMaxScaler().fit_transform(traps[features]),columns=features)\n",
    "\n",
    "X = traps_minmax[features]\n",
    "y = traps.WnvPresent\n",
    "\n",
    "X_train, X_test, y_train, y_test = train_test_split(X, y,stratify=y, test_size=0.33, random_state=0)\n",
    "\n",
    "RF = RandomForestClassifier(n_estimators = 5, bootstrap=True, max_depth=3,\n",
    "                            max_features='auto',min_samples_leaf= 1, min_samples_split= 4)\n",
    "RF_model= RF.fit(X_train,y_train)\n",
    "score_model(RF_model)"
   ]
  },
  {
   "cell_type": "markdown",
   "metadata": {
    "collapsed": true
   },
   "source": [
    "### Random Forest Grid Search"
   ]
  },
  {
   "cell_type": "code",
   "execution_count": 14,
   "metadata": {
    "collapsed": false
   },
   "outputs": [],
   "source": [
    "grid_search_params = { 'max_features' : ['auto',None],\n",
    "                    'max_depth':[None, 1, 5, 3],\n",
    "                    'min_samples_split':[2,3,5],\n",
    "                    'min_samples_leaf':[1,2,5],\n",
    "                    'bootstrap':[True, False]\n",
    "    \n",
    "}"
   ]
  },
  {
   "cell_type": "code",
   "execution_count": 15,
   "metadata": {
    "collapsed": false
   },
   "outputs": [],
   "source": [
    "gs = GridSearchCV(RF, grid_search_params)"
   ]
  },
  {
   "cell_type": "code",
   "execution_count": 16,
   "metadata": {
    "collapsed": false
   },
   "outputs": [],
   "source": [
    "k = gs.fit(X_train,y_train)"
   ]
  },
  {
   "cell_type": "code",
   "execution_count": 17,
   "metadata": {
    "collapsed": false
   },
   "outputs": [
    {
     "data": {
      "text/plain": [
       "{'bootstrap': True,\n",
       " 'max_depth': None,\n",
       " 'max_features': 'auto',\n",
       " 'min_samples_leaf': 1,\n",
       " 'min_samples_split': 2}"
      ]
     },
     "execution_count": 17,
     "metadata": {},
     "output_type": "execute_result"
    }
   ],
   "source": [
    "k.best_params_"
   ]
  },
  {
   "cell_type": "code",
   "execution_count": 18,
   "metadata": {
    "collapsed": false
   },
   "outputs": [
    {
     "data": {
      "text/plain": [
       "1.0"
      ]
     },
     "execution_count": 18,
     "metadata": {},
     "output_type": "execute_result"
    }
   ],
   "source": [
    "k.score(X,y)"
   ]
  },
  {
   "cell_type": "code",
   "execution_count": 19,
   "metadata": {
    "collapsed": false
   },
   "outputs": [
    {
     "data": {
      "text/plain": [
       "1.0"
      ]
     },
     "execution_count": 19,
     "metadata": {},
     "output_type": "execute_result"
    }
   ],
   "source": [
    "score_model(k)"
   ]
  },
  {
   "cell_type": "markdown",
   "metadata": {
    "collapsed": true
   },
   "source": [
    "## Support Vector Machine"
   ]
  },
  {
   "cell_type": "markdown",
   "metadata": {},
   "source": [
    "Currently performing at .50 (bad)"
   ]
  },
  {
   "cell_type": "code",
   "execution_count": 85,
   "metadata": {
    "collapsed": false
   },
   "outputs": [],
   "source": [
    "from sklearn.svm import SVC"
   ]
  },
  {
   "cell_type": "code",
   "execution_count": 86,
   "metadata": {
    "collapsed": false
   },
   "outputs": [],
   "source": [
    "svmc= SVC(probability=True)"
   ]
  },
  {
   "cell_type": "code",
   "execution_count": 87,
   "metadata": {
    "collapsed": false
   },
   "outputs": [],
   "source": [
    "svm_model = svmc.fit(X_train,y_train)"
   ]
  },
  {
   "cell_type": "code",
   "execution_count": 88,
   "metadata": {
    "collapsed": true
   },
   "outputs": [],
   "source": [
    "grid_search_params = { 'C' : [1,2,3.01,.001],\n",
    "                    'kernel':['rbf', 'linear','poly']\n",
    "}"
   ]
  },
  {
   "cell_type": "code",
   "execution_count": 89,
   "metadata": {
    "collapsed": false
   },
   "outputs": [],
   "source": [
    "gsvm = GridSearchCV(svmc, grid_search_params)"
   ]
  },
  {
   "cell_type": "code",
   "execution_count": 90,
   "metadata": {
    "collapsed": true
   },
   "outputs": [],
   "source": [
    "svm = gsvm.fit(X_train,y_train)"
   ]
  },
  {
   "cell_type": "code",
   "execution_count": 91,
   "metadata": {
    "collapsed": false
   },
   "outputs": [
    {
     "data": {
      "text/plain": [
       "{'C': 1, 'kernel': 'rbf'}"
      ]
     },
     "execution_count": 91,
     "metadata": {},
     "output_type": "execute_result"
    }
   ],
   "source": [
    "svm.best_params_"
   ]
  },
  {
   "cell_type": "code",
   "execution_count": 92,
   "metadata": {
    "collapsed": false
   },
   "outputs": [
    {
     "data": {
      "text/plain": [
       "1.0"
      ]
     },
     "execution_count": 92,
     "metadata": {},
     "output_type": "execute_result"
    }
   ],
   "source": [
    "score_model(svm)"
   ]
  },
  {
   "cell_type": "code",
   "execution_count": 93,
   "metadata": {
    "collapsed": false
   },
   "outputs": [
    {
     "data": {
      "text/plain": [
       "1.0"
      ]
     },
     "execution_count": 93,
     "metadata": {},
     "output_type": "execute_result"
    }
   ],
   "source": [
    "svm.score(X,y)"
   ]
  },
  {
   "cell_type": "markdown",
   "metadata": {},
   "source": [
    "## ADA Boost"
   ]
  },
  {
   "cell_type": "markdown",
   "metadata": {},
   "source": [
    "currently performs at .51"
   ]
  },
  {
   "cell_type": "code",
   "execution_count": null,
   "metadata": {
    "collapsed": true
   },
   "outputs": [],
   "source": [
    "from sklearn.ensemble import AdaBoostClassifier"
   ]
  },
  {
   "cell_type": "code",
   "execution_count": null,
   "metadata": {
    "collapsed": true
   },
   "outputs": [],
   "source": [
    "adaboost= AdaBoostClassifier()"
   ]
  },
  {
   "cell_type": "code",
   "execution_count": null,
   "metadata": {
    "collapsed": true
   },
   "outputs": [],
   "source": [
    "ada_model=adaboost.fit(X,y)"
   ]
  },
  {
   "cell_type": "code",
   "execution_count": null,
   "metadata": {
    "collapsed": true
   },
   "outputs": [],
   "source": [
    "adaboost.score(X,y)"
   ]
  },
  {
   "cell_type": "code",
   "execution_count": null,
   "metadata": {
    "collapsed": true
   },
   "outputs": [],
   "source": []
  },
  {
   "cell_type": "markdown",
   "metadata": {},
   "source": [
    "# Import and Transform Test Data"
   ]
  },
  {
   "cell_type": "code",
   "execution_count": 4,
   "metadata": {
    "collapsed": false
   },
   "outputs": [],
   "source": [
    "test = pd.read_csv('assets/test.csv')\n",
    "test.columns\n",
    "# Because records are capped at 50 mosquitos,\n",
    "# we are grouping the data to obtain a unique\n",
    "# observation record per trap per date, with\n",
    "# a total sum of NumMosquitos\n",
    "\n",
    "\n",
    "\n",
    "test = test[['Trap','Latitude','Longitude','Date','Species']]"
   ]
  },
  {
   "cell_type": "code",
   "execution_count": 6,
   "metadata": {
    "collapsed": false
   },
   "outputs": [],
   "source": [
    "### converting datetime\n",
    "\n",
    "test.Date = pd.to_datetime(test.Date)\n",
    "\n",
    "# Create dummies for Species\n",
    "dummies = pd.get_dummies(test, columns=['Species'])\n",
    "\n",
    "# Create a new df with the dummies\n",
    "traps_2_cols = test.columns.drop('Species')\n",
    "test_2 = pd.concat([test[traps_2_cols],dummies])\n",
    "\n",
    "# Weather data:\n",
    "# the PrecipTotal column contains the letter 'T' in some rows\n",
    "# this indicates a 'trace' amount of precipitation, which is\n",
    "# defined as less than 0.005\n",
    "# 'M' indicates missing data\n",
    "# 'PrecipTotal','Tavg'"
   ]
  },
  {
   "cell_type": "code",
   "execution_count": null,
   "metadata": {
    "collapsed": false
   },
   "outputs": [],
   "source": [
    "test_backup = test\n",
    "test = test_2\n",
    "## Applying weather data\n",
    "test['Tmax'] = weather_add(test, weather_col='Tmax', func=np.mean)\n",
    "test['Tmin'] = weather_add(test, weather_col='Tmin', func=np.mean)\n",
    "test['rain'] = weather_add(test, weather_col='PrecipTotal', func= np.sum)\n",
    "test['Tmax_3'] = weather_add(test, weather_col='Tmax', func=np.mean, days_range=3)\n",
    "test['Tmax_20'] = weather_add(test, weather_col='Tmax',func=np.mean, days_range=20)"
   ]
  },
  {
   "cell_type": "code",
   "execution_count": null,
   "metadata": {
    "collapsed": false
   },
   "outputs": [],
   "source": [
    "for col in ['Tavg','DewPoint','WetBulb','CodeSum','StnPressure','SeaLevel', 'ResultSpeed', 'ResultDir','AvgSpeed']:\n",
    "    test[col] = weather_add(test, weather_col=col, func=np.mean)\n",
    "\n",
    "## Spray data\n",
    "# add_spray_data(test)"
   ]
  },
  {
   "cell_type": "code",
   "execution_count": null,
   "metadata": {
    "collapsed": true
   },
   "outputs": [],
   "source": [
    "## Export the tranformed test data to a folder in the repo \n",
    "## so we don't have to run the above cells every time\n",
    "## data is not scaled in this csv\n",
    "## only the weather data has been added\n",
    "## includes species dummies\n",
    "test.to_csv('./assets/Test_transformed/test_transformed_jd.csv',sep=',', encoding='utf-8')"
   ]
  },
  {
   "cell_type": "code",
   "execution_count": null,
   "metadata": {
    "collapsed": true
   },
   "outputs": [],
   "source": [
    "# test = pd.read_csv('./assets/Test_transformed/test_transformed.csv')"
   ]
  },
  {
   "cell_type": "code",
   "execution_count": null,
   "metadata": {
    "collapsed": true
   },
   "outputs": [],
   "source": [
    "from sklearn.preprocessing import MinMaxScaler, StandardScaler\n",
    "\n",
    "features = test.columns.drop(['Species','Date','Trap'])\n",
    "\n",
    "traps_minmax = pd.DataFrame(MinMaxScaler().fit_transform(test[features]),columns=features)\n",
    "\n",
    "X = traps_minmax[features]\n",
    "y = traps.WnvPresent\n",
    "\n",
    "# X_train, X_test, y_train, y_test = train_test_split(X, y,stratify=y, test_size=0.33, random_state=0)\n",
    "\n",
    "# RF = RandomForestClassifier(n_estimators = 5, bootstrap=True, max_depth=3,\n",
    "#                             max_features='auto',min_samples_leaf= 1, min_samples_split= 4)\n",
    "# RF_model= RF.fit(X_train,y_train)\n",
    "score_model(RF_model)"
   ]
  },
  {
   "cell_type": "code",
   "execution_count": 25,
   "metadata": {
    "collapsed": true
   },
   "outputs": [
    {
     "data": {
      "text/html": [
       "<div>\n",
       "<table border=\"1\" class=\"dataframe\">\n",
       "  <thead>\n",
       "    <tr style=\"text-align: right;\">\n",
       "      <th></th>\n",
       "      <th>Id</th>\n",
       "      <th>Date</th>\n",
       "      <th>Address</th>\n",
       "      <th>Species</th>\n",
       "      <th>Block</th>\n",
       "      <th>Street</th>\n",
       "      <th>Trap</th>\n",
       "      <th>AddressNumberAndStreet</th>\n",
       "      <th>Latitude</th>\n",
       "      <th>Longitude</th>\n",
       "      <th>AddressAccuracy</th>\n",
       "      <th>Tmax</th>\n",
       "      <th>Tmin</th>\n",
       "      <th>rain</th>\n",
       "      <th>Tmax_3</th>\n",
       "      <th>Tmax_20</th>\n",
       "      <th>Spray</th>\n",
       "      <th>Spray_Days_Ago</th>\n",
       "    </tr>\n",
       "  </thead>\n",
       "  <tbody>\n",
       "    <tr>\n",
       "      <th>0</th>\n",
       "      <td>1</td>\n",
       "      <td>2008-06-11</td>\n",
       "      <td>4100 North Oak Park Avenue, Chicago, IL 60634,...</td>\n",
       "      <td>CULEX PIPIENS/RESTUANS</td>\n",
       "      <td>41</td>\n",
       "      <td>N OAK PARK AVE</td>\n",
       "      <td>T002</td>\n",
       "      <td>4100  N OAK PARK AVE, Chicago, IL</td>\n",
       "      <td>41.95469</td>\n",
       "      <td>-87.800991</td>\n",
       "      <td>9</td>\n",
       "      <td>82.75</td>\n",
       "      <td>64.5625</td>\n",
       "      <td>4.015</td>\n",
       "      <td>81.375</td>\n",
       "      <td>74.833333</td>\n",
       "      <td>NaN</td>\n",
       "      <td>NaN</td>\n",
       "    </tr>\n",
       "    <tr>\n",
       "      <th>1</th>\n",
       "      <td>2</td>\n",
       "      <td>2008-06-11</td>\n",
       "      <td>4100 North Oak Park Avenue, Chicago, IL 60634,...</td>\n",
       "      <td>CULEX RESTUANS</td>\n",
       "      <td>41</td>\n",
       "      <td>N OAK PARK AVE</td>\n",
       "      <td>T002</td>\n",
       "      <td>4100  N OAK PARK AVE, Chicago, IL</td>\n",
       "      <td>41.95469</td>\n",
       "      <td>-87.800991</td>\n",
       "      <td>9</td>\n",
       "      <td>82.75</td>\n",
       "      <td>64.5625</td>\n",
       "      <td>4.015</td>\n",
       "      <td>81.375</td>\n",
       "      <td>74.833333</td>\n",
       "      <td>NaN</td>\n",
       "      <td>NaN</td>\n",
       "    </tr>\n",
       "  </tbody>\n",
       "</table>\n",
       "</div>"
      ],
      "text/plain": [
       "   Id       Date                                            Address  \\\n",
       "0   1 2008-06-11  4100 North Oak Park Avenue, Chicago, IL 60634,...   \n",
       "1   2 2008-06-11  4100 North Oak Park Avenue, Chicago, IL 60634,...   \n",
       "\n",
       "                  Species  Block           Street  Trap  \\\n",
       "0  CULEX PIPIENS/RESTUANS     41   N OAK PARK AVE  T002   \n",
       "1          CULEX RESTUANS     41   N OAK PARK AVE  T002   \n",
       "\n",
       "              AddressNumberAndStreet  Latitude  Longitude  AddressAccuracy  \\\n",
       "0  4100  N OAK PARK AVE, Chicago, IL  41.95469 -87.800991                9   \n",
       "1  4100  N OAK PARK AVE, Chicago, IL  41.95469 -87.800991                9   \n",
       "\n",
       "    Tmax     Tmin   rain  Tmax_3    Tmax_20  Spray  Spray_Days_Ago  \n",
       "0  82.75  64.5625  4.015  81.375  74.833333    NaN             NaN  \n",
       "1  82.75  64.5625  4.015  81.375  74.833333    NaN             NaN  "
      ]
     },
     "execution_count": 25,
     "metadata": {},
     "output_type": "execute_result"
    }
   ],
   "source": [
    "test.head(2)"
   ]
  },
  {
   "cell_type": "code",
   "execution_count": 47,
   "metadata": {
    "collapsed": false
   },
   "outputs": [],
   "source": [
    "test_X = test[features]"
   ]
  },
  {
   "cell_type": "markdown",
   "metadata": {},
   "source": [
    "# Exporting to test"
   ]
  },
  {
   "cell_type": "code",
   "execution_count": null,
   "metadata": {
    "collapsed": false
   },
   "outputs": [],
   "source": [
    "###This function will takes a model and a model name(as a string), generate predictions, \n",
    "### and save that as a CSV labeled with the model name and date.\n",
    "import time \n",
    "import math\n",
    "def model_and_export(model, model_name):\n",
    "    predictions = model.predict(test)\n",
    "    indexes=np.arange(1, len(predictions)+1, 1)\n",
    "    preds_df = pd.DataFrame(data=[indexes, predictions]).T\n",
    "    preds_df.columns =['Id','WnvPresent']\n",
    "    location = './submissions/{}_{}.csv'.format(model_name, time.strftime(\"%d_%m_%Y\"))\n",
    "    preds_df.to_csv(location, index=False)\n",
    "    return\n",
    "    "
   ]
  },
  {
   "cell_type": "code",
   "execution_count": null,
   "metadata": {
    "collapsed": false
   },
   "outputs": [],
   "source": [
    "model_and_export(RF_model, 'RF_test_JD')"
   ]
  },
  {
   "cell_type": "code",
   "execution_count": 77,
   "metadata": {
    "collapsed": true
   },
   "outputs": [],
   "source": [
    "model_and_export(svm_model, 'SVM')"
   ]
  },
  {
   "cell_type": "markdown",
   "metadata": {},
   "source": [
    "You can test the model by submitting the results CSV to :\n",
    "\n",
    "https://www.kaggle.com/c/predict-west-nile-virus/submit\n",
    "\n",
    "please note that only 5 submission can be made per day. \n",
    "\n",
    "Make note of the model and score below:\n",
    "\n",
    "\n"
   ]
  },
  {
   "cell_type": "code",
   "execution_count": 28,
   "metadata": {
    "collapsed": true
   },
   "outputs": [],
   "source": [
    "model_and_export(ada_model, 'ADABoost')"
   ]
  },
  {
   "cell_type": "code",
   "execution_count": null,
   "metadata": {
    "collapsed": true
   },
   "outputs": [],
   "source": [
    "model_and_export(RF_model, 'RF_test_JD')"
   ]
  }
 ],
 "metadata": {
  "kernelspec": {
   "display_name": "Python 2",
   "language": "python",
   "name": "python2"
  },
  "language_info": {
   "codemirror_mode": {
    "name": "ipython",
    "version": 2
   },
   "file_extension": ".py",
   "mimetype": "text/x-python",
   "name": "python",
   "nbconvert_exporter": "python",
   "pygments_lexer": "ipython2",
   "version": "2.7.13"
  }
 },
 "nbformat": 4,
 "nbformat_minor": 2
}
