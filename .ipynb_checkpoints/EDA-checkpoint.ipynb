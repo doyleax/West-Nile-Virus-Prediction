{
 "cells": [
  {
   "cell_type": "code",
   "execution_count": 156,
   "metadata": {
    "collapsed": false
   },
   "outputs": [],
   "source": [
    "import pandas as pd\n",
    "from matplotlib import pyplot as plt\n",
    "import numpy as np\n",
    "# pip install pandas-profiling\n",
    "import pandas_profiling as pdp\n",
    "import seaborn as sns\n",
    "%matplotlib inline\n",
    "import time\n",
    "\n",
    "traps = pd.read_csv('assets/train.csv')\n",
    "spray = pd.read_csv('assets/spray.csv')\n",
    "weather = pd.read_csv('assets/weather.csv')"
   ]
  },
  {
   "cell_type": "markdown",
   "metadata": {},
   "source": [
    "# Preliminary EDA"
   ]
  },
  {
   "cell_type": "code",
   "execution_count": 157,
   "metadata": {
    "collapsed": true
   },
   "outputs": [],
   "source": [
    "# pdp.ProfileReport(traps)\n",
    "# pdp.ProfileReport(spray)\n",
    "# pdp.ProfileReport(weather)\n",
    "\n",
    "# sns.pairplot(traps)\n",
    "# sns.pairplot(spray)\n",
    "# sns.pairplot(weather)"
   ]
  },
  {
   "cell_type": "code",
   "execution_count": 158,
   "metadata": {
    "collapsed": false
   },
   "outputs": [
    {
     "data": {
      "image/png": "[encoded data removed]",
      "text/plain": [
       "<matplotlib.figure.Figure at 0x11a88ee50>"
      ]
     },
     "metadata": {},
     "output_type": "display_data"
    }
   ],
   "source": [
    "def find_correlation(data,title):\n",
    "    correlation = data.corr()\n",
    "    sns.heatmap(correlation, vmax=.8, square=True)\n",
    "    plt.title(title)\n",
    "\n",
    "find_correlation(traps, 'Traps')"
   ]
  },
  {
   "cell_type": "code",
   "execution_count": 159,
   "metadata": {
    "collapsed": false
   },
   "outputs": [
    {
     "data": {
      "text/plain": [
       "CULEX PIPIENS/RESTUANS    4752\n",
       "CULEX RESTUANS            2740\n",
       "CULEX PIPIENS             2699\n",
       "CULEX TERRITANS            222\n",
       "CULEX SALINARIUS            86\n",
       "CULEX TARSALIS               6\n",
       "CULEX ERRATICUS              1\n",
       "Name: Species, dtype: int64"
      ]
     },
     "execution_count": 159,
     "metadata": {},
     "output_type": "execute_result"
    }
   ],
   "source": [
    "traps.Species.value_counts()"
   ]
  },
  {
   "cell_type": "code",
   "execution_count": 160,
   "metadata": {
    "collapsed": false
   },
   "outputs": [
    {
     "data": {
      "text/html": [
       "<div>\n",
       "<table border=\"1\" class=\"dataframe\">\n",
       "  <thead>\n",
       "    <tr style=\"text-align: right;\">\n",
       "      <th></th>\n",
       "      <th>Station</th>\n",
       "      <th>Date</th>\n",
       "      <th>Tmax</th>\n",
       "      <th>Tmin</th>\n",
       "      <th>Tavg</th>\n",
       "      <th>Depart</th>\n",
       "      <th>DewPoint</th>\n",
       "      <th>WetBulb</th>\n",
       "      <th>Heat</th>\n",
       "      <th>Cool</th>\n",
       "      <th>...</th>\n",
       "      <th>CodeSum</th>\n",
       "      <th>Depth</th>\n",
       "      <th>Water1</th>\n",
       "      <th>SnowFall</th>\n",
       "      <th>PrecipTotal</th>\n",
       "      <th>StnPressure</th>\n",
       "      <th>SeaLevel</th>\n",
       "      <th>ResultSpeed</th>\n",
       "      <th>ResultDir</th>\n",
       "      <th>AvgSpeed</th>\n",
       "    </tr>\n",
       "  </thead>\n",
       "  <tbody>\n",
       "    <tr>\n",
       "      <th>0</th>\n",
       "      <td>1</td>\n",
       "      <td>2007-05-01</td>\n",
       "      <td>83</td>\n",
       "      <td>50</td>\n",
       "      <td>67</td>\n",
       "      <td>14</td>\n",
       "      <td>51</td>\n",
       "      <td>56</td>\n",
       "      <td>0</td>\n",
       "      <td>2</td>\n",
       "      <td>...</td>\n",
       "      <td></td>\n",
       "      <td>0</td>\n",
       "      <td>M</td>\n",
       "      <td>0.0</td>\n",
       "      <td>0.00</td>\n",
       "      <td>29.10</td>\n",
       "      <td>29.82</td>\n",
       "      <td>1.7</td>\n",
       "      <td>27</td>\n",
       "      <td>9.2</td>\n",
       "    </tr>\n",
       "    <tr>\n",
       "      <th>1</th>\n",
       "      <td>2</td>\n",
       "      <td>2007-05-01</td>\n",
       "      <td>84</td>\n",
       "      <td>52</td>\n",
       "      <td>68</td>\n",
       "      <td>M</td>\n",
       "      <td>51</td>\n",
       "      <td>57</td>\n",
       "      <td>0</td>\n",
       "      <td>3</td>\n",
       "      <td>...</td>\n",
       "      <td></td>\n",
       "      <td>M</td>\n",
       "      <td>M</td>\n",
       "      <td>M</td>\n",
       "      <td>0.00</td>\n",
       "      <td>29.18</td>\n",
       "      <td>29.82</td>\n",
       "      <td>2.7</td>\n",
       "      <td>25</td>\n",
       "      <td>9.6</td>\n",
       "    </tr>\n",
       "  </tbody>\n",
       "</table>\n",
       "<p>2 rows × 22 columns</p>\n",
       "</div>"
      ],
      "text/plain": [
       "   Station        Date  Tmax  Tmin Tavg Depart  DewPoint WetBulb Heat Cool  \\\n",
       "0        1  2007-05-01    83    50   67     14        51      56    0    2   \n",
       "1        2  2007-05-01    84    52   68      M        51      57    0    3   \n",
       "\n",
       "     ...    CodeSum Depth Water1 SnowFall PrecipTotal StnPressure SeaLevel  \\\n",
       "0    ...                0      M      0.0        0.00       29.10    29.82   \n",
       "1    ...                M      M        M        0.00       29.18    29.82   \n",
       "\n",
       "  ResultSpeed ResultDir  AvgSpeed  \n",
       "0         1.7        27       9.2  \n",
       "1         2.7        25       9.6  \n",
       "\n",
       "[2 rows x 22 columns]"
      ]
     },
     "execution_count": 160,
     "metadata": {},
     "output_type": "execute_result"
    }
   ],
   "source": [
    "weather.head(2)"
   ]
  },
  {
   "cell_type": "code",
   "execution_count": 161,
   "metadata": {
    "collapsed": false
   },
   "outputs": [
    {
     "data": {
      "text/plain": [
       "Station        0\n",
       "Date           0\n",
       "Tmax           0\n",
       "Tmin           0\n",
       "Tavg           0\n",
       "Depart         0\n",
       "DewPoint       0\n",
       "WetBulb        0\n",
       "Heat           0\n",
       "Cool           0\n",
       "Sunrise        0\n",
       "Sunset         0\n",
       "CodeSum        0\n",
       "Depth          0\n",
       "Water1         0\n",
       "SnowFall       0\n",
       "PrecipTotal    0\n",
       "StnPressure    0\n",
       "SeaLevel       0\n",
       "ResultSpeed    0\n",
       "ResultDir      0\n",
       "AvgSpeed       0\n",
       "dtype: int64"
      ]
     },
     "execution_count": 161,
     "metadata": {},
     "output_type": "execute_result"
    }
   ],
   "source": [
    "weather.isnull().sum()"
   ]
  },
  {
   "cell_type": "code",
   "execution_count": 162,
   "metadata": {
    "collapsed": false
   },
   "outputs": [
    {
     "data": {
      "text/plain": [
       "29.34    128\n",
       "29.28    124\n",
       "29.26    123\n",
       "29.21    107\n",
       "29.31    106\n",
       "29.23    104\n",
       "29.36     96\n",
       "29.41     91\n",
       "29.39     89\n",
       "29.29     86\n",
       "29.18     86\n",
       "29.24     82\n",
       "29.33     81\n",
       "29.44     70\n",
       "29.13     64\n",
       "29.38     64\n",
       "29.15     62\n",
       "29.20     60\n",
       "29.47     57\n",
       "29.16     55\n",
       "29.25     52\n",
       "29.10     49\n",
       "29.35     48\n",
       "29.49     46\n",
       "29.08     41\n",
       "29.42     41\n",
       "29.19     39\n",
       "29.30     37\n",
       "29.40     37\n",
       "29.32     36\n",
       "        ... \n",
       "M          4\n",
       "28.79      4\n",
       "28.91      4\n",
       "29.66      4\n",
       "29.67      4\n",
       "29.68      3\n",
       "28.94      3\n",
       "28.96      3\n",
       "28.80      3\n",
       "28.82      3\n",
       "28.93      3\n",
       "28.99      3\n",
       "28.81      2\n",
       "28.71      2\n",
       "28.84      2\n",
       "28.85      2\n",
       "28.69      1\n",
       "28.77      1\n",
       "29.86      1\n",
       "28.88      1\n",
       "28.67      1\n",
       "28.63      1\n",
       "28.75      1\n",
       "28.73      1\n",
       "28.83      1\n",
       "28.55      1\n",
       "29.71      1\n",
       "29.79      1\n",
       "28.74      1\n",
       "28.59      1\n",
       "Name: StnPressure, dtype: int64"
      ]
     },
     "execution_count": 162,
     "metadata": {},
     "output_type": "execute_result"
    }
   ],
   "source": [
    "weather.StnPressure.value_counts()"
   ]
  },
  {
   "cell_type": "code",
   "execution_count": 163,
   "metadata": {
    "collapsed": false
   },
   "outputs": [
    {
     "data": {
      "text/plain": [
       "Date           0\n",
       "Time         584\n",
       "Latitude       0\n",
       "Longitude      0\n",
       "dtype: int64"
      ]
     },
     "execution_count": 163,
     "metadata": {},
     "output_type": "execute_result"
    }
   ],
   "source": [
    "spray.isnull().sum()"
   ]
  },
  {
   "cell_type": "markdown",
   "metadata": {},
   "source": [
    "# Data Transformation"
   ]
  },
  {
   "cell_type": "markdown",
   "metadata": {},
   "source": [
    "## Modify columns"
   ]
  },
  {
   "cell_type": "code",
   "execution_count": 164,
   "metadata": {
    "collapsed": true
   },
   "outputs": [],
   "source": [
    "import datetime\n",
    "# Convert Date columns to actual date data type\n",
    "traps.Date = pd.to_datetime(traps.Date)\n",
    "spray.Date = pd.to_datetime(spray.Date)\n",
    "weather.Date = pd.to_datetime(weather.Date)"
   ]
  },
  {
   "cell_type": "code",
   "execution_count": 173,
   "metadata": {
    "collapsed": true
   },
   "outputs": [],
   "source": [
    "# Create dummies for Species\n",
    "dummies = pd.get_dummies(traps, columns=['Species'])\n",
    "traps = pd.concat([traps, pd.get_dummies(traps['Species'])], axis=1)\n",
    "\n",
    "\n",
    "# # Create a new df with the dummies\n",
    "# traps_2_cols = traps.columns.drop('Species')\n",
    "# traps_2 = pd.concat([traps[traps_2_cols],dummies])"
   ]
  },
  {
   "cell_type": "code",
   "execution_count": 182,
   "metadata": {
    "collapsed": false
   },
   "outputs": [],
   "source": [
    "## Add Month\n",
    "\n",
    "traps['month']=traps['Date'].dt.month"
   ]
  },
  {
   "cell_type": "code",
   "execution_count": 167,
   "metadata": {
    "collapsed": false
   },
   "outputs": [],
   "source": [
    "\n",
    "# Weather data:\n",
    "# the PrecipTotal column contains the letter 'T' in some rows\n",
    "# this indicates a 'trace' amount of precipitation, which is\n",
    "# defined as less than 0.005\n",
    "# 'M' indicates missing data\n",
    "weather.PrecipTotal = weather.PrecipTotal.str.replace('T','0.005')\n",
    "weather.PrecipTotal = weather.PrecipTotal.str.replace('M','0.0')\n",
    "weather.PrecipTotal = weather.PrecipTotal.astype(float)"
   ]
  },
  {
   "cell_type": "markdown",
   "metadata": {},
   "source": [
    "## Grouping records from same trap, same day inspection"
   ]
  },
  {
   "cell_type": "code",
   "execution_count": 168,
   "metadata": {
    "collapsed": true
   },
   "outputs": [],
   "source": [
    "# Because records are capped at 50 mosquitos,\n",
    "# we are grouping the data to obtain a unique\n",
    "# observation record per trap per date, with\n",
    "# a total sum of NumMosquitos\n",
    "\n",
    "traps = traps[['Trap',\n",
    "               'Latitude',\n",
    "               'Longitude',\n",
    "               'Date',\n",
    "               'Species',\n",
    "               'WnvPresent',\n",
    "               'NumMosquitos']].groupby(['Trap',\n",
    "                                         'Latitude',\n",
    "                                         'Longitude',\n",
    "                                         'Date', \n",
    "                                         'Species',\n",
    "                                         'WnvPresent']).agg({'NumMosquitos':np.sum}).reset_index()"
   ]
  },
  {
   "cell_type": "markdown",
   "metadata": {
    "collapsed": true
   },
   "source": [
    "## Applying the weather data to the dataframe"
   ]
  },
  {
   "cell_type": "code",
   "execution_count": 169,
   "metadata": {
    "collapsed": true
   },
   "outputs": [],
   "source": [
    "## This function takes three arguments:\n",
    "## The column name as a string from weather dataframe that we want to extract\n",
    "## a numpy function that we want to do to the data\n",
    "## an integer number of previous days to extract\n",
    "\n",
    "def weather_add(df, weather_col, func, days_range=7):\n",
    "    new_list = []\n",
    "    for i in df['Date']:\n",
    "        mask = (weather['Date'] <= i) & (weather['Date'] >= i - pd.Timedelta(days=days_range))\n",
    "        data_list = func(weather[weather_col][mask])\n",
    "        new_list.append(data_list)\n",
    "    return new_list"
   ]
  },
  {
   "cell_type": "code",
   "execution_count": 170,
   "metadata": {
    "collapsed": true
   },
   "outputs": [],
   "source": [
    "## running this cell will extract the average temp min, average temp max, and precipitation sum \n",
    "## to the traps dataframe from the previous 7 days.\n",
    "\n",
    "traps['Tmax'] = weather_add(traps, weather_col='Tmax', func=np.mean)\n",
    "traps['Tmin'] = weather_add(traps, weather_col='Tmin', func=np.mean)\n",
    "traps['rain'] = weather_add(traps, weather_col='PrecipTotal', func= np.sum)\n",
    "traps['Tmax_3'] = weather_add(traps, weather_col='Tmax', func=np.mean, days_range=3)\n",
    "traps['Tmax_20'] = weather_add(traps, weather_col='Tmax',func=np.mean, days_range=20)\n",
    "traps['Dew']= weather_add(traps, weather_col ='DewPoint', func=np.mean, days_range = 10)\n",
    "traps['Tmin_3'] = weather_add(traps, weather_col='Tmin', func=np.mean, days_range=3)\n",
    "traps['Tmin_20'] = weather_add(traps, weather_col='Tmin', func=np.mean, days_range=20)\n",
    "# traps['pressure'] = weather_add(traps, weather_col='StnPressure', func=np.mean, days_range = 3)"
   ]
  },
  {
   "cell_type": "markdown",
   "metadata": {},
   "source": [
    "## Applying the spray data to the dataframe"
   ]
  },
  {
   "cell_type": "code",
   "execution_count": null,
   "metadata": {
    "collapsed": false
   },
   "outputs": [],
   "source": [
    "from geopy.distance import vincenty\n",
    "\n",
    "def add_spray_data(traps):\n",
    "\n",
    "    from geopy.distance import vincenty\n",
    "    ## create a feature displaying the closest spray to the trap where applicable\n",
    "    ## takes about 10 minutes to run so beware\n",
    "    traps['Spray'] = np.NaN\n",
    "    traps['Spray_Days_Ago'] = np.NaN\n",
    "\n",
    "    ## get trap observations for dates with spray data\n",
    "    traps_sprayed = traps[traps.Date>=min(spray.Date)].index.values\n",
    "\n",
    "    start= datetime.datetime.now()\n",
    "    print start\n",
    "\n",
    "    remaining = len(traps_sprayed)\n",
    "\n",
    "    for i in traps_sprayed:\n",
    "\n",
    "        trap_lat = traps.Latitude.loc[i]\n",
    "        trap_long = traps.Longitude.loc[i]\n",
    "        # record the date of a week prior to the inspection\n",
    "        trap_week_ago = traps.Date.loc[i] - pd.Timedelta(days=7)\n",
    "        dist = []\n",
    "        # for each dated trap inspection, select only the spray records within a week prior to the inspection\n",
    "        spray_temp = spray[['Latitude','Longitude','Date']][(spray.Date >= trap_week_ago) & (spray.Date<=traps.Date.loc[i])]\n",
    "        remaining-=1\n",
    "        print str(remaining),' remaining'\n",
    "\n",
    "        # run through each coordinate in the spray data and record the distance\n",
    "        for j in range(0,len(spray_temp)):\n",
    "            spray_lat = spray_temp.Latitude.iloc[j] \n",
    "            spray_long = spray_temp.Longitude.iloc[j]\n",
    "            a = (trap_lat, trap_long)\n",
    "            b = (spray_lat, spray_long)\n",
    "            # calculate the distance between the points\n",
    "            dist.append(vincenty(a, b).miles)\n",
    "        try:\n",
    "            # set the spray value to the shortest distance\n",
    "            traps.Spray.loc[i] = min(dist)\n",
    "            dt = dist.index(min(dist))\n",
    "            spray_dt = spray_temp.Date.iloc[dt]\n",
    "            traps['Spray_Days_Ago'].loc[i] = pd.Timedelta(traps.Date.loc[i]-spray_dt).days\n",
    "        except:\n",
    "            pass\n",
    "\n",
    "    elapsed = datetime.datetime.now() - start\n",
    "    print elapsed        "
   ]
  },
  {
   "cell_type": "code",
   "execution_count": 16,
   "metadata": {
    "collapsed": false
   },
   "outputs": [
    {
     "ename": "NameError",
     "evalue": "name 'add_spray_data' is not defined",
     "output_type": "error",
     "traceback": [
      "\u001b[0;31m---------------------------------------------------------------------------\u001b[0m",
      "\u001b[0;31mNameError\u001b[0m                                 Traceback (most recent call last)",
      "\u001b[0;32m<ipython-input-16-657ce1ba26ca>\u001b[0m in \u001b[0;36m<module>\u001b[0;34m()\u001b[0m\n\u001b[0;32m----> 1\u001b[0;31m \u001b[0madd_spray_data\u001b[0m\u001b[0;34m(\u001b[0m\u001b[0mtraps\u001b[0m\u001b[0;34m)\u001b[0m\u001b[0;34m\u001b[0m\u001b[0m\n\u001b[0m",
      "\u001b[0;31mNameError\u001b[0m: name 'add_spray_data' is not defined"
     ]
    }
   ],
   "source": [
    "add_spray_data(traps)"
   ]
  },
  {
   "cell_type": "code",
   "execution_count": null,
   "metadata": {
    "collapsed": true
   },
   "outputs": [],
   "source": [
    "# traps.to_csv('/Users/jennydoyle/Desktop/dsi/West-Nile-Virus-Prediction/assets/traps_spray_distance.csv',sep=',', encoding='utf-8')"
   ]
  },
  {
   "cell_type": "code",
   "execution_count": 174,
   "metadata": {
    "collapsed": false
   },
   "outputs": [
    {
     "data": {
      "image/png": "[encoded data removed]",
      "text/plain": [
       "<matplotlib.figure.Figure at 0x1148bc850>"
      ]
     },
     "metadata": {},
     "output_type": "display_data"
    }
   ],
   "source": [
    "## Check out how the correlation map changes with our new features\n",
    "find_correlation(traps, 'Traps')"
   ]
  },
  {
   "cell_type": "markdown",
   "metadata": {},
   "source": [
    "## Scale the Data "
   ]
  },
  {
   "cell_type": "code",
   "execution_count": null,
   "metadata": {
    "collapsed": false
   },
   "outputs": [],
   "source": [
    "from sklearn.preprocessing import MinMaxScaler\n",
    "\n",
    "# how do we reconcile null distances for nearest spray?\n",
    "# setting them to zero implies the spray is super close\n",
    "# this cell is still in progress... \n",
    "max_dist = max(traps.spray)+100\n",
    "traps.spray = traps.spray.fillna(max_dist)\n",
    "\n",
    "features = traps.columns.drop(['Species','Date','Trap'])\n",
    "\n",
    "traps[features].head()\n",
    "\n",
    "traps_rescaled =  pd.DataFrame(MinMaxScaler().fit_transform(traps[features]),columns=features)\n",
    "traps_rescaled.concat(traps[['Species','Date','Trap']])\n",
    "\n",
    "traps['spray_scaled'] = np.NaN           \n",
    "min_dist = min(traps.spray)\n",
    "traps.spray_scaled = traps.spray.map(lambda x: x/float(max_dist))   \n",
    "\n",
    "traps[['spray_scaled','spray']].sort('spray')"
   ]
  },
  {
   "cell_type": "code",
   "execution_count": 183,
   "metadata": {
    "collapsed": false
   },
   "outputs": [],
   "source": [
    "## Save the transformed files so we don't have to run the earlier cells\n",
    "\n",
    "traps.to_csv('./assets/Train_transformed/traps.csv', encoding='utf-8', index=False)"
   ]
  },
  {
   "cell_type": "code",
   "execution_count": 213,
   "metadata": {
    "collapsed": false
   },
   "outputs": [],
   "source": [
    "##re-import the altered traps file\n",
    "\n",
    "traps = pd.read_csv('./assets/Train_transformed/traps.csv')"
   ]
  },
  {
   "cell_type": "markdown",
   "metadata": {},
   "source": [
    "# Feature Selection"
   ]
  },
  {
   "cell_type": "code",
   "execution_count": 214,
   "metadata": {
    "collapsed": false
   },
   "outputs": [
    {
     "data": {
      "text/plain": [
       "Index([u'Trap', u'Latitude', u'Longitude', u'Date', u'Species', u'WnvPresent',\n",
       "       u'NumMosquitos', u'Tmax', u'Tmin', u'rain', u'Tmax_3', u'Tmax_20',\n",
       "       u'Dew', u'Tmin_3', u'Tmin_20', u'CULEX ERRATICUS', u'CULEX PIPIENS',\n",
       "       u'CULEX PIPIENS/RESTUANS', u'CULEX RESTUANS', u'CULEX SALINARIUS',\n",
       "       u'CULEX TARSALIS', u'CULEX TERRITANS', u'month'],\n",
       "      dtype='object')"
      ]
     },
     "execution_count": 214,
     "metadata": {},
     "output_type": "execute_result"
    }
   ],
   "source": [
    "traps.columns"
   ]
  },
  {
   "cell_type": "code",
   "execution_count": 215,
   "metadata": {
    "collapsed": false
   },
   "outputs": [],
   "source": [
    "features = [\n",
    "    'rain','Tmax_3','Tmax', 'Dew', 'Tmin', 'Tmin_3', 'month',\n",
    "#             'WetBulb_y', 'StnPressure_y','AvgSpeed_y','Tmin_x','Tmax_x','PrecipTotal_x'\n",
    "#             'Latitude','Longitude',\n",
    "            'CULEX ERRATICUS','CULEX PIPIENS','CULEX PIPIENS/RESTUANS','CULEX PIPIENS/RESTUANS',\n",
    "           'CULEX SALINARIUS','CULEX TARSALIS','CULEX TERRITANS'\n",
    "           ]"
   ]
  },
  {
   "cell_type": "code",
   "execution_count": 216,
   "metadata": {
    "collapsed": false
   },
   "outputs": [
    {
     "ename": "KeyError",
     "evalue": "'Spray'",
     "output_type": "error",
     "traceback": [
      "\u001b[0;31m---------------------------------------------------------------------------\u001b[0m",
      "\u001b[0;31mKeyError\u001b[0m                                  Traceback (most recent call last)",
      "\u001b[0;32m<ipython-input-216-de4f89ca6163>\u001b[0m in \u001b[0;36m<module>\u001b[0;34m()\u001b[0m\n\u001b[0;32m----> 1\u001b[0;31m \u001b[0mtraps\u001b[0m\u001b[0;34m[\u001b[0m\u001b[0;34m'Spray'\u001b[0m\u001b[0;34m]\u001b[0m\u001b[0;34m.\u001b[0m\u001b[0misnull\u001b[0m\u001b[0;34m(\u001b[0m\u001b[0;34m)\u001b[0m\u001b[0;34m.\u001b[0m\u001b[0msum\u001b[0m\u001b[0;34m(\u001b[0m\u001b[0;34m)\u001b[0m\u001b[0;34m/\u001b[0m\u001b[0mfloat\u001b[0m\u001b[0;34m(\u001b[0m\u001b[0mlen\u001b[0m\u001b[0;34m(\u001b[0m\u001b[0mtraps\u001b[0m\u001b[0;34m[\u001b[0m\u001b[0;34m'Spray'\u001b[0m\u001b[0;34m]\u001b[0m\u001b[0;34m)\u001b[0m\u001b[0;34m)\u001b[0m\u001b[0;34m\u001b[0m\u001b[0m\n\u001b[0m",
      "\u001b[0;32m//anaconda/lib/python2.7/site-packages/pandas/core/frame.pyc\u001b[0m in \u001b[0;36m__getitem__\u001b[0;34m(self, key)\u001b[0m\n\u001b[1;32m   2057\u001b[0m             \u001b[0;32mreturn\u001b[0m \u001b[0mself\u001b[0m\u001b[0;34m.\u001b[0m\u001b[0m_getitem_multilevel\u001b[0m\u001b[0;34m(\u001b[0m\u001b[0mkey\u001b[0m\u001b[0;34m)\u001b[0m\u001b[0;34m\u001b[0m\u001b[0m\n\u001b[1;32m   2058\u001b[0m         \u001b[0;32melse\u001b[0m\u001b[0;34m:\u001b[0m\u001b[0;34m\u001b[0m\u001b[0m\n\u001b[0;32m-> 2059\u001b[0;31m             \u001b[0;32mreturn\u001b[0m \u001b[0mself\u001b[0m\u001b[0;34m.\u001b[0m\u001b[0m_getitem_column\u001b[0m\u001b[0;34m(\u001b[0m\u001b[0mkey\u001b[0m\u001b[0;34m)\u001b[0m\u001b[0;34m\u001b[0m\u001b[0m\n\u001b[0m\u001b[1;32m   2060\u001b[0m \u001b[0;34m\u001b[0m\u001b[0m\n\u001b[1;32m   2061\u001b[0m     \u001b[0;32mdef\u001b[0m \u001b[0m_getitem_column\u001b[0m\u001b[0;34m(\u001b[0m\u001b[0mself\u001b[0m\u001b[0;34m,\u001b[0m \u001b[0mkey\u001b[0m\u001b[0;34m)\u001b[0m\u001b[0;34m:\u001b[0m\u001b[0;34m\u001b[0m\u001b[0m\n",
      "\u001b[0;32m//anaconda/lib/python2.7/site-packages/pandas/core/frame.pyc\u001b[0m in \u001b[0;36m_getitem_column\u001b[0;34m(self, key)\u001b[0m\n\u001b[1;32m   2064\u001b[0m         \u001b[0;31m# get column\u001b[0m\u001b[0;34m\u001b[0m\u001b[0;34m\u001b[0m\u001b[0m\n\u001b[1;32m   2065\u001b[0m         \u001b[0;32mif\u001b[0m \u001b[0mself\u001b[0m\u001b[0;34m.\u001b[0m\u001b[0mcolumns\u001b[0m\u001b[0;34m.\u001b[0m\u001b[0mis_unique\u001b[0m\u001b[0;34m:\u001b[0m\u001b[0;34m\u001b[0m\u001b[0m\n\u001b[0;32m-> 2066\u001b[0;31m             \u001b[0;32mreturn\u001b[0m \u001b[0mself\u001b[0m\u001b[0;34m.\u001b[0m\u001b[0m_get_item_cache\u001b[0m\u001b[0;34m(\u001b[0m\u001b[0mkey\u001b[0m\u001b[0;34m)\u001b[0m\u001b[0;34m\u001b[0m\u001b[0m\n\u001b[0m\u001b[1;32m   2067\u001b[0m \u001b[0;34m\u001b[0m\u001b[0m\n\u001b[1;32m   2068\u001b[0m         \u001b[0;31m# duplicate columns & possible reduce dimensionality\u001b[0m\u001b[0;34m\u001b[0m\u001b[0;34m\u001b[0m\u001b[0m\n",
      "\u001b[0;32m//anaconda/lib/python2.7/site-packages/pandas/core/generic.pyc\u001b[0m in \u001b[0;36m_get_item_cache\u001b[0;34m(self, item)\u001b[0m\n\u001b[1;32m   1384\u001b[0m         \u001b[0mres\u001b[0m \u001b[0;34m=\u001b[0m \u001b[0mcache\u001b[0m\u001b[0;34m.\u001b[0m\u001b[0mget\u001b[0m\u001b[0;34m(\u001b[0m\u001b[0mitem\u001b[0m\u001b[0;34m)\u001b[0m\u001b[0;34m\u001b[0m\u001b[0m\n\u001b[1;32m   1385\u001b[0m         \u001b[0;32mif\u001b[0m \u001b[0mres\u001b[0m \u001b[0;32mis\u001b[0m \u001b[0mNone\u001b[0m\u001b[0;34m:\u001b[0m\u001b[0;34m\u001b[0m\u001b[0m\n\u001b[0;32m-> 1386\u001b[0;31m             \u001b[0mvalues\u001b[0m \u001b[0;34m=\u001b[0m \u001b[0mself\u001b[0m\u001b[0;34m.\u001b[0m\u001b[0m_data\u001b[0m\u001b[0;34m.\u001b[0m\u001b[0mget\u001b[0m\u001b[0;34m(\u001b[0m\u001b[0mitem\u001b[0m\u001b[0;34m)\u001b[0m\u001b[0;34m\u001b[0m\u001b[0m\n\u001b[0m\u001b[1;32m   1387\u001b[0m             \u001b[0mres\u001b[0m \u001b[0;34m=\u001b[0m \u001b[0mself\u001b[0m\u001b[0;34m.\u001b[0m\u001b[0m_box_item_values\u001b[0m\u001b[0;34m(\u001b[0m\u001b[0mitem\u001b[0m\u001b[0;34m,\u001b[0m \u001b[0mvalues\u001b[0m\u001b[0;34m)\u001b[0m\u001b[0;34m\u001b[0m\u001b[0m\n\u001b[1;32m   1388\u001b[0m             \u001b[0mcache\u001b[0m\u001b[0;34m[\u001b[0m\u001b[0mitem\u001b[0m\u001b[0;34m]\u001b[0m \u001b[0;34m=\u001b[0m \u001b[0mres\u001b[0m\u001b[0;34m\u001b[0m\u001b[0m\n",
      "\u001b[0;32m//anaconda/lib/python2.7/site-packages/pandas/core/internals.pyc\u001b[0m in \u001b[0;36mget\u001b[0;34m(self, item, fastpath)\u001b[0m\n\u001b[1;32m   3541\u001b[0m \u001b[0;34m\u001b[0m\u001b[0m\n\u001b[1;32m   3542\u001b[0m             \u001b[0;32mif\u001b[0m \u001b[0;32mnot\u001b[0m \u001b[0misnull\u001b[0m\u001b[0;34m(\u001b[0m\u001b[0mitem\u001b[0m\u001b[0;34m)\u001b[0m\u001b[0;34m:\u001b[0m\u001b[0;34m\u001b[0m\u001b[0m\n\u001b[0;32m-> 3543\u001b[0;31m                 \u001b[0mloc\u001b[0m \u001b[0;34m=\u001b[0m \u001b[0mself\u001b[0m\u001b[0;34m.\u001b[0m\u001b[0mitems\u001b[0m\u001b[0;34m.\u001b[0m\u001b[0mget_loc\u001b[0m\u001b[0;34m(\u001b[0m\u001b[0mitem\u001b[0m\u001b[0;34m)\u001b[0m\u001b[0;34m\u001b[0m\u001b[0m\n\u001b[0m\u001b[1;32m   3544\u001b[0m             \u001b[0;32melse\u001b[0m\u001b[0;34m:\u001b[0m\u001b[0;34m\u001b[0m\u001b[0m\n\u001b[1;32m   3545\u001b[0m                 \u001b[0mindexer\u001b[0m \u001b[0;34m=\u001b[0m \u001b[0mnp\u001b[0m\u001b[0;34m.\u001b[0m\u001b[0marange\u001b[0m\u001b[0;34m(\u001b[0m\u001b[0mlen\u001b[0m\u001b[0;34m(\u001b[0m\u001b[0mself\u001b[0m\u001b[0;34m.\u001b[0m\u001b[0mitems\u001b[0m\u001b[0;34m)\u001b[0m\u001b[0;34m)\u001b[0m\u001b[0;34m[\u001b[0m\u001b[0misnull\u001b[0m\u001b[0;34m(\u001b[0m\u001b[0mself\u001b[0m\u001b[0;34m.\u001b[0m\u001b[0mitems\u001b[0m\u001b[0;34m)\u001b[0m\u001b[0;34m]\u001b[0m\u001b[0;34m\u001b[0m\u001b[0m\n",
      "\u001b[0;32m//anaconda/lib/python2.7/site-packages/pandas/indexes/base.pyc\u001b[0m in \u001b[0;36mget_loc\u001b[0;34m(self, key, method, tolerance)\u001b[0m\n\u001b[1;32m   2134\u001b[0m                 \u001b[0;32mreturn\u001b[0m \u001b[0mself\u001b[0m\u001b[0;34m.\u001b[0m\u001b[0m_engine\u001b[0m\u001b[0;34m.\u001b[0m\u001b[0mget_loc\u001b[0m\u001b[0;34m(\u001b[0m\u001b[0mkey\u001b[0m\u001b[0;34m)\u001b[0m\u001b[0;34m\u001b[0m\u001b[0m\n\u001b[1;32m   2135\u001b[0m             \u001b[0;32mexcept\u001b[0m \u001b[0mKeyError\u001b[0m\u001b[0;34m:\u001b[0m\u001b[0;34m\u001b[0m\u001b[0m\n\u001b[0;32m-> 2136\u001b[0;31m                 \u001b[0;32mreturn\u001b[0m \u001b[0mself\u001b[0m\u001b[0;34m.\u001b[0m\u001b[0m_engine\u001b[0m\u001b[0;34m.\u001b[0m\u001b[0mget_loc\u001b[0m\u001b[0;34m(\u001b[0m\u001b[0mself\u001b[0m\u001b[0;34m.\u001b[0m\u001b[0m_maybe_cast_indexer\u001b[0m\u001b[0;34m(\u001b[0m\u001b[0mkey\u001b[0m\u001b[0;34m)\u001b[0m\u001b[0;34m)\u001b[0m\u001b[0;34m\u001b[0m\u001b[0m\n\u001b[0m\u001b[1;32m   2137\u001b[0m \u001b[0;34m\u001b[0m\u001b[0m\n\u001b[1;32m   2138\u001b[0m         \u001b[0mindexer\u001b[0m \u001b[0;34m=\u001b[0m \u001b[0mself\u001b[0m\u001b[0;34m.\u001b[0m\u001b[0mget_indexer\u001b[0m\u001b[0;34m(\u001b[0m\u001b[0;34m[\u001b[0m\u001b[0mkey\u001b[0m\u001b[0;34m]\u001b[0m\u001b[0;34m,\u001b[0m \u001b[0mmethod\u001b[0m\u001b[0;34m=\u001b[0m\u001b[0mmethod\u001b[0m\u001b[0;34m,\u001b[0m \u001b[0mtolerance\u001b[0m\u001b[0;34m=\u001b[0m\u001b[0mtolerance\u001b[0m\u001b[0;34m)\u001b[0m\u001b[0;34m\u001b[0m\u001b[0m\n",
      "\u001b[0;32mpandas/index.pyx\u001b[0m in \u001b[0;36mpandas.index.IndexEngine.get_loc (pandas/index.c:4433)\u001b[0;34m()\u001b[0m\n",
      "\u001b[0;32mpandas/index.pyx\u001b[0m in \u001b[0;36mpandas.index.IndexEngine.get_loc (pandas/index.c:4279)\u001b[0;34m()\u001b[0m\n",
      "\u001b[0;32mpandas/src/hashtable_class_helper.pxi\u001b[0m in \u001b[0;36mpandas.hashtable.PyObjectHashTable.get_item (pandas/hashtable.c:13742)\u001b[0;34m()\u001b[0m\n",
      "\u001b[0;32mpandas/src/hashtable_class_helper.pxi\u001b[0m in \u001b[0;36mpandas.hashtable.PyObjectHashTable.get_item (pandas/hashtable.c:13696)\u001b[0;34m()\u001b[0m\n",
      "\u001b[0;31mKeyError\u001b[0m: 'Spray'"
     ]
    }
   ],
   "source": [
    "traps['Spray'].isnull().sum()/float(len(traps['Spray']))"
   ]
  },
  {
   "cell_type": "code",
   "execution_count": 217,
   "metadata": {
    "collapsed": false
   },
   "outputs": [],
   "source": [
    "X = traps[features]"
   ]
  },
  {
   "cell_type": "code",
   "execution_count": 218,
   "metadata": {
    "collapsed": false
   },
   "outputs": [],
   "source": [
    "y = traps.WnvPresent"
   ]
  },
  {
   "cell_type": "markdown",
   "metadata": {},
   "source": [
    "# Train-Test Split"
   ]
  },
  {
   "cell_type": "markdown",
   "metadata": {},
   "source": [
    "Creating a stratified train-test split to evaluate our model performance without having to submit to Kaggle every time"
   ]
  },
  {
   "cell_type": "code",
   "execution_count": 189,
   "metadata": {
    "collapsed": false
   },
   "outputs": [],
   "source": [
    "from sklearn.cross_validation import train_test_split"
   ]
  },
  {
   "cell_type": "code",
   "execution_count": null,
   "metadata": {
    "collapsed": true
   },
   "outputs": [],
   "source": []
  },
  {
   "cell_type": "code",
   "execution_count": 190,
   "metadata": {
    "collapsed": false
   },
   "outputs": [],
   "source": [
    "X_train, X_test, y_train, y_test = train_test_split(X,y,train_size=.8, stratify=y)"
   ]
  },
  {
   "cell_type": "code",
   "execution_count": 191,
   "metadata": {
    "collapsed": false
   },
   "outputs": [
    {
     "name": "stdout",
     "output_type": "stream",
     "text": [
      "(6888, 14) (1722, 14) (1722,) (6888,)\n"
     ]
    }
   ],
   "source": [
    "print X_train.shape, X_test.shape, y_test.shape, y_train.shape"
   ]
  },
  {
   "cell_type": "markdown",
   "metadata": {},
   "source": [
    "Setting up scoring function"
   ]
  },
  {
   "cell_type": "code",
   "execution_count": 192,
   "metadata": {
    "collapsed": true
   },
   "outputs": [],
   "source": [
    "from sklearn.metrics import roc_auc_score"
   ]
  },
  {
   "cell_type": "markdown",
   "metadata": {},
   "source": [
    "This function will return the roc score for some values of the model"
   ]
  },
  {
   "cell_type": "code",
   "execution_count": 193,
   "metadata": {
    "collapsed": true
   },
   "outputs": [],
   "source": [
    "def score_model(model):\n",
    "    preds = model.predict_proba(X_test)\n",
    "    pred_list =[]\n",
    "    for x in preds:\n",
    "        pred_list.append(x[1])\n",
    "    roc_score = roc_auc_score(y_test, pred_list)\n",
    "    return roc_score"
   ]
  },
  {
   "cell_type": "code",
   "execution_count": null,
   "metadata": {
    "collapsed": true
   },
   "outputs": [],
   "source": []
  },
  {
   "cell_type": "code",
   "execution_count": null,
   "metadata": {
    "collapsed": true
   },
   "outputs": [],
   "source": []
  },
  {
   "cell_type": "code",
   "execution_count": null,
   "metadata": {
    "collapsed": true
   },
   "outputs": [],
   "source": []
  },
  {
   "cell_type": "code",
   "execution_count": null,
   "metadata": {
    "collapsed": true
   },
   "outputs": [],
   "source": []
  },
  {
   "cell_type": "markdown",
   "metadata": {},
   "source": [
    "# Building the Models"
   ]
  },
  {
   "cell_type": "markdown",
   "metadata": {
    "collapsed": true
   },
   "source": [
    "## Random Forest"
   ]
  },
  {
   "cell_type": "markdown",
   "metadata": {
    "collapsed": true
   },
   "source": [
    "performs at .57\n",
    "performs at .59 with Tmin, rain, Tmax_3 and Tmax_20\n",
    "\n",
    "with features:  'rain','Tmax_3','Tmax', 'Dew', 'Tmin', 'Tmin_3', 'month' score .65"
   ]
  },
  {
   "cell_type": "code",
   "execution_count": 220,
   "metadata": {
    "collapsed": true
   },
   "outputs": [],
   "source": [
    "from sklearn.ensemble import RandomForestClassifier\n",
    "from sklearn.model_selection import GridSearchCV"
   ]
  },
  {
   "cell_type": "code",
   "execution_count": 221,
   "metadata": {
    "collapsed": false
   },
   "outputs": [],
   "source": [
    "RF = RandomForestClassifier(n_estimators = 1000, bootstrap=True, max_depth=5,\n",
    "                            max_features='auto',min_samples_leaf= 1, min_samples_split= 2)"
   ]
  },
  {
   "cell_type": "code",
   "execution_count": 222,
   "metadata": {
    "collapsed": false
   },
   "outputs": [],
   "source": [
    "RF_model= RF.fit(X_train, y_train)"
   ]
  },
  {
   "cell_type": "code",
   "execution_count": null,
   "metadata": {
    "collapsed": false
   },
   "outputs": [],
   "source": []
  },
  {
   "cell_type": "code",
   "execution_count": null,
   "metadata": {
    "collapsed": true
   },
   "outputs": [],
   "source": []
  },
  {
   "cell_type": "code",
   "execution_count": 223,
   "metadata": {
    "collapsed": false
   },
   "outputs": [
    {
     "data": {
      "text/plain": [
       "0.8220635893842515"
      ]
     },
     "execution_count": 223,
     "metadata": {},
     "output_type": "execute_result"
    }
   ],
   "source": [
    "score_model(RF_model)"
   ]
  },
  {
   "cell_type": "markdown",
   "metadata": {
    "collapsed": true
   },
   "source": [
    "### Random Forest Grid Search"
   ]
  },
  {
   "cell_type": "code",
   "execution_count": 58,
   "metadata": {
    "collapsed": false
   },
   "outputs": [],
   "source": [
    "grid_search_params = { 'max_features' : ['auto',None],\n",
    "                      'n_estimators':[300, 500, 1000],\n",
    "                    'max_depth':[None, 1, 5, 3],\n",
    "                    'min_samples_split':[2,3,5],\n",
    "                    'min_samples_leaf':[1,2,5],\n",
    "                    'bootstrap':[True, False]\n",
    "    \n",
    "}"
   ]
  },
  {
   "cell_type": "code",
   "execution_count": 61,
   "metadata": {
    "collapsed": false
   },
   "outputs": [],
   "source": [
    "gs = GridSearchCV(RF, grid_search_params, scoring = 'roc_auc', n_jobs=-1)"
   ]
  },
  {
   "cell_type": "code",
   "execution_count": 62,
   "metadata": {
    "collapsed": false
   },
   "outputs": [],
   "source": [
    "k = gs.fit(X_train, y_train)"
   ]
  },
  {
   "cell_type": "code",
   "execution_count": 63,
   "metadata": {
    "collapsed": false
   },
   "outputs": [
    {
     "data": {
      "text/plain": [
       "{'bootstrap': True,\n",
       " 'max_depth': 5,\n",
       " 'max_features': 'auto',\n",
       " 'min_samples_leaf': 1,\n",
       " 'min_samples_split': 2,\n",
       " 'n_estimators': 1000}"
      ]
     },
     "execution_count": 63,
     "metadata": {},
     "output_type": "execute_result"
    }
   ],
   "source": [
    "k.best_params_"
   ]
  },
  {
   "cell_type": "markdown",
   "metadata": {
    "collapsed": true
   },
   "source": [
    "## Support Vector Machine"
   ]
  },
  {
   "cell_type": "markdown",
   "metadata": {},
   "source": [
    "Currently performing at .50 (bad)"
   ]
  },
  {
   "cell_type": "code",
   "execution_count": null,
   "metadata": {
    "collapsed": false
   },
   "outputs": [],
   "source": [
    "from sklearn.svm import SVC"
   ]
  },
  {
   "cell_type": "code",
   "execution_count": null,
   "metadata": {
    "collapsed": true
   },
   "outputs": [],
   "source": [
    "svmc= SVC(probability=True)"
   ]
  },
  {
   "cell_type": "code",
   "execution_count": null,
   "metadata": {
    "collapsed": false
   },
   "outputs": [],
   "source": [
    "svm_model = svmc.fit(X_train,y_train)"
   ]
  },
  {
   "cell_type": "markdown",
   "metadata": {},
   "source": [
    "Train-Test Split Score"
   ]
  },
  {
   "cell_type": "code",
   "execution_count": null,
   "metadata": {
    "collapsed": false
   },
   "outputs": [],
   "source": [
    "score_model(svm_model)"
   ]
  },
  {
   "cell_type": "markdown",
   "metadata": {},
   "source": [
    "## SVM Grid Search"
   ]
  },
  {
   "cell_type": "code",
   "execution_count": null,
   "metadata": {
    "collapsed": true
   },
   "outputs": [],
   "source": [
    "grid_search_params = { 'C' : [1,2,3.01,.001],\n",
    "                    'kernel':['rbf', 'linear','poly']\n",
    "}"
   ]
  },
  {
   "cell_type": "code",
   "execution_count": null,
   "metadata": {
    "collapsed": false
   },
   "outputs": [],
   "source": [
    "gsvm = GridSearchCV(svmc, grid_search_params, scoring = 'roc_auc')"
   ]
  },
  {
   "cell_type": "code",
   "execution_count": null,
   "metadata": {
    "collapsed": true
   },
   "outputs": [],
   "source": [
    "k = gsvm.fit(X,y)"
   ]
  },
  {
   "cell_type": "code",
   "execution_count": null,
   "metadata": {
    "collapsed": true
   },
   "outputs": [],
   "source": [
    "k.best_params_"
   ]
  },
  {
   "cell_type": "code",
   "execution_count": null,
   "metadata": {
    "collapsed": true
   },
   "outputs": [],
   "source": []
  },
  {
   "cell_type": "markdown",
   "metadata": {},
   "source": [
    "## Logistic Regression"
   ]
  },
  {
   "cell_type": "code",
   "execution_count": null,
   "metadata": {
    "collapsed": true
   },
   "outputs": [],
   "source": []
  },
  {
   "cell_type": "code",
   "execution_count": null,
   "metadata": {
    "collapsed": true
   },
   "outputs": [],
   "source": []
  },
  {
   "cell_type": "code",
   "execution_count": null,
   "metadata": {
    "collapsed": true
   },
   "outputs": [],
   "source": []
  },
  {
   "cell_type": "code",
   "execution_count": null,
   "metadata": {
    "collapsed": true
   },
   "outputs": [],
   "source": []
  },
  {
   "cell_type": "markdown",
   "metadata": {},
   "source": [
    "## ADA Boost"
   ]
  },
  {
   "cell_type": "markdown",
   "metadata": {},
   "source": [
    "currently performs at .51"
   ]
  },
  {
   "cell_type": "code",
   "execution_count": null,
   "metadata": {
    "collapsed": true
   },
   "outputs": [],
   "source": [
    "from sklearn.ensemble import AdaBoostClassifier"
   ]
  },
  {
   "cell_type": "code",
   "execution_count": null,
   "metadata": {
    "collapsed": true
   },
   "outputs": [],
   "source": [
    "adaboost= AdaBoostClassifier()"
   ]
  },
  {
   "cell_type": "code",
   "execution_count": null,
   "metadata": {
    "collapsed": true
   },
   "outputs": [],
   "source": [
    "ada_model=adaboost.fit(X,y)"
   ]
  },
  {
   "cell_type": "code",
   "execution_count": null,
   "metadata": {
    "collapsed": true
   },
   "outputs": [],
   "source": []
  },
  {
   "cell_type": "markdown",
   "metadata": {
    "collapsed": true
   },
   "source": [
    "## XG Boost"
   ]
  },
  {
   "cell_type": "code",
   "execution_count": null,
   "metadata": {
    "collapsed": true
   },
   "outputs": [],
   "source": []
  },
  {
   "cell_type": "code",
   "execution_count": 83,
   "metadata": {
    "collapsed": false
   },
   "outputs": [],
   "source": [
    "import xgboost as xgb"
   ]
  },
  {
   "cell_type": "code",
   "execution_count": 109,
   "metadata": {
    "collapsed": true
   },
   "outputs": [],
   "source": [
    "from xgboost.sklearn import XGBClassifier  \n",
    "import scipy.stats as st\n"
   ]
  },
  {
   "cell_type": "code",
   "execution_count": 85,
   "metadata": {
    "collapsed": false
   },
   "outputs": [],
   "source": [
    "model = XGBClassifier()\n"
   ]
  },
  {
   "cell_type": "code",
   "execution_count": 91,
   "metadata": {
    "collapsed": false
   },
   "outputs": [],
   "source": [
    "xgm = model.fit(X_train, y_train, )"
   ]
  },
  {
   "cell_type": "code",
   "execution_count": 92,
   "metadata": {
    "collapsed": false
   },
   "outputs": [],
   "source": [
    "xg_preds = xgm.predict_proba(X_test)"
   ]
  },
  {
   "cell_type": "code",
   "execution_count": 93,
   "metadata": {
    "collapsed": false
   },
   "outputs": [
    {
     "data": {
      "text/plain": [
       "0.80664798108084446"
      ]
     },
     "execution_count": 93,
     "metadata": {},
     "output_type": "execute_result"
    }
   ],
   "source": [
    "score_model(xgm)"
   ]
  },
  {
   "cell_type": "code",
   "execution_count": 125,
   "metadata": {
    "collapsed": false
   },
   "outputs": [],
   "source": [
    "params = {  \n",
    "    \"n_estimators\": [3,4,5,7,8,10],\n",
    "    \"max_depth\": st.randint(3, 40),\n",
    "    \"learning_rate\": st.uniform(0.05, 0.4),\n",
    "    'eval_metric' :'auc',\n",
    "    'objective': ['binary:logistic']\n",
    "}\n",
    "\n",
    "xgbclass = XGBClassifier()  \n"
   ]
  },
  {
   "cell_type": "code",
   "execution_count": 126,
   "metadata": {
    "collapsed": false
   },
   "outputs": [
    {
     "ename": "ValueError",
     "evalue": "Parameter values for parameter (learning_rate) need to be a sequence(but not a string) or np.ndarray.",
     "output_type": "error",
     "traceback": [
      "\u001b[0;31m---------------------------------------------------------------------------\u001b[0m",
      "\u001b[0;31mValueError\u001b[0m                                Traceback (most recent call last)",
      "\u001b[0;32m<ipython-input-126-aaee4d550e80>\u001b[0m in \u001b[0;36m<module>\u001b[0;34m()\u001b[0m\n\u001b[1;32m      1\u001b[0m \u001b[0;32mfrom\u001b[0m \u001b[0msklearn\u001b[0m\u001b[0;34m.\u001b[0m\u001b[0mmodel_selection\u001b[0m \u001b[0;32mimport\u001b[0m \u001b[0mRandomizedSearchCV\u001b[0m\u001b[0;34m\u001b[0m\u001b[0m\n\u001b[1;32m      2\u001b[0m \u001b[0;34m\u001b[0m\u001b[0m\n\u001b[0;32m----> 3\u001b[0;31m \u001b[0mgs\u001b[0m \u001b[0;34m=\u001b[0m \u001b[0mGridSearchCV\u001b[0m\u001b[0;34m(\u001b[0m\u001b[0mxgbclass\u001b[0m\u001b[0;34m,\u001b[0m  \u001b[0mparams\u001b[0m\u001b[0;34m,\u001b[0m \u001b[0mn_jobs\u001b[0m\u001b[0;34m=\u001b[0m\u001b[0;34m-\u001b[0m\u001b[0;36m1\u001b[0m\u001b[0;34m,\u001b[0m \u001b[0mscoring\u001b[0m\u001b[0;34m=\u001b[0m\u001b[0;34m'roc_auc'\u001b[0m\u001b[0;34m)\u001b[0m\u001b[0;34m\u001b[0m\u001b[0m\n\u001b[0m",
      "\u001b[0;32m//anaconda/lib/python2.7/site-packages/sklearn/model_selection/_search.pyc\u001b[0m in \u001b[0;36m__init__\u001b[0;34m(self, estimator, param_grid, scoring, fit_params, n_jobs, iid, refit, cv, verbose, pre_dispatch, error_score, return_train_score)\u001b[0m\n\u001b[1;32m    923\u001b[0m             return_train_score=return_train_score)\n\u001b[1;32m    924\u001b[0m         \u001b[0mself\u001b[0m\u001b[0;34m.\u001b[0m\u001b[0mparam_grid\u001b[0m \u001b[0;34m=\u001b[0m \u001b[0mparam_grid\u001b[0m\u001b[0;34m\u001b[0m\u001b[0m\n\u001b[0;32m--> 925\u001b[0;31m         \u001b[0m_check_param_grid\u001b[0m\u001b[0;34m(\u001b[0m\u001b[0mparam_grid\u001b[0m\u001b[0;34m)\u001b[0m\u001b[0;34m\u001b[0m\u001b[0m\n\u001b[0m\u001b[1;32m    926\u001b[0m \u001b[0;34m\u001b[0m\u001b[0m\n\u001b[1;32m    927\u001b[0m     \u001b[0;32mdef\u001b[0m \u001b[0mfit\u001b[0m\u001b[0;34m(\u001b[0m\u001b[0mself\u001b[0m\u001b[0;34m,\u001b[0m \u001b[0mX\u001b[0m\u001b[0;34m,\u001b[0m \u001b[0my\u001b[0m\u001b[0;34m=\u001b[0m\u001b[0mNone\u001b[0m\u001b[0;34m,\u001b[0m \u001b[0mgroups\u001b[0m\u001b[0;34m=\u001b[0m\u001b[0mNone\u001b[0m\u001b[0;34m)\u001b[0m\u001b[0;34m:\u001b[0m\u001b[0;34m\u001b[0m\u001b[0m\n",
      "\u001b[0;32m//anaconda/lib/python2.7/site-packages/sklearn/model_selection/_search.pyc\u001b[0m in \u001b[0;36m_check_param_grid\u001b[0;34m(param_grid)\u001b[0m\n\u001b[1;32m    340\u001b[0m                 raise ValueError(\"Parameter values for parameter ({0}) need \"\n\u001b[1;32m    341\u001b[0m                                  \u001b[0;34m\"to be a sequence(but not a string) or\"\u001b[0m\u001b[0;34m\u001b[0m\u001b[0m\n\u001b[0;32m--> 342\u001b[0;31m                                  \" np.ndarray.\".format(name))\n\u001b[0m\u001b[1;32m    343\u001b[0m \u001b[0;34m\u001b[0m\u001b[0m\n\u001b[1;32m    344\u001b[0m             \u001b[0;32mif\u001b[0m \u001b[0mlen\u001b[0m\u001b[0;34m(\u001b[0m\u001b[0mv\u001b[0m\u001b[0;34m)\u001b[0m \u001b[0;34m==\u001b[0m \u001b[0;36m0\u001b[0m\u001b[0;34m:\u001b[0m\u001b[0;34m\u001b[0m\u001b[0m\n",
      "\u001b[0;31mValueError\u001b[0m: Parameter values for parameter (learning_rate) need to be a sequence(but not a string) or np.ndarray."
     ]
    }
   ],
   "source": [
    "from sklearn.model_selection import RandomizedSearchCV\n",
    "\n",
    "gs = GridSearchCV(xgbclass,  params, n_jobs=-1, scoring='roc_auc')  "
   ]
  },
  {
   "cell_type": "code",
   "execution_count": 114,
   "metadata": {
    "collapsed": false
   },
   "outputs": [
    {
     "ename": "KeyboardInterrupt",
     "evalue": "",
     "output_type": "error",
     "traceback": [
      "\u001b[0;31m---------------------------------------------------------------------------\u001b[0m",
      "\u001b[0;31mKeyboardInterrupt\u001b[0m                         Traceback (most recent call last)",
      "\u001b[0;32m<ipython-input-114-2aa8e966c855>\u001b[0m in \u001b[0;36m<module>\u001b[0;34m()\u001b[0m\n\u001b[0;32m----> 1\u001b[0;31m \u001b[0mgs\u001b[0m\u001b[0;34m.\u001b[0m\u001b[0mfit\u001b[0m\u001b[0;34m(\u001b[0m\u001b[0mX_train\u001b[0m\u001b[0;34m,\u001b[0m \u001b[0my_train\u001b[0m\u001b[0;34m)\u001b[0m\u001b[0;34m\u001b[0m\u001b[0m\n\u001b[0m",
      "\u001b[0;32m//anaconda/lib/python2.7/site-packages/sklearn/model_selection/_search.pyc\u001b[0m in \u001b[0;36mfit\u001b[0;34m(self, X, y, groups)\u001b[0m\n\u001b[1;32m    943\u001b[0m             \u001b[0mtrain\u001b[0m\u001b[0;34m/\u001b[0m\u001b[0mtest\u001b[0m \u001b[0mset\u001b[0m\u001b[0;34m.\u001b[0m\u001b[0;34m\u001b[0m\u001b[0m\n\u001b[1;32m    944\u001b[0m         \"\"\"\n\u001b[0;32m--> 945\u001b[0;31m         \u001b[0;32mreturn\u001b[0m \u001b[0mself\u001b[0m\u001b[0;34m.\u001b[0m\u001b[0m_fit\u001b[0m\u001b[0;34m(\u001b[0m\u001b[0mX\u001b[0m\u001b[0;34m,\u001b[0m \u001b[0my\u001b[0m\u001b[0;34m,\u001b[0m \u001b[0mgroups\u001b[0m\u001b[0;34m,\u001b[0m \u001b[0mParameterGrid\u001b[0m\u001b[0;34m(\u001b[0m\u001b[0mself\u001b[0m\u001b[0;34m.\u001b[0m\u001b[0mparam_grid\u001b[0m\u001b[0;34m)\u001b[0m\u001b[0;34m)\u001b[0m\u001b[0;34m\u001b[0m\u001b[0m\n\u001b[0m\u001b[1;32m    946\u001b[0m \u001b[0;34m\u001b[0m\u001b[0m\n\u001b[1;32m    947\u001b[0m \u001b[0;34m\u001b[0m\u001b[0m\n",
      "\u001b[0;32m//anaconda/lib/python2.7/site-packages/sklearn/model_selection/_search.pyc\u001b[0m in \u001b[0;36m_fit\u001b[0;34m(self, X, y, groups, parameter_iterable)\u001b[0m\n\u001b[1;32m    562\u001b[0m                                   \u001b[0mreturn_times\u001b[0m\u001b[0;34m=\u001b[0m\u001b[0mTrue\u001b[0m\u001b[0;34m,\u001b[0m \u001b[0mreturn_parameters\u001b[0m\u001b[0;34m=\u001b[0m\u001b[0mTrue\u001b[0m\u001b[0;34m,\u001b[0m\u001b[0;34m\u001b[0m\u001b[0m\n\u001b[1;32m    563\u001b[0m                                   error_score=self.error_score)\n\u001b[0;32m--> 564\u001b[0;31m           \u001b[0;32mfor\u001b[0m \u001b[0mparameters\u001b[0m \u001b[0;32min\u001b[0m \u001b[0mparameter_iterable\u001b[0m\u001b[0;34m\u001b[0m\u001b[0m\n\u001b[0m\u001b[1;32m    565\u001b[0m           for train, test in cv_iter)\n\u001b[1;32m    566\u001b[0m \u001b[0;34m\u001b[0m\u001b[0m\n",
      "\u001b[0;32m//anaconda/lib/python2.7/site-packages/sklearn/externals/joblib/parallel.pyc\u001b[0m in \u001b[0;36m__call__\u001b[0;34m(self, iterable)\u001b[0m\n\u001b[1;32m    766\u001b[0m                 \u001b[0;31m# consumption.\u001b[0m\u001b[0;34m\u001b[0m\u001b[0;34m\u001b[0m\u001b[0m\n\u001b[1;32m    767\u001b[0m                 \u001b[0mself\u001b[0m\u001b[0;34m.\u001b[0m\u001b[0m_iterating\u001b[0m \u001b[0;34m=\u001b[0m \u001b[0mFalse\u001b[0m\u001b[0;34m\u001b[0m\u001b[0m\n\u001b[0;32m--> 768\u001b[0;31m             \u001b[0mself\u001b[0m\u001b[0;34m.\u001b[0m\u001b[0mretrieve\u001b[0m\u001b[0;34m(\u001b[0m\u001b[0;34m)\u001b[0m\u001b[0;34m\u001b[0m\u001b[0m\n\u001b[0m\u001b[1;32m    769\u001b[0m             \u001b[0;31m# Make sure that we get a last message telling us we are done\u001b[0m\u001b[0;34m\u001b[0m\u001b[0;34m\u001b[0m\u001b[0m\n\u001b[1;32m    770\u001b[0m             \u001b[0melapsed_time\u001b[0m \u001b[0;34m=\u001b[0m \u001b[0mtime\u001b[0m\u001b[0;34m.\u001b[0m\u001b[0mtime\u001b[0m\u001b[0;34m(\u001b[0m\u001b[0;34m)\u001b[0m \u001b[0;34m-\u001b[0m \u001b[0mself\u001b[0m\u001b[0;34m.\u001b[0m\u001b[0m_start_time\u001b[0m\u001b[0;34m\u001b[0m\u001b[0m\n",
      "\u001b[0;32m//anaconda/lib/python2.7/site-packages/sklearn/externals/joblib/parallel.pyc\u001b[0m in \u001b[0;36mretrieve\u001b[0;34m(self)\u001b[0m\n\u001b[1;32m    717\u001b[0m                     \u001b[0mensure_ready\u001b[0m \u001b[0;34m=\u001b[0m \u001b[0mself\u001b[0m\u001b[0;34m.\u001b[0m\u001b[0m_managed_backend\u001b[0m\u001b[0;34m\u001b[0m\u001b[0m\n\u001b[1;32m    718\u001b[0m                     \u001b[0mbackend\u001b[0m\u001b[0;34m.\u001b[0m\u001b[0mabort_everything\u001b[0m\u001b[0;34m(\u001b[0m\u001b[0mensure_ready\u001b[0m\u001b[0;34m=\u001b[0m\u001b[0mensure_ready\u001b[0m\u001b[0;34m)\u001b[0m\u001b[0;34m\u001b[0m\u001b[0m\n\u001b[0;32m--> 719\u001b[0;31m                 \u001b[0;32mraise\u001b[0m \u001b[0mexception\u001b[0m\u001b[0;34m\u001b[0m\u001b[0m\n\u001b[0m\u001b[1;32m    720\u001b[0m \u001b[0;34m\u001b[0m\u001b[0m\n\u001b[1;32m    721\u001b[0m     \u001b[0;32mdef\u001b[0m \u001b[0m__call__\u001b[0m\u001b[0;34m(\u001b[0m\u001b[0mself\u001b[0m\u001b[0;34m,\u001b[0m \u001b[0miterable\u001b[0m\u001b[0;34m)\u001b[0m\u001b[0;34m:\u001b[0m\u001b[0;34m\u001b[0m\u001b[0m\n",
      "\u001b[0;31mKeyboardInterrupt\u001b[0m: "
     ]
    }
   ],
   "source": [
    "gs.fit(X_train, y_train)  \n"
   ]
  },
  {
   "cell_type": "code",
   "execution_count": null,
   "metadata": {
    "collapsed": false
   },
   "outputs": [],
   "source": [
    "gs.best_estimator_"
   ]
  },
  {
   "cell_type": "code",
   "execution_count": 127,
   "metadata": {
    "collapsed": false
   },
   "outputs": [],
   "source": [
    "xg_grid = XGBClassifier(base_score=0.5, colsample_bylevel=1, colsample_bytree=1,\n",
    "       gamma=0, learning_rate=0.1, max_delta_step=0, max_depth=3,\n",
    "       min_child_weight=1, missing=None, n_estimators=100, nthread=-1,\n",
    "       objective='binary:logistic', reg_alpha=0, reg_lambda=1,\n",
    "       scale_pos_weight=1, seed=0, silent=True, subsample=1)\n"
   ]
  },
  {
   "cell_type": "code",
   "execution_count": 128,
   "metadata": {
    "collapsed": false
   },
   "outputs": [],
   "source": [
    "xg_final = xg_grid.fit(X_train, y_train)"
   ]
  },
  {
   "cell_type": "code",
   "execution_count": 129,
   "metadata": {
    "collapsed": false
   },
   "outputs": [
    {
     "data": {
      "text/plain": [
       "0.80664798108084446"
      ]
     },
     "execution_count": 129,
     "metadata": {},
     "output_type": "execute_result"
    }
   ],
   "source": [
    "score_model(xg_final)"
   ]
  },
  {
   "cell_type": "code",
   "execution_count": null,
   "metadata": {
    "collapsed": true
   },
   "outputs": [],
   "source": []
  },
  {
   "cell_type": "code",
   "execution_count": 219,
   "metadata": {
    "collapsed": false
   },
   "outputs": [
    {
     "ename": "ValueError",
     "evalue": "feature_names must be unique",
     "output_type": "error",
     "traceback": [
      "\u001b[0;31m---------------------------------------------------------------------------\u001b[0m",
      "\u001b[0;31mValueError\u001b[0m                                Traceback (most recent call last)",
      "\u001b[0;32m<ipython-input-219-0d383242c0f7>\u001b[0m in \u001b[0;36m<module>\u001b[0;34m()\u001b[0m\n\u001b[1;32m      4\u001b[0m \u001b[0msum_wpos\u001b[0m \u001b[0;34m=\u001b[0m \u001b[0mlen\u001b[0m\u001b[0;34m(\u001b[0m\u001b[0mtraps\u001b[0m\u001b[0;34m[\u001b[0m\u001b[0mtraps\u001b[0m\u001b[0;34m[\u001b[0m\u001b[0;34m'WnvPresent'\u001b[0m\u001b[0;34m]\u001b[0m\u001b[0;34m==\u001b[0m\u001b[0;36m1\u001b[0m\u001b[0;34m]\u001b[0m\u001b[0;34m)\u001b[0m\u001b[0;34m\u001b[0m\u001b[0m\n\u001b[1;32m      5\u001b[0m \u001b[0;34m\u001b[0m\u001b[0m\n\u001b[0;32m----> 6\u001b[0;31m \u001b[0mdtrain\u001b[0m \u001b[0;34m=\u001b[0m \u001b[0mxgb\u001b[0m\u001b[0;34m.\u001b[0m\u001b[0mDMatrix\u001b[0m\u001b[0;34m(\u001b[0m\u001b[0mX_train\u001b[0m\u001b[0;34m,\u001b[0m \u001b[0mlabel\u001b[0m\u001b[0;34m=\u001b[0m\u001b[0my_train\u001b[0m\u001b[0;34m)\u001b[0m\u001b[0;34m\u001b[0m\u001b[0m\n\u001b[0m\u001b[1;32m      7\u001b[0m \u001b[0mdtest\u001b[0m \u001b[0;34m=\u001b[0m \u001b[0mxgb\u001b[0m\u001b[0;34m.\u001b[0m\u001b[0mDMatrix\u001b[0m\u001b[0;34m(\u001b[0m\u001b[0mtest_X\u001b[0m\u001b[0;34m)\u001b[0m\u001b[0;34m\u001b[0m\u001b[0m\n\u001b[1;32m      8\u001b[0m \u001b[0;34m\u001b[0m\u001b[0m\n",
      "\u001b[0;32m//anaconda/lib/python2.7/site-packages/xgboost/core.pyc\u001b[0m in \u001b[0;36m__init__\u001b[0;34m(self, data, label, missing, weight, silent, feature_names, feature_types)\u001b[0m\n\u001b[1;32m    278\u001b[0m             \u001b[0mself\u001b[0m\u001b[0;34m.\u001b[0m\u001b[0mset_weight\u001b[0m\u001b[0;34m(\u001b[0m\u001b[0mweight\u001b[0m\u001b[0;34m)\u001b[0m\u001b[0;34m\u001b[0m\u001b[0m\n\u001b[1;32m    279\u001b[0m \u001b[0;34m\u001b[0m\u001b[0m\n\u001b[0;32m--> 280\u001b[0;31m         \u001b[0mself\u001b[0m\u001b[0;34m.\u001b[0m\u001b[0mfeature_names\u001b[0m \u001b[0;34m=\u001b[0m \u001b[0mfeature_names\u001b[0m\u001b[0;34m\u001b[0m\u001b[0m\n\u001b[0m\u001b[1;32m    281\u001b[0m         \u001b[0mself\u001b[0m\u001b[0;34m.\u001b[0m\u001b[0mfeature_types\u001b[0m \u001b[0;34m=\u001b[0m \u001b[0mfeature_types\u001b[0m\u001b[0;34m\u001b[0m\u001b[0m\n\u001b[1;32m    282\u001b[0m \u001b[0;34m\u001b[0m\u001b[0m\n",
      "\u001b[0;32m//anaconda/lib/python2.7/site-packages/xgboost/core.pyc\u001b[0m in \u001b[0;36mfeature_names\u001b[0;34m(self, feature_names)\u001b[0m\n\u001b[1;32m    569\u001b[0m                 \u001b[0mfeature_names\u001b[0m \u001b[0;34m=\u001b[0m \u001b[0mlist\u001b[0m\u001b[0;34m(\u001b[0m\u001b[0mfeature_names\u001b[0m\u001b[0;34m)\u001b[0m\u001b[0;34m\u001b[0m\u001b[0m\n\u001b[1;32m    570\u001b[0m             \u001b[0;32mif\u001b[0m \u001b[0mlen\u001b[0m\u001b[0;34m(\u001b[0m\u001b[0mfeature_names\u001b[0m\u001b[0;34m)\u001b[0m \u001b[0;34m!=\u001b[0m \u001b[0mlen\u001b[0m\u001b[0;34m(\u001b[0m\u001b[0mset\u001b[0m\u001b[0;34m(\u001b[0m\u001b[0mfeature_names\u001b[0m\u001b[0;34m)\u001b[0m\u001b[0;34m)\u001b[0m\u001b[0;34m:\u001b[0m\u001b[0;34m\u001b[0m\u001b[0m\n\u001b[0;32m--> 571\u001b[0;31m                 \u001b[0;32mraise\u001b[0m \u001b[0mValueError\u001b[0m\u001b[0;34m(\u001b[0m\u001b[0;34m'feature_names must be unique'\u001b[0m\u001b[0;34m)\u001b[0m\u001b[0;34m\u001b[0m\u001b[0m\n\u001b[0m\u001b[1;32m    572\u001b[0m             \u001b[0;32mif\u001b[0m \u001b[0mlen\u001b[0m\u001b[0;34m(\u001b[0m\u001b[0mfeature_names\u001b[0m\u001b[0;34m)\u001b[0m \u001b[0;34m!=\u001b[0m \u001b[0mself\u001b[0m\u001b[0;34m.\u001b[0m\u001b[0mnum_col\u001b[0m\u001b[0;34m(\u001b[0m\u001b[0;34m)\u001b[0m\u001b[0;34m:\u001b[0m\u001b[0;34m\u001b[0m\u001b[0m\n\u001b[1;32m    573\u001b[0m                 \u001b[0mmsg\u001b[0m \u001b[0;34m=\u001b[0m \u001b[0;34m'feature_names must have the same length as data'\u001b[0m\u001b[0;34m\u001b[0m\u001b[0m\n",
      "\u001b[0;31mValueError\u001b[0m: feature_names must be unique"
     ]
    }
   ],
   "source": [
    "param = {}\n",
    "\n",
    "sum_wneg = len(traps[traps['WnvPresent']==0])\n",
    "sum_wpos = len(traps[traps['WnvPresent']==1])\n",
    "\n",
    "dtrain = xgb.DMatrix(X_train, label=y_train)\n",
    "dtest = xgb.DMatrix(test_X)\n",
    "\n",
    "# use logistic regression loss, use raw prediction before logistic transformation\n",
    "# since we only need the rank\n",
    "param['objective'] = 'binary:logitraw'\n",
    "# scale weight of positive examples\n",
    "param['scale_pos_weight'] = sum_wneg/sum_wpos\n",
    "param['eta'] = 0.1\n",
    "param['max_depth'] = 3\n",
    "param['eval_metric'] = 'auc'\n",
    "param['silent'] = 1\n",
    "param['min_child_weight'] = 100\n",
    "param['subsample'] = 0.7\n",
    "param['colsample_bytree'] = 0.7\n",
    "param['nthread'] = 4\n",
    "\n",
    "num_round = 50\n",
    "\n",
    "#xgb.cv(param, dtrain, num_round, nfold=5)\n",
    "\n",
    "bst = xgb.train(param, dtrain, num_round)\n",
    "\n",
    "#print \"testing\"\n",
    "ypred = bst.predict(dtest)\n"
   ]
  },
  {
   "cell_type": "code",
   "execution_count": null,
   "metadata": {
    "collapsed": false
   },
   "outputs": [],
   "source": []
  },
  {
   "cell_type": "code",
   "execution_count": null,
   "metadata": {
    "collapsed": false
   },
   "outputs": [],
   "source": []
  },
  {
   "cell_type": "code",
   "execution_count": null,
   "metadata": {
    "collapsed": true
   },
   "outputs": [],
   "source": [
    "def sigmoid(x):\n",
    "    return 1.0 / (1.0 + math.exp(-x))\n"
   ]
  },
  {
   "cell_type": "code",
   "execution_count": null,
   "metadata": {
    "collapsed": false
   },
   "outputs": [],
   "source": [
    "ypred"
   ]
  },
  {
   "cell_type": "code",
   "execution_count": 147,
   "metadata": {
    "collapsed": true
   },
   "outputs": [
    {
     "data": {
      "text/plain": [
       "[0.10204441756333875,\n",
       " 0.10204441756333875,\n",
       " 0.10204441756333875,\n",
       " 0.10204441756333875,\n",
       " 0.10204441756333875,\n",
       " 0.10204441756333875,\n",
       " 0.10204441756333875,\n",
       " 0.10204441756333875,\n",
       " 0.10204441756333875,\n",
       " 0.10204441756333875,\n",
       " 0.10204441756333875,\n",
       " 0.10204441756333875,\n",
       " 0.10204441756333875,\n",
       " 0.10204441756333875,\n",
       " 0.10204441756333875,\n",
       " 0.10204441756333875,\n",
       " 0.10204441756333875,\n",
       " 0.10204441756333875,\n",
       " 0.10204441756333875,\n",
       " 0.10204441756333875,\n",
       " 0.10204441756333875,\n",
       " 0.10204441756333875,\n",
       " 0.10204441756333875,\n",
       " 0.10204441756333875,\n",
       " 0.10204441756333875,\n",
       " 0.10204441756333875,\n",
       " 0.10204441756333875,\n",
       " 0.10204441756333875,\n",
       " 0.10204441756333875,\n",
       " 0.10204441756333875,\n",
       " 0.10204441756333875,\n",
       " 0.10204441756333875,\n",
       " 0.10204441756333875,\n",
       " 0.10204441756333875,\n",
       " 0.10204441756333875,\n",
       " 0.10204441756333875,\n",
       " 0.10204441756333875,\n",
       " 0.10204441756333875,\n",
       " 0.10204441756333875,\n",
       " 0.10204441756333875,\n",
       " 0.10204441756333875,\n",
       " 0.10204441756333875,\n",
       " 0.10204441756333875,\n",
       " 0.10204441756333875,\n",
       " 0.10204441756333875,\n",
       " 0.10204441756333875,\n",
       " 0.10204441756333875,\n",
       " 0.10204441756333875,\n",
       " 0.10204441756333875,\n",
       " 0.10204441756333875,\n",
       " 0.10204441756333875,\n",
       " 0.10204441756333875,\n",
       " 0.10204441756333875,\n",
       " 0.10204441756333875,\n",
       " 0.10204441756333875,\n",
       " 0.10204441756333875,\n",
       " 0.10204441756333875,\n",
       " 0.10204441756333875,\n",
       " 0.10204441756333875,\n",
       " 0.10204441756333875,\n",
       " 0.10204441756333875,\n",
       " 0.10204441756333875,\n",
       " 0.10204441756333875,\n",
       " 0.10204441756333875,\n",
       " 0.10204441756333875,\n",
       " 0.10204441756333875,\n",
       " 0.10204441756333875,\n",
       " 0.10204441756333875,\n",
       " 0.10204441756333875,\n",
       " 0.10204441756333875,\n",
       " 0.10204441756333875,\n",
       " 0.10204441756333875,\n",
       " 0.10204441756333875,\n",
       " 0.10204441756333875,\n",
       " 0.10204441756333875,\n",
       " 0.10204441756333875,\n",
       " 0.10204441756333875,\n",
       " 0.10204441756333875,\n",
       " 0.10204441756333875,\n",
       " 0.10204441756333875,\n",
       " 0.10204441756333875,\n",
       " 0.10204441756333875,\n",
       " 0.10204441756333875,\n",
       " 0.10204441756333875,\n",
       " 0.10204441756333875,\n",
       " 0.10204441756333875,\n",
       " 0.10204441756333875,\n",
       " 0.10204441756333875,\n",
       " 0.10204441756333875,\n",
       " 0.10204441756333875,\n",
       " 0.10204441756333875,\n",
       " 0.10204441756333875,\n",
       " 0.10204441756333875,\n",
       " 0.10204441756333875,\n",
       " 0.10204441756333875,\n",
       " 0.10204441756333875,\n",
       " 0.10204441756333875,\n",
       " 0.10204441756333875,\n",
       " 0.10204441756333875,\n",
       " 0.10204441756333875,\n",
       " 0.10204441756333875,\n",
       " 0.10204441756333875,\n",
       " 0.10204441756333875,\n",
       " 0.10204441756333875,\n",
       " 0.10204441756333875,\n",
       " 0.10204441756333875,\n",
       " 0.10204441756333875,\n",
       " 0.10204441756333875,\n",
       " 0.10204441756333875,\n",
       " 0.10204441756333875,\n",
       " 0.10204441756333875,\n",
       " 0.10204441756333875,\n",
       " 0.10204441756333875,\n",
       " 0.10204441756333875,\n",
       " 0.10204441756333875,\n",
       " 0.10204441756333875,\n",
       " 0.10204441756333875,\n",
       " 0.10204441756333875,\n",
       " 0.10204441756333875,\n",
       " 0.10204441756333875,\n",
       " 0.10204441756333875,\n",
       " 0.10204441756333875,\n",
       " 0.10204441756333875,\n",
       " 0.10204441756333875,\n",
       " 0.10204441756333875,\n",
       " 0.10204441756333875,\n",
       " 0.10204441756333875,\n",
       " 0.10204441756333875,\n",
       " 0.10204441756333875,\n",
       " 0.10204441756333875,\n",
       " 0.10204441756333875,\n",
       " 0.10204441756333875,\n",
       " 0.10204441756333875,\n",
       " 0.10204441756333875,\n",
       " 0.10204441756333875,\n",
       " 0.10204441756333875,\n",
       " 0.10204441756333875,\n",
       " 0.10204441756333875,\n",
       " 0.10204441756333875,\n",
       " 0.10204441756333875,\n",
       " 0.10204441756333875,\n",
       " 0.10204441756333875,\n",
       " 0.10204441756333875,\n",
       " 0.10204441756333875,\n",
       " 0.10204441756333875,\n",
       " 0.10204441756333875,\n",
       " 0.10204441756333875,\n",
       " 0.10204441756333875,\n",
       " 0.10204441756333875,\n",
       " 0.10204441756333875,\n",
       " 0.10204441756333875,\n",
       " 0.10204441756333875,\n",
       " 0.10204441756333875,\n",
       " 0.10204441756333875,\n",
       " 0.10204441756333875,\n",
       " 0.10204441756333875,\n",
       " 0.10204441756333875,\n",
       " 0.10204441756333875,\n",
       " 0.10204441756333875,\n",
       " 0.10204441756333875,\n",
       " 0.10204441756333875,\n",
       " 0.10204441756333875,\n",
       " 0.10204441756333875,\n",
       " 0.10204441756333875,\n",
       " 0.10204441756333875,\n",
       " 0.10204441756333875,\n",
       " 0.10204441756333875,\n",
       " 0.10204441756333875,\n",
       " 0.10204441756333875,\n",
       " 0.10204441756333875,\n",
       " 0.10204441756333875,\n",
       " 0.10204441756333875,\n",
       " 0.10204441756333875,\n",
       " 0.10204441756333875,\n",
       " 0.10204441756333875,\n",
       " 0.10204441756333875,\n",
       " 0.10204441756333875,\n",
       " 0.10204441756333875,\n",
       " 0.10204441756333875,\n",
       " 0.10204441756333875,\n",
       " 0.10204441756333875,\n",
       " 0.10204441756333875,\n",
       " 0.10204441756333875,\n",
       " 0.10204441756333875,\n",
       " 0.10204441756333875,\n",
       " 0.10204441756333875,\n",
       " 0.10204441756333875,\n",
       " 0.10204441756333875,\n",
       " 0.10204441756333875,\n",
       " 0.10204441756333875,\n",
       " 0.10204441756333875,\n",
       " 0.10204441756333875,\n",
       " 0.10204441756333875,\n",
       " 0.10204441756333875,\n",
       " 0.10204441756333875,\n",
       " 0.10204441756333875,\n",
       " 0.10204441756333875,\n",
       " 0.10204441756333875,\n",
       " 0.10204441756333875,\n",
       " 0.10204441756333875,\n",
       " 0.10204441756333875,\n",
       " 0.10204441756333875,\n",
       " 0.10204441756333875,\n",
       " 0.10204441756333875,\n",
       " 0.10204441756333875,\n",
       " 0.10204441756333875,\n",
       " 0.10204441756333875,\n",
       " 0.10204441756333875,\n",
       " 0.10204441756333875,\n",
       " 0.10204441756333875,\n",
       " 0.10204441756333875,\n",
       " 0.10204441756333875,\n",
       " 0.10204441756333875,\n",
       " 0.10204441756333875,\n",
       " 0.10204441756333875,\n",
       " 0.10204441756333875,\n",
       " 0.10204441756333875,\n",
       " 0.10204441756333875,\n",
       " 0.10204441756333875,\n",
       " 0.10204441756333875,\n",
       " 0.10204441756333875,\n",
       " 0.10204441756333875,\n",
       " 0.10204441756333875,\n",
       " 0.10204441756333875,\n",
       " 0.10204441756333875,\n",
       " 0.10204441756333875,\n",
       " 0.10204441756333875,\n",
       " 0.10204441756333875,\n",
       " 0.10204441756333875,\n",
       " 0.10204441756333875,\n",
       " 0.10204441756333875,\n",
       " 0.10204441756333875,\n",
       " 0.10204441756333875,\n",
       " 0.10204441756333875,\n",
       " 0.10204441756333875,\n",
       " 0.10204441756333875,\n",
       " 0.10204441756333875,\n",
       " 0.10204441756333875,\n",
       " 0.10204441756333875,\n",
       " 0.10204441756333875,\n",
       " 0.10204441756333875,\n",
       " 0.10204441756333875,\n",
       " 0.10204441756333875,\n",
       " 0.10204441756333875,\n",
       " 0.10204441756333875,\n",
       " 0.10204441756333875,\n",
       " 0.10204441756333875,\n",
       " 0.10204441756333875,\n",
       " 0.10204441756333875,\n",
       " 0.10204441756333875,\n",
       " 0.10204441756333875,\n",
       " 0.10204441756333875,\n",
       " 0.10204441756333875,\n",
       " 0.10204441756333875,\n",
       " 0.10204441756333875,\n",
       " 0.10204441756333875,\n",
       " 0.10204441756333875,\n",
       " 0.10204441756333875,\n",
       " 0.10204441756333875,\n",
       " 0.10204441756333875,\n",
       " 0.10204441756333875,\n",
       " 0.10204441756333875,\n",
       " 0.10204441756333875,\n",
       " 0.10204441756333875,\n",
       " 0.10204441756333875,\n",
       " 0.10204441756333875,\n",
       " 0.10204441756333875,\n",
       " 0.10204441756333875,\n",
       " 0.10204441756333875,\n",
       " 0.10204441756333875,\n",
       " 0.10204441756333875,\n",
       " 0.10204441756333875,\n",
       " 0.10204441756333875,\n",
       " 0.10204441756333875,\n",
       " 0.10204441756333875,\n",
       " 0.10204441756333875,\n",
       " 0.10204441756333875,\n",
       " 0.10204441756333875,\n",
       " 0.10204441756333875,\n",
       " 0.10204441756333875,\n",
       " 0.10204441756333875,\n",
       " 0.10204441756333875,\n",
       " 0.10204441756333875,\n",
       " 0.10204441756333875,\n",
       " 0.10204441756333875,\n",
       " 0.10204441756333875,\n",
       " 0.10204441756333875,\n",
       " 0.10204441756333875,\n",
       " 0.10204441756333875,\n",
       " 0.10204441756333875,\n",
       " 0.10204441756333875,\n",
       " 0.10204441756333875,\n",
       " 0.10204441756333875,\n",
       " 0.10204441756333875,\n",
       " 0.10204441756333875,\n",
       " 0.10204441756333875,\n",
       " 0.10204441756333875,\n",
       " 0.10204441756333875,\n",
       " 0.10204441756333875,\n",
       " 0.10204441756333875,\n",
       " 0.10204441756333875,\n",
       " 0.10204441756333875,\n",
       " 0.10204441756333875,\n",
       " 0.10204441756333875,\n",
       " 0.10204441756333875,\n",
       " 0.10204441756333875,\n",
       " 0.10204441756333875,\n",
       " 0.10204441756333875,\n",
       " 0.10204441756333875,\n",
       " 0.10204441756333875,\n",
       " 0.10204441756333875,\n",
       " 0.10204441756333875,\n",
       " 0.10204441756333875,\n",
       " 0.10204441756333875,\n",
       " 0.10204441756333875,\n",
       " 0.10204441756333875,\n",
       " 0.10204441756333875,\n",
       " 0.10204441756333875,\n",
       " 0.10204441756333875,\n",
       " 0.10204441756333875,\n",
       " 0.10204441756333875,\n",
       " 0.10204441756333875,\n",
       " 0.10204441756333875,\n",
       " 0.10204441756333875,\n",
       " 0.10204441756333875,\n",
       " 0.10204441756333875,\n",
       " 0.10204441756333875,\n",
       " 0.10204441756333875,\n",
       " 0.10204441756333875,\n",
       " 0.10204441756333875,\n",
       " 0.10204441756333875,\n",
       " 0.10204441756333875,\n",
       " 0.10204441756333875,\n",
       " 0.10204441756333875,\n",
       " 0.10204441756333875,\n",
       " 0.10204441756333875,\n",
       " 0.10204441756333875,\n",
       " 0.10204441756333875,\n",
       " 0.10204441756333875,\n",
       " 0.10204441756333875,\n",
       " 0.10204441756333875,\n",
       " 0.10204441756333875,\n",
       " 0.10204441756333875,\n",
       " 0.10204441756333875,\n",
       " 0.10204441756333875,\n",
       " 0.10204441756333875,\n",
       " 0.10204441756333875,\n",
       " 0.10204441756333875,\n",
       " 0.10204441756333875,\n",
       " 0.10204441756333875,\n",
       " 0.10204441756333875,\n",
       " 0.10204441756333875,\n",
       " 0.10204441756333875,\n",
       " 0.10204441756333875,\n",
       " 0.10204441756333875,\n",
       " 0.10204441756333875,\n",
       " 0.10204441756333875,\n",
       " 0.10204441756333875,\n",
       " 0.10204441756333875,\n",
       " 0.10204441756333875,\n",
       " 0.10204441756333875,\n",
       " 0.10204441756333875,\n",
       " 0.10204441756333875,\n",
       " 0.10204441756333875,\n",
       " 0.10204441756333875,\n",
       " 0.10204441756333875,\n",
       " 0.10204441756333875,\n",
       " 0.10204441756333875,\n",
       " 0.10204441756333875,\n",
       " 0.10204441756333875,\n",
       " 0.10204441756333875,\n",
       " 0.10204441756333875,\n",
       " 0.10204441756333875,\n",
       " 0.10204441756333875,\n",
       " 0.10204441756333875,\n",
       " 0.10204441756333875,\n",
       " 0.10204441756333875,\n",
       " 0.10204441756333875,\n",
       " 0.10204441756333875,\n",
       " 0.10204441756333875,\n",
       " 0.10204441756333875,\n",
       " 0.10204441756333875,\n",
       " 0.10204441756333875,\n",
       " 0.10204441756333875,\n",
       " 0.10204441756333875,\n",
       " 0.10204441756333875,\n",
       " 0.10204441756333875,\n",
       " 0.10204441756333875,\n",
       " 0.10204441756333875,\n",
       " 0.10204441756333875,\n",
       " 0.10204441756333875,\n",
       " 0.10204441756333875,\n",
       " 0.10204441756333875,\n",
       " 0.10204441756333875,\n",
       " 0.10204441756333875,\n",
       " 0.10204441756333875,\n",
       " 0.10204441756333875,\n",
       " 0.10204441756333875,\n",
       " 0.10204441756333875,\n",
       " 0.10204441756333875,\n",
       " 0.10204441756333875,\n",
       " 0.10204441756333875,\n",
       " 0.10204441756333875,\n",
       " 0.10204441756333875,\n",
       " 0.10204441756333875,\n",
       " 0.10204441756333875,\n",
       " 0.10204441756333875,\n",
       " 0.10204441756333875,\n",
       " 0.10204441756333875,\n",
       " 0.10204441756333875,\n",
       " 0.10204441756333875,\n",
       " 0.10204441756333875,\n",
       " 0.10204441756333875,\n",
       " 0.10204441756333875,\n",
       " 0.10204441756333875,\n",
       " 0.10204441756333875,\n",
       " 0.10204441756333875,\n",
       " 0.10204441756333875,\n",
       " 0.10204441756333875,\n",
       " 0.10204441756333875,\n",
       " 0.10204441756333875,\n",
       " 0.10204441756333875,\n",
       " 0.10204441756333875,\n",
       " 0.10204441756333875,\n",
       " 0.10204441756333875,\n",
       " 0.10204441756333875,\n",
       " 0.10204441756333875,\n",
       " 0.10204441756333875,\n",
       " 0.10204441756333875,\n",
       " 0.10204441756333875,\n",
       " 0.10204441756333875,\n",
       " 0.10204441756333875,\n",
       " 0.10204441756333875,\n",
       " 0.10204441756333875,\n",
       " 0.10204441756333875,\n",
       " 0.10204441756333875,\n",
       " 0.10204441756333875,\n",
       " 0.10204441756333875,\n",
       " 0.10204441756333875,\n",
       " 0.10204441756333875,\n",
       " 0.10204441756333875,\n",
       " 0.10204441756333875,\n",
       " 0.10204441756333875,\n",
       " 0.10204441756333875,\n",
       " 0.10204441756333875,\n",
       " 0.10204441756333875,\n",
       " 0.10204441756333875,\n",
       " 0.10204441756333875,\n",
       " 0.10204441756333875,\n",
       " 0.10204441756333875,\n",
       " 0.10204441756333875,\n",
       " 0.10204441756333875,\n",
       " 0.10204441756333875,\n",
       " 0.10204441756333875,\n",
       " 0.10204441756333875,\n",
       " 0.10204441756333875,\n",
       " 0.10204441756333875,\n",
       " 0.10204441756333875,\n",
       " 0.10204441756333875,\n",
       " 0.10204441756333875,\n",
       " 0.10204441756333875,\n",
       " 0.10204441756333875,\n",
       " 0.10204441756333875,\n",
       " 0.10204441756333875,\n",
       " 0.10204441756333875,\n",
       " 0.10204441756333875,\n",
       " 0.10204441756333875,\n",
       " 0.10204441756333875,\n",
       " 0.10204441756333875,\n",
       " 0.10204441756333875,\n",
       " 0.10204441756333875,\n",
       " 0.10204441756333875,\n",
       " 0.10204441756333875,\n",
       " 0.10204441756333875,\n",
       " 0.10204441756333875,\n",
       " 0.10204441756333875,\n",
       " 0.10204441756333875,\n",
       " 0.10204441756333875,\n",
       " 0.10204441756333875,\n",
       " 0.10204441756333875,\n",
       " 0.10204441756333875,\n",
       " 0.10204441756333875,\n",
       " 0.10204441756333875,\n",
       " 0.10204441756333875,\n",
       " 0.10204441756333875,\n",
       " 0.10204441756333875,\n",
       " 0.10204441756333875,\n",
       " 0.10204441756333875,\n",
       " 0.10204441756333875,\n",
       " 0.10204441756333875,\n",
       " 0.10204441756333875,\n",
       " 0.10204441756333875,\n",
       " 0.10204441756333875,\n",
       " 0.10204441756333875,\n",
       " 0.10204441756333875,\n",
       " 0.10204441756333875,\n",
       " 0.10204441756333875,\n",
       " 0.10204441756333875,\n",
       " 0.10204441756333875,\n",
       " 0.10204441756333875,\n",
       " 0.10204441756333875,\n",
       " 0.10204441756333875,\n",
       " 0.10204441756333875,\n",
       " 0.10204441756333875,\n",
       " 0.10204441756333875,\n",
       " 0.10204441756333875,\n",
       " 0.10204441756333875,\n",
       " 0.10204441756333875,\n",
       " 0.10204441756333875,\n",
       " 0.10204441756333875,\n",
       " 0.10204441756333875,\n",
       " 0.10204441756333875,\n",
       " 0.10204441756333875,\n",
       " 0.10204441756333875,\n",
       " 0.10204441756333875,\n",
       " 0.10204441756333875,\n",
       " 0.10204441756333875,\n",
       " 0.10204441756333875,\n",
       " 0.10204441756333875,\n",
       " 0.10204441756333875,\n",
       " 0.10204441756333875,\n",
       " 0.10204441756333875,\n",
       " 0.10204441756333875,\n",
       " 0.10204441756333875,\n",
       " 0.10204441756333875,\n",
       " 0.10204441756333875,\n",
       " 0.10204441756333875,\n",
       " 0.10204441756333875,\n",
       " 0.10204441756333875,\n",
       " 0.10204441756333875,\n",
       " 0.10204441756333875,\n",
       " 0.10204441756333875,\n",
       " 0.10204441756333875,\n",
       " 0.10204441756333875,\n",
       " 0.10204441756333875,\n",
       " 0.10204441756333875,\n",
       " 0.10204441756333875,\n",
       " 0.10204441756333875,\n",
       " 0.10204441756333875,\n",
       " 0.10204441756333875,\n",
       " 0.10204441756333875,\n",
       " 0.10204441756333875,\n",
       " 0.10204441756333875,\n",
       " 0.10204441756333875,\n",
       " 0.10204441756333875,\n",
       " 0.10204441756333875,\n",
       " 0.10204441756333875,\n",
       " 0.10204441756333875,\n",
       " 0.10204441756333875,\n",
       " 0.10204441756333875,\n",
       " 0.10204441756333875,\n",
       " 0.10204441756333875,\n",
       " 0.10204441756333875,\n",
       " 0.10204441756333875,\n",
       " 0.10204441756333875,\n",
       " 0.10204441756333875,\n",
       " 0.10204441756333875,\n",
       " 0.10204441756333875,\n",
       " 0.10204441756333875,\n",
       " 0.10204441756333875,\n",
       " 0.10204441756333875,\n",
       " 0.10204441756333875,\n",
       " 0.10204441756333875,\n",
       " 0.10204441756333875,\n",
       " 0.10204441756333875,\n",
       " 0.10204441756333875,\n",
       " 0.10204441756333875,\n",
       " 0.10204441756333875,\n",
       " 0.10204441756333875,\n",
       " 0.10204441756333875,\n",
       " 0.10204441756333875,\n",
       " 0.10204441756333875,\n",
       " 0.10204441756333875,\n",
       " 0.10204441756333875,\n",
       " 0.10204441756333875,\n",
       " 0.10204441756333875,\n",
       " 0.10204441756333875,\n",
       " 0.10204441756333875,\n",
       " 0.10204441756333875,\n",
       " 0.10204441756333875,\n",
       " 0.10204441756333875,\n",
       " 0.10204441756333875,\n",
       " 0.10204441756333875,\n",
       " 0.10204441756333875,\n",
       " 0.10204441756333875,\n",
       " 0.10204441756333875,\n",
       " 0.10204441756333875,\n",
       " 0.10204441756333875,\n",
       " 0.10204441756333875,\n",
       " 0.10204441756333875,\n",
       " 0.10204441756333875,\n",
       " 0.10204441756333875,\n",
       " 0.10204441756333875,\n",
       " 0.10204441756333875,\n",
       " 0.10204441756333875,\n",
       " 0.10204441756333875,\n",
       " 0.10204441756333875,\n",
       " 0.10204441756333875,\n",
       " 0.10204441756333875,\n",
       " 0.10204441756333875,\n",
       " 0.10204441756333875,\n",
       " 0.10204441756333875,\n",
       " 0.10204441756333875,\n",
       " 0.10204441756333875,\n",
       " 0.10204441756333875,\n",
       " 0.10204441756333875,\n",
       " 0.10204441756333875,\n",
       " 0.10204441756333875,\n",
       " 0.10204441756333875,\n",
       " 0.10204441756333875,\n",
       " 0.10204441756333875,\n",
       " 0.10204441756333875,\n",
       " 0.10204441756333875,\n",
       " 0.10204441756333875,\n",
       " 0.10204441756333875,\n",
       " 0.10204441756333875,\n",
       " 0.10204441756333875,\n",
       " 0.10204441756333875,\n",
       " 0.10204441756333875,\n",
       " 0.10204441756333875,\n",
       " 0.10204441756333875,\n",
       " 0.10204441756333875,\n",
       " 0.10204441756333875,\n",
       " 0.10204441756333875,\n",
       " 0.10204441756333875,\n",
       " 0.10204441756333875,\n",
       " 0.10204441756333875,\n",
       " 0.10204441756333875,\n",
       " 0.10204441756333875,\n",
       " 0.10204441756333875,\n",
       " 0.10204441756333875,\n",
       " 0.10204441756333875,\n",
       " 0.10204441756333875,\n",
       " 0.10204441756333875,\n",
       " 0.10204441756333875,\n",
       " 0.10204441756333875,\n",
       " 0.10204441756333875,\n",
       " 0.10204441756333875,\n",
       " 0.10204441756333875,\n",
       " 0.10204441756333875,\n",
       " 0.10204441756333875,\n",
       " 0.10204441756333875,\n",
       " 0.10204441756333875,\n",
       " 0.10204441756333875,\n",
       " 0.10204441756333875,\n",
       " 0.10204441756333875,\n",
       " 0.10204441756333875,\n",
       " 0.10204441756333875,\n",
       " 0.10204441756333875,\n",
       " 0.10204441756333875,\n",
       " 0.10204441756333875,\n",
       " 0.10204441756333875,\n",
       " 0.10204441756333875,\n",
       " 0.10204441756333875,\n",
       " 0.10204441756333875,\n",
       " 0.10204441756333875,\n",
       " 0.10204441756333875,\n",
       " 0.10204441756333875,\n",
       " 0.10204441756333875,\n",
       " 0.10204441756333875,\n",
       " 0.10204441756333875,\n",
       " 0.10204441756333875,\n",
       " 0.10204441756333875,\n",
       " 0.10204441756333875,\n",
       " 0.10204441756333875,\n",
       " 0.10204441756333875,\n",
       " 0.10204441756333875,\n",
       " 0.10204441756333875,\n",
       " 0.10204441756333875,\n",
       " 0.10204441756333875,\n",
       " 0.10204441756333875,\n",
       " 0.10204441756333875,\n",
       " 0.10204441756333875,\n",
       " 0.10204441756333875,\n",
       " 0.10204441756333875,\n",
       " 0.10204441756333875,\n",
       " 0.10204441756333875,\n",
       " 0.10204441756333875,\n",
       " 0.10204441756333875,\n",
       " 0.10204441756333875,\n",
       " 0.10204441756333875,\n",
       " 0.10204441756333875,\n",
       " 0.10204441756333875,\n",
       " 0.10204441756333875,\n",
       " 0.10204441756333875,\n",
       " 0.10204441756333875,\n",
       " 0.10204441756333875,\n",
       " 0.10204441756333875,\n",
       " 0.10204441756333875,\n",
       " 0.10204441756333875,\n",
       " 0.10204441756333875,\n",
       " 0.10204441756333875,\n",
       " 0.10204441756333875,\n",
       " 0.10204441756333875,\n",
       " 0.10204441756333875,\n",
       " 0.10204441756333875,\n",
       " 0.10204441756333875,\n",
       " 0.10204441756333875,\n",
       " 0.10204441756333875,\n",
       " 0.10204441756333875,\n",
       " 0.10204441756333875,\n",
       " 0.10204441756333875,\n",
       " 0.10204441756333875,\n",
       " 0.10204441756333875,\n",
       " 0.10204441756333875,\n",
       " 0.10204441756333875,\n",
       " 0.10204441756333875,\n",
       " 0.10204441756333875,\n",
       " 0.10204441756333875,\n",
       " 0.10204441756333875,\n",
       " 0.10204441756333875,\n",
       " 0.10204441756333875,\n",
       " 0.10204441756333875,\n",
       " 0.10204441756333875,\n",
       " 0.10204441756333875,\n",
       " 0.10204441756333875,\n",
       " 0.10204441756333875,\n",
       " 0.10204441756333875,\n",
       " 0.10204441756333875,\n",
       " 0.10204441756333875,\n",
       " 0.10204441756333875,\n",
       " 0.10204441756333875,\n",
       " 0.10204441756333875,\n",
       " 0.10204441756333875,\n",
       " 0.10204441756333875,\n",
       " 0.10204441756333875,\n",
       " 0.10204441756333875,\n",
       " 0.10204441756333875,\n",
       " 0.10204441756333875,\n",
       " 0.10204441756333875,\n",
       " 0.10204441756333875,\n",
       " 0.10204441756333875,\n",
       " 0.10204441756333875,\n",
       " 0.10204441756333875,\n",
       " 0.10204441756333875,\n",
       " 0.10204441756333875,\n",
       " 0.10204441756333875,\n",
       " 0.10204441756333875,\n",
       " 0.10204441756333875,\n",
       " 0.10204441756333875,\n",
       " 0.10204441756333875,\n",
       " 0.10204441756333875,\n",
       " 0.10204441756333875,\n",
       " 0.10204441756333875,\n",
       " 0.10204441756333875,\n",
       " 0.10204441756333875,\n",
       " 0.10204441756333875,\n",
       " 0.10204441756333875,\n",
       " 0.10204441756333875,\n",
       " 0.10204441756333875,\n",
       " 0.10204441756333875,\n",
       " 0.10204441756333875,\n",
       " 0.10204441756333875,\n",
       " 0.10204441756333875,\n",
       " 0.10204441756333875,\n",
       " 0.10204441756333875,\n",
       " 0.10204441756333875,\n",
       " 0.10204441756333875,\n",
       " 0.10204441756333875,\n",
       " 0.10204441756333875,\n",
       " 0.10204441756333875,\n",
       " 0.10204441756333875,\n",
       " 0.10204441756333875,\n",
       " 0.10204441756333875,\n",
       " 0.10204441756333875,\n",
       " 0.10204441756333875,\n",
       " 0.10204441756333875,\n",
       " 0.10204441756333875,\n",
       " 0.10204441756333875,\n",
       " 0.10204441756333875,\n",
       " 0.10204441756333875,\n",
       " 0.10204441756333875,\n",
       " 0.10204441756333875,\n",
       " 0.10204441756333875,\n",
       " 0.10204441756333875,\n",
       " 0.10204441756333875,\n",
       " 0.10204441756333875,\n",
       " 0.10204441756333875,\n",
       " 0.10204441756333875,\n",
       " 0.10204441756333875,\n",
       " 0.10204441756333875,\n",
       " 0.10204441756333875,\n",
       " 0.10204441756333875,\n",
       " 0.10204441756333875,\n",
       " 0.10204441756333875,\n",
       " 0.10204441756333875,\n",
       " 0.10204441756333875,\n",
       " 0.10204441756333875,\n",
       " 0.10204441756333875,\n",
       " 0.10204441756333875,\n",
       " 0.10204441756333875,\n",
       " 0.10204441756333875,\n",
       " 0.10204441756333875,\n",
       " 0.10204441756333875,\n",
       " 0.10204441756333875,\n",
       " 0.10204441756333875,\n",
       " 0.10204441756333875,\n",
       " 0.10204441756333875,\n",
       " 0.10204441756333875,\n",
       " 0.10204441756333875,\n",
       " 0.10204441756333875,\n",
       " 0.10204441756333875,\n",
       " 0.10204441756333875,\n",
       " 0.10204441756333875,\n",
       " 0.10204441756333875,\n",
       " 0.10204441756333875,\n",
       " 0.10204441756333875,\n",
       " 0.10204441756333875,\n",
       " 0.10204441756333875,\n",
       " 0.10204441756333875,\n",
       " 0.10204441756333875,\n",
       " 0.10204441756333875,\n",
       " 0.10204441756333875,\n",
       " 0.10204441756333875,\n",
       " 0.10204441756333875,\n",
       " 0.10204441756333875,\n",
       " 0.10204441756333875,\n",
       " 0.10204441756333875,\n",
       " 0.10204441756333875,\n",
       " 0.10204441756333875,\n",
       " 0.10204441756333875,\n",
       " 0.10204441756333875,\n",
       " 0.10204441756333875,\n",
       " 0.10204441756333875,\n",
       " 0.10204441756333875,\n",
       " 0.10204441756333875,\n",
       " 0.10204441756333875,\n",
       " 0.10204441756333875,\n",
       " 0.10204441756333875,\n",
       " 0.10204441756333875,\n",
       " 0.10204441756333875,\n",
       " 0.10204441756333875,\n",
       " 0.10204441756333875,\n",
       " 0.10204441756333875,\n",
       " 0.10204441756333875,\n",
       " 0.10204441756333875,\n",
       " 0.10204441756333875,\n",
       " 0.10204441756333875,\n",
       " 0.10204441756333875,\n",
       " 0.10204441756333875,\n",
       " 0.10204441756333875,\n",
       " 0.10204441756333875,\n",
       " 0.10204441756333875,\n",
       " 0.10204441756333875,\n",
       " 0.10204441756333875,\n",
       " 0.10204441756333875,\n",
       " 0.10204441756333875,\n",
       " 0.10204441756333875,\n",
       " 0.10204441756333875,\n",
       " 0.10204441756333875,\n",
       " 0.10204441756333875,\n",
       " 0.10204441756333875,\n",
       " 0.10204441756333875,\n",
       " 0.10204441756333875,\n",
       " 0.10204441756333875,\n",
       " 0.10204441756333875,\n",
       " 0.10204441756333875,\n",
       " 0.10204441756333875,\n",
       " 0.10204441756333875,\n",
       " 0.10204441756333875,\n",
       " 0.10204441756333875,\n",
       " 0.10204441756333875,\n",
       " 0.10204441756333875,\n",
       " 0.10204441756333875,\n",
       " 0.10204441756333875,\n",
       " 0.10204441756333875,\n",
       " 0.10204441756333875,\n",
       " 0.10204441756333875,\n",
       " 0.10204441756333875,\n",
       " 0.10204441756333875,\n",
       " 0.10204441756333875,\n",
       " 0.10204441756333875,\n",
       " 0.10204441756333875,\n",
       " 0.10204441756333875,\n",
       " 0.10204441756333875,\n",
       " 0.10204441756333875,\n",
       " 0.10204441756333875,\n",
       " 0.10204441756333875,\n",
       " 0.10204441756333875,\n",
       " 0.10204441756333875,\n",
       " 0.10204441756333875,\n",
       " 0.10204441756333875,\n",
       " 0.10204441756333875,\n",
       " 0.10204441756333875,\n",
       " 0.10204441756333875,\n",
       " 0.10204441756333875,\n",
       " 0.10204441756333875,\n",
       " 0.10204441756333875,\n",
       " 0.10204441756333875,\n",
       " 0.10204441756333875,\n",
       " 0.10204441756333875,\n",
       " 0.10204441756333875,\n",
       " 0.10204441756333875,\n",
       " 0.10204441756333875,\n",
       " 0.10204441756333875,\n",
       " 0.10204441756333875,\n",
       " 0.10204441756333875,\n",
       " 0.10204441756333875,\n",
       " 0.10204441756333875,\n",
       " 0.10204441756333875,\n",
       " 0.10204441756333875,\n",
       " 0.10204441756333875,\n",
       " 0.10204441756333875,\n",
       " 0.10204441756333875,\n",
       " 0.10204441756333875,\n",
       " 0.10204441756333875,\n",
       " 0.10204441756333875,\n",
       " 0.10204441756333875,\n",
       " 0.10204441756333875,\n",
       " 0.10204441756333875,\n",
       " 0.10204441756333875,\n",
       " 0.10204441756333875,\n",
       " 0.10204441756333875,\n",
       " 0.10204441756333875,\n",
       " 0.10204441756333875,\n",
       " 0.10204441756333875,\n",
       " 0.10204441756333875,\n",
       " 0.10204441756333875,\n",
       " 0.10204441756333875,\n",
       " 0.10204441756333875,\n",
       " 0.10204441756333875,\n",
       " 0.10204441756333875,\n",
       " 0.10204441756333875,\n",
       " 0.10204441756333875,\n",
       " 0.10204441756333875,\n",
       " 0.10204441756333875,\n",
       " 0.10204441756333875,\n",
       " 0.10204441756333875,\n",
       " 0.10204441756333875,\n",
       " 0.10204441756333875,\n",
       " 0.10204441756333875,\n",
       " 0.10204441756333875,\n",
       " 0.10204441756333875,\n",
       " 0.10204441756333875,\n",
       " 0.10204441756333875,\n",
       " 0.10204441756333875,\n",
       " 0.10204441756333875,\n",
       " 0.10204441756333875,\n",
       " 0.10204441756333875,\n",
       " 0.10204441756333875,\n",
       " 0.10204441756333875,\n",
       " 0.10204441756333875,\n",
       " 0.10204441756333875,\n",
       " 0.10204441756333875,\n",
       " 0.10204441756333875,\n",
       " 0.10204441756333875,\n",
       " 0.10204441756333875,\n",
       " 0.10204441756333875,\n",
       " 0.10204441756333875,\n",
       " 0.10204441756333875,\n",
       " 0.10204441756333875,\n",
       " 0.10204441756333875,\n",
       " 0.10204441756333875,\n",
       " 0.10204441756333875,\n",
       " 0.10204441756333875,\n",
       " 0.10204441756333875,\n",
       " 0.10204441756333875,\n",
       " 0.10204441756333875,\n",
       " 0.10204441756333875,\n",
       " 0.10204441756333875,\n",
       " 0.10204441756333875,\n",
       " 0.10204441756333875,\n",
       " 0.10204441756333875,\n",
       " 0.10204441756333875,\n",
       " 0.10204441756333875,\n",
       " 0.10204441756333875,\n",
       " 0.10204441756333875,\n",
       " 0.10204441756333875,\n",
       " 0.10204441756333875,\n",
       " 0.10204441756333875,\n",
       " 0.10204441756333875,\n",
       " 0.10204441756333875,\n",
       " 0.10204441756333875,\n",
       " 0.10204441756333875,\n",
       " 0.10204441756333875,\n",
       " 0.10204441756333875,\n",
       " 0.10204441756333875,\n",
       " 0.10204441756333875,\n",
       " 0.10204441756333875,\n",
       " 0.10204441756333875,\n",
       " 0.10204441756333875,\n",
       " 0.10204441756333875,\n",
       " 0.10204441756333875,\n",
       " 0.10204441756333875,\n",
       " 0.10204441756333875,\n",
       " 0.10204441756333875,\n",
       " 0.10204441756333875,\n",
       " 0.10204441756333875,\n",
       " 0.10204441756333875,\n",
       " 0.10204441756333875,\n",
       " 0.10204441756333875,\n",
       " 0.10204441756333875,\n",
       " 0.10204441756333875,\n",
       " 0.10204441756333875,\n",
       " 0.10204441756333875,\n",
       " 0.10204441756333875,\n",
       " 0.10204441756333875,\n",
       " 0.10204441756333875,\n",
       " 0.10204441756333875,\n",
       " 0.10204441756333875,\n",
       " ...]"
      ]
     },
     "execution_count": 147,
     "metadata": {},
     "output_type": "execute_result"
    }
   ],
   "source": [
    "ypreds = []\n",
    "for x in np.nditer(ypred):\n",
    "    ypreds.append(sigmoid(x))\n",
    "ypreds"
   ]
  },
  {
   "cell_type": "code",
   "execution_count": 145,
   "metadata": {
    "collapsed": true
   },
   "outputs": [
    {
     "data": {
      "text/plain": [
       "[array(-2.1747124195098877, dtype=float32),\n",
       " array(-2.1747124195098877, dtype=float32),\n",
       " array(-2.1747124195098877, dtype=float32),\n",
       " array(-2.1747124195098877, dtype=float32),\n",
       " array(-2.1747124195098877, dtype=float32),\n",
       " array(-2.1747124195098877, dtype=float32),\n",
       " array(-2.1747124195098877, dtype=float32),\n",
       " array(-2.1747124195098877, dtype=float32),\n",
       " array(-2.1747124195098877, dtype=float32),\n",
       " array(-2.1747124195098877, dtype=float32),\n",
       " array(-2.1747124195098877, dtype=float32),\n",
       " array(-2.1747124195098877, dtype=float32),\n",
       " array(-2.1747124195098877, dtype=float32),\n",
       " array(-2.1747124195098877, dtype=float32),\n",
       " array(-2.1747124195098877, dtype=float32),\n",
       " array(-2.1747124195098877, dtype=float32),\n",
       " array(-2.1747124195098877, dtype=float32),\n",
       " array(-2.1747124195098877, dtype=float32),\n",
       " array(-2.1747124195098877, dtype=float32),\n",
       " array(-2.1747124195098877, dtype=float32),\n",
       " array(-2.1747124195098877, dtype=float32),\n",
       " array(-2.1747124195098877, dtype=float32),\n",
       " array(-2.1747124195098877, dtype=float32),\n",
       " array(-2.1747124195098877, dtype=float32),\n",
       " array(-2.1747124195098877, dtype=float32),\n",
       " array(-2.1747124195098877, dtype=float32),\n",
       " array(-2.1747124195098877, dtype=float32),\n",
       " array(-2.1747124195098877, dtype=float32),\n",
       " array(-2.1747124195098877, dtype=float32),\n",
       " array(-2.1747124195098877, dtype=float32),\n",
       " array(-2.1747124195098877, dtype=float32),\n",
       " array(-2.1747124195098877, dtype=float32),\n",
       " array(-2.1747124195098877, dtype=float32),\n",
       " array(-2.1747124195098877, dtype=float32),\n",
       " array(-2.1747124195098877, dtype=float32),\n",
       " array(-2.1747124195098877, dtype=float32),\n",
       " array(-2.1747124195098877, dtype=float32),\n",
       " array(-2.1747124195098877, dtype=float32),\n",
       " array(-2.1747124195098877, dtype=float32),\n",
       " array(-2.1747124195098877, dtype=float32),\n",
       " array(-2.1747124195098877, dtype=float32),\n",
       " array(-2.1747124195098877, dtype=float32),\n",
       " array(-2.1747124195098877, dtype=float32),\n",
       " array(-2.1747124195098877, dtype=float32),\n",
       " array(-2.1747124195098877, dtype=float32),\n",
       " array(-2.1747124195098877, dtype=float32),\n",
       " array(-2.1747124195098877, dtype=float32),\n",
       " array(-2.1747124195098877, dtype=float32),\n",
       " array(-2.1747124195098877, dtype=float32),\n",
       " array(-2.1747124195098877, dtype=float32),\n",
       " array(-2.1747124195098877, dtype=float32),\n",
       " array(-2.1747124195098877, dtype=float32),\n",
       " array(-2.1747124195098877, dtype=float32),\n",
       " array(-2.1747124195098877, dtype=float32),\n",
       " array(-2.1747124195098877, dtype=float32),\n",
       " array(-2.1747124195098877, dtype=float32),\n",
       " array(-2.1747124195098877, dtype=float32),\n",
       " array(-2.1747124195098877, dtype=float32),\n",
       " array(-2.1747124195098877, dtype=float32),\n",
       " array(-2.1747124195098877, dtype=float32),\n",
       " array(-2.1747124195098877, dtype=float32),\n",
       " array(-2.1747124195098877, dtype=float32),\n",
       " array(-2.1747124195098877, dtype=float32),\n",
       " array(-2.1747124195098877, dtype=float32),\n",
       " array(-2.1747124195098877, dtype=float32),\n",
       " array(-2.1747124195098877, dtype=float32),\n",
       " array(-2.1747124195098877, dtype=float32),\n",
       " array(-2.1747124195098877, dtype=float32),\n",
       " array(-2.1747124195098877, dtype=float32),\n",
       " array(-2.1747124195098877, dtype=float32),\n",
       " array(-2.1747124195098877, dtype=float32),\n",
       " array(-2.1747124195098877, dtype=float32),\n",
       " array(-2.1747124195098877, dtype=float32),\n",
       " array(-2.1747124195098877, dtype=float32),\n",
       " array(-2.1747124195098877, dtype=float32),\n",
       " array(-2.1747124195098877, dtype=float32),\n",
       " array(-2.1747124195098877, dtype=float32),\n",
       " array(-2.1747124195098877, dtype=float32),\n",
       " array(-2.1747124195098877, dtype=float32),\n",
       " array(-2.1747124195098877, dtype=float32),\n",
       " array(-2.1747124195098877, dtype=float32),\n",
       " array(-2.1747124195098877, dtype=float32),\n",
       " array(-2.1747124195098877, dtype=float32),\n",
       " array(-2.1747124195098877, dtype=float32),\n",
       " array(-2.1747124195098877, dtype=float32),\n",
       " array(-2.1747124195098877, dtype=float32),\n",
       " array(-2.1747124195098877, dtype=float32),\n",
       " array(-2.1747124195098877, dtype=float32),\n",
       " array(-2.1747124195098877, dtype=float32),\n",
       " array(-2.1747124195098877, dtype=float32),\n",
       " array(-2.1747124195098877, dtype=float32),\n",
       " array(-2.1747124195098877, dtype=float32),\n",
       " array(-2.1747124195098877, dtype=float32),\n",
       " array(-2.1747124195098877, dtype=float32),\n",
       " array(-2.1747124195098877, dtype=float32),\n",
       " array(-2.1747124195098877, dtype=float32),\n",
       " array(-2.1747124195098877, dtype=float32),\n",
       " array(-2.1747124195098877, dtype=float32),\n",
       " array(-2.1747124195098877, dtype=float32),\n",
       " array(-2.1747124195098877, dtype=float32),\n",
       " array(-2.1747124195098877, dtype=float32),\n",
       " array(-2.1747124195098877, dtype=float32),\n",
       " array(-2.1747124195098877, dtype=float32),\n",
       " array(-2.1747124195098877, dtype=float32),\n",
       " array(-2.1747124195098877, dtype=float32),\n",
       " array(-2.1747124195098877, dtype=float32),\n",
       " array(-2.1747124195098877, dtype=float32),\n",
       " array(-2.1747124195098877, dtype=float32),\n",
       " array(-2.1747124195098877, dtype=float32),\n",
       " array(-2.1747124195098877, dtype=float32),\n",
       " array(-2.1747124195098877, dtype=float32),\n",
       " array(-2.1747124195098877, dtype=float32),\n",
       " array(-2.1747124195098877, dtype=float32),\n",
       " array(-2.1747124195098877, dtype=float32),\n",
       " array(-2.1747124195098877, dtype=float32),\n",
       " array(-2.1747124195098877, dtype=float32),\n",
       " array(-2.1747124195098877, dtype=float32),\n",
       " array(-2.1747124195098877, dtype=float32),\n",
       " array(-2.1747124195098877, dtype=float32),\n",
       " array(-2.1747124195098877, dtype=float32),\n",
       " array(-2.1747124195098877, dtype=float32),\n",
       " array(-2.1747124195098877, dtype=float32),\n",
       " array(-2.1747124195098877, dtype=float32),\n",
       " array(-2.1747124195098877, dtype=float32),\n",
       " array(-2.1747124195098877, dtype=float32),\n",
       " array(-2.1747124195098877, dtype=float32),\n",
       " array(-2.1747124195098877, dtype=float32),\n",
       " array(-2.1747124195098877, dtype=float32),\n",
       " array(-2.1747124195098877, dtype=float32),\n",
       " array(-2.1747124195098877, dtype=float32),\n",
       " array(-2.1747124195098877, dtype=float32),\n",
       " array(-2.1747124195098877, dtype=float32),\n",
       " array(-2.1747124195098877, dtype=float32),\n",
       " array(-2.1747124195098877, dtype=float32),\n",
       " array(-2.1747124195098877, dtype=float32),\n",
       " array(-2.1747124195098877, dtype=float32),\n",
       " array(-2.1747124195098877, dtype=float32),\n",
       " array(-2.1747124195098877, dtype=float32),\n",
       " array(-2.1747124195098877, dtype=float32),\n",
       " array(-2.1747124195098877, dtype=float32),\n",
       " array(-2.1747124195098877, dtype=float32),\n",
       " array(-2.1747124195098877, dtype=float32),\n",
       " array(-2.1747124195098877, dtype=float32),\n",
       " array(-2.1747124195098877, dtype=float32),\n",
       " array(-2.1747124195098877, dtype=float32),\n",
       " array(-2.1747124195098877, dtype=float32),\n",
       " array(-2.1747124195098877, dtype=float32),\n",
       " array(-2.1747124195098877, dtype=float32),\n",
       " array(-2.1747124195098877, dtype=float32),\n",
       " array(-2.1747124195098877, dtype=float32),\n",
       " array(-2.1747124195098877, dtype=float32),\n",
       " array(-2.1747124195098877, dtype=float32),\n",
       " array(-2.1747124195098877, dtype=float32),\n",
       " array(-2.1747124195098877, dtype=float32),\n",
       " array(-2.1747124195098877, dtype=float32),\n",
       " array(-2.1747124195098877, dtype=float32),\n",
       " array(-2.1747124195098877, dtype=float32),\n",
       " array(-2.1747124195098877, dtype=float32),\n",
       " array(-2.1747124195098877, dtype=float32),\n",
       " array(-2.1747124195098877, dtype=float32),\n",
       " array(-2.1747124195098877, dtype=float32),\n",
       " array(-2.1747124195098877, dtype=float32),\n",
       " array(-2.1747124195098877, dtype=float32),\n",
       " array(-2.1747124195098877, dtype=float32),\n",
       " array(-2.1747124195098877, dtype=float32),\n",
       " array(-2.1747124195098877, dtype=float32),\n",
       " array(-2.1747124195098877, dtype=float32),\n",
       " array(-2.1747124195098877, dtype=float32),\n",
       " array(-2.1747124195098877, dtype=float32),\n",
       " array(-2.1747124195098877, dtype=float32),\n",
       " array(-2.1747124195098877, dtype=float32),\n",
       " array(-2.1747124195098877, dtype=float32),\n",
       " array(-2.1747124195098877, dtype=float32),\n",
       " array(-2.1747124195098877, dtype=float32),\n",
       " array(-2.1747124195098877, dtype=float32),\n",
       " array(-2.1747124195098877, dtype=float32),\n",
       " array(-2.1747124195098877, dtype=float32),\n",
       " array(-2.1747124195098877, dtype=float32),\n",
       " array(-2.1747124195098877, dtype=float32),\n",
       " array(-2.1747124195098877, dtype=float32),\n",
       " array(-2.1747124195098877, dtype=float32),\n",
       " array(-2.1747124195098877, dtype=float32),\n",
       " array(-2.1747124195098877, dtype=float32),\n",
       " array(-2.1747124195098877, dtype=float32),\n",
       " array(-2.1747124195098877, dtype=float32),\n",
       " array(-2.1747124195098877, dtype=float32),\n",
       " array(-2.1747124195098877, dtype=float32),\n",
       " array(-2.1747124195098877, dtype=float32),\n",
       " array(-2.1747124195098877, dtype=float32),\n",
       " array(-2.1747124195098877, dtype=float32),\n",
       " array(-2.1747124195098877, dtype=float32),\n",
       " array(-2.1747124195098877, dtype=float32),\n",
       " array(-2.1747124195098877, dtype=float32),\n",
       " array(-2.1747124195098877, dtype=float32),\n",
       " array(-2.1747124195098877, dtype=float32),\n",
       " array(-2.1747124195098877, dtype=float32),\n",
       " array(-2.1747124195098877, dtype=float32),\n",
       " array(-2.1747124195098877, dtype=float32),\n",
       " array(-2.1747124195098877, dtype=float32),\n",
       " array(-2.1747124195098877, dtype=float32),\n",
       " array(-2.1747124195098877, dtype=float32),\n",
       " array(-2.1747124195098877, dtype=float32),\n",
       " array(-2.1747124195098877, dtype=float32),\n",
       " array(-2.1747124195098877, dtype=float32),\n",
       " array(-2.1747124195098877, dtype=float32),\n",
       " array(-2.1747124195098877, dtype=float32),\n",
       " array(-2.1747124195098877, dtype=float32),\n",
       " array(-2.1747124195098877, dtype=float32),\n",
       " array(-2.1747124195098877, dtype=float32),\n",
       " array(-2.1747124195098877, dtype=float32),\n",
       " array(-2.1747124195098877, dtype=float32),\n",
       " array(-2.1747124195098877, dtype=float32),\n",
       " array(-2.1747124195098877, dtype=float32),\n",
       " array(-2.1747124195098877, dtype=float32),\n",
       " array(-2.1747124195098877, dtype=float32),\n",
       " array(-2.1747124195098877, dtype=float32),\n",
       " array(-2.1747124195098877, dtype=float32),\n",
       " array(-2.1747124195098877, dtype=float32),\n",
       " array(-2.1747124195098877, dtype=float32),\n",
       " array(-2.1747124195098877, dtype=float32),\n",
       " array(-2.1747124195098877, dtype=float32),\n",
       " array(-2.1747124195098877, dtype=float32),\n",
       " array(-2.1747124195098877, dtype=float32),\n",
       " array(-2.1747124195098877, dtype=float32),\n",
       " array(-2.1747124195098877, dtype=float32),\n",
       " array(-2.1747124195098877, dtype=float32),\n",
       " array(-2.1747124195098877, dtype=float32),\n",
       " array(-2.1747124195098877, dtype=float32),\n",
       " array(-2.1747124195098877, dtype=float32),\n",
       " array(-2.1747124195098877, dtype=float32),\n",
       " array(-2.1747124195098877, dtype=float32),\n",
       " array(-2.1747124195098877, dtype=float32),\n",
       " array(-2.1747124195098877, dtype=float32),\n",
       " array(-2.1747124195098877, dtype=float32),\n",
       " array(-2.1747124195098877, dtype=float32),\n",
       " array(-2.1747124195098877, dtype=float32),\n",
       " array(-2.1747124195098877, dtype=float32),\n",
       " array(-2.1747124195098877, dtype=float32),\n",
       " array(-2.1747124195098877, dtype=float32),\n",
       " array(-2.1747124195098877, dtype=float32),\n",
       " array(-2.1747124195098877, dtype=float32),\n",
       " array(-2.1747124195098877, dtype=float32),\n",
       " array(-2.1747124195098877, dtype=float32),\n",
       " array(-2.1747124195098877, dtype=float32),\n",
       " array(-2.1747124195098877, dtype=float32),\n",
       " array(-2.1747124195098877, dtype=float32),\n",
       " array(-2.1747124195098877, dtype=float32),\n",
       " array(-2.1747124195098877, dtype=float32),\n",
       " array(-2.1747124195098877, dtype=float32),\n",
       " array(-2.1747124195098877, dtype=float32),\n",
       " array(-2.1747124195098877, dtype=float32),\n",
       " array(-2.1747124195098877, dtype=float32),\n",
       " array(-2.1747124195098877, dtype=float32),\n",
       " array(-2.1747124195098877, dtype=float32),\n",
       " array(-2.1747124195098877, dtype=float32),\n",
       " array(-2.1747124195098877, dtype=float32),\n",
       " array(-2.1747124195098877, dtype=float32),\n",
       " array(-2.1747124195098877, dtype=float32),\n",
       " array(-2.1747124195098877, dtype=float32),\n",
       " array(-2.1747124195098877, dtype=float32),\n",
       " array(-2.1747124195098877, dtype=float32),\n",
       " array(-2.1747124195098877, dtype=float32),\n",
       " array(-2.1747124195098877, dtype=float32),\n",
       " array(-2.1747124195098877, dtype=float32),\n",
       " array(-2.1747124195098877, dtype=float32),\n",
       " array(-2.1747124195098877, dtype=float32),\n",
       " array(-2.1747124195098877, dtype=float32),\n",
       " array(-2.1747124195098877, dtype=float32),\n",
       " array(-2.1747124195098877, dtype=float32),\n",
       " array(-2.1747124195098877, dtype=float32),\n",
       " array(-2.1747124195098877, dtype=float32),\n",
       " array(-2.1747124195098877, dtype=float32),\n",
       " array(-2.1747124195098877, dtype=float32),\n",
       " array(-2.1747124195098877, dtype=float32),\n",
       " array(-2.1747124195098877, dtype=float32),\n",
       " array(-2.1747124195098877, dtype=float32),\n",
       " array(-2.1747124195098877, dtype=float32),\n",
       " array(-2.1747124195098877, dtype=float32),\n",
       " array(-2.1747124195098877, dtype=float32),\n",
       " array(-2.1747124195098877, dtype=float32),\n",
       " array(-2.1747124195098877, dtype=float32),\n",
       " array(-2.1747124195098877, dtype=float32),\n",
       " array(-2.1747124195098877, dtype=float32),\n",
       " array(-2.1747124195098877, dtype=float32),\n",
       " array(-2.1747124195098877, dtype=float32),\n",
       " array(-2.1747124195098877, dtype=float32),\n",
       " array(-2.1747124195098877, dtype=float32),\n",
       " array(-2.1747124195098877, dtype=float32),\n",
       " array(-2.1747124195098877, dtype=float32),\n",
       " array(-2.1747124195098877, dtype=float32),\n",
       " array(-2.1747124195098877, dtype=float32),\n",
       " array(-2.1747124195098877, dtype=float32),\n",
       " array(-2.1747124195098877, dtype=float32),\n",
       " array(-2.1747124195098877, dtype=float32),\n",
       " array(-2.1747124195098877, dtype=float32),\n",
       " array(-2.1747124195098877, dtype=float32),\n",
       " array(-2.1747124195098877, dtype=float32),\n",
       " array(-2.1747124195098877, dtype=float32),\n",
       " array(-2.1747124195098877, dtype=float32),\n",
       " array(-2.1747124195098877, dtype=float32),\n",
       " array(-2.1747124195098877, dtype=float32),\n",
       " array(-2.1747124195098877, dtype=float32),\n",
       " array(-2.1747124195098877, dtype=float32),\n",
       " array(-2.1747124195098877, dtype=float32),\n",
       " array(-2.1747124195098877, dtype=float32),\n",
       " array(-2.1747124195098877, dtype=float32),\n",
       " array(-2.1747124195098877, dtype=float32),\n",
       " array(-2.1747124195098877, dtype=float32),\n",
       " array(-2.1747124195098877, dtype=float32),\n",
       " array(-2.1747124195098877, dtype=float32),\n",
       " array(-2.1747124195098877, dtype=float32),\n",
       " array(-2.1747124195098877, dtype=float32),\n",
       " array(-2.1747124195098877, dtype=float32),\n",
       " array(-2.1747124195098877, dtype=float32),\n",
       " array(-2.1747124195098877, dtype=float32),\n",
       " array(-2.1747124195098877, dtype=float32),\n",
       " array(-2.1747124195098877, dtype=float32),\n",
       " array(-2.1747124195098877, dtype=float32),\n",
       " array(-2.1747124195098877, dtype=float32),\n",
       " array(-2.1747124195098877, dtype=float32),\n",
       " array(-2.1747124195098877, dtype=float32),\n",
       " array(-2.1747124195098877, dtype=float32),\n",
       " array(-2.1747124195098877, dtype=float32),\n",
       " array(-2.1747124195098877, dtype=float32),\n",
       " array(-2.1747124195098877, dtype=float32),\n",
       " array(-2.1747124195098877, dtype=float32),\n",
       " array(-2.1747124195098877, dtype=float32),\n",
       " array(-2.1747124195098877, dtype=float32),\n",
       " array(-2.1747124195098877, dtype=float32),\n",
       " array(-2.1747124195098877, dtype=float32),\n",
       " array(-2.1747124195098877, dtype=float32),\n",
       " array(-2.1747124195098877, dtype=float32),\n",
       " array(-2.1747124195098877, dtype=float32),\n",
       " array(-2.1747124195098877, dtype=float32),\n",
       " array(-2.1747124195098877, dtype=float32),\n",
       " array(-2.1747124195098877, dtype=float32),\n",
       " array(-2.1747124195098877, dtype=float32),\n",
       " array(-2.1747124195098877, dtype=float32),\n",
       " array(-2.1747124195098877, dtype=float32),\n",
       " array(-2.1747124195098877, dtype=float32),\n",
       " array(-2.1747124195098877, dtype=float32),\n",
       " array(-2.1747124195098877, dtype=float32),\n",
       " array(-2.1747124195098877, dtype=float32),\n",
       " array(-2.1747124195098877, dtype=float32),\n",
       " array(-2.1747124195098877, dtype=float32),\n",
       " array(-2.1747124195098877, dtype=float32),\n",
       " array(-2.1747124195098877, dtype=float32),\n",
       " array(-2.1747124195098877, dtype=float32),\n",
       " array(-2.1747124195098877, dtype=float32),\n",
       " array(-2.1747124195098877, dtype=float32),\n",
       " array(-2.1747124195098877, dtype=float32),\n",
       " array(-2.1747124195098877, dtype=float32),\n",
       " array(-2.1747124195098877, dtype=float32),\n",
       " array(-2.1747124195098877, dtype=float32),\n",
       " array(-2.1747124195098877, dtype=float32),\n",
       " array(-2.1747124195098877, dtype=float32),\n",
       " array(-2.1747124195098877, dtype=float32),\n",
       " array(-2.1747124195098877, dtype=float32),\n",
       " array(-2.1747124195098877, dtype=float32),\n",
       " array(-2.1747124195098877, dtype=float32),\n",
       " array(-2.1747124195098877, dtype=float32),\n",
       " array(-2.1747124195098877, dtype=float32),\n",
       " array(-2.1747124195098877, dtype=float32),\n",
       " array(-2.1747124195098877, dtype=float32),\n",
       " array(-2.1747124195098877, dtype=float32),\n",
       " array(-2.1747124195098877, dtype=float32),\n",
       " array(-2.1747124195098877, dtype=float32),\n",
       " array(-2.1747124195098877, dtype=float32),\n",
       " array(-2.1747124195098877, dtype=float32),\n",
       " array(-2.1747124195098877, dtype=float32),\n",
       " array(-2.1747124195098877, dtype=float32),\n",
       " array(-2.1747124195098877, dtype=float32),\n",
       " array(-2.1747124195098877, dtype=float32),\n",
       " array(-2.1747124195098877, dtype=float32),\n",
       " array(-2.1747124195098877, dtype=float32),\n",
       " array(-2.1747124195098877, dtype=float32),\n",
       " array(-2.1747124195098877, dtype=float32),\n",
       " array(-2.1747124195098877, dtype=float32),\n",
       " array(-2.1747124195098877, dtype=float32),\n",
       " array(-2.1747124195098877, dtype=float32),\n",
       " array(-2.1747124195098877, dtype=float32),\n",
       " array(-2.1747124195098877, dtype=float32),\n",
       " array(-2.1747124195098877, dtype=float32),\n",
       " array(-2.1747124195098877, dtype=float32),\n",
       " array(-2.1747124195098877, dtype=float32),\n",
       " array(-2.1747124195098877, dtype=float32),\n",
       " array(-2.1747124195098877, dtype=float32),\n",
       " array(-2.1747124195098877, dtype=float32),\n",
       " array(-2.1747124195098877, dtype=float32),\n",
       " array(-2.1747124195098877, dtype=float32),\n",
       " array(-2.1747124195098877, dtype=float32),\n",
       " array(-2.1747124195098877, dtype=float32),\n",
       " array(-2.1747124195098877, dtype=float32),\n",
       " array(-2.1747124195098877, dtype=float32),\n",
       " array(-2.1747124195098877, dtype=float32),\n",
       " array(-2.1747124195098877, dtype=float32),\n",
       " array(-2.1747124195098877, dtype=float32),\n",
       " array(-2.1747124195098877, dtype=float32),\n",
       " array(-2.1747124195098877, dtype=float32),\n",
       " array(-2.1747124195098877, dtype=float32),\n",
       " array(-2.1747124195098877, dtype=float32),\n",
       " array(-2.1747124195098877, dtype=float32),\n",
       " array(-2.1747124195098877, dtype=float32),\n",
       " array(-2.1747124195098877, dtype=float32),\n",
       " array(-2.1747124195098877, dtype=float32),\n",
       " array(-2.1747124195098877, dtype=float32),\n",
       " array(-2.1747124195098877, dtype=float32),\n",
       " array(-2.1747124195098877, dtype=float32),\n",
       " array(-2.1747124195098877, dtype=float32),\n",
       " array(-2.1747124195098877, dtype=float32),\n",
       " array(-2.1747124195098877, dtype=float32),\n",
       " array(-2.1747124195098877, dtype=float32),\n",
       " array(-2.1747124195098877, dtype=float32),\n",
       " array(-2.1747124195098877, dtype=float32),\n",
       " array(-2.1747124195098877, dtype=float32),\n",
       " array(-2.1747124195098877, dtype=float32),\n",
       " array(-2.1747124195098877, dtype=float32),\n",
       " array(-2.1747124195098877, dtype=float32),\n",
       " array(-2.1747124195098877, dtype=float32),\n",
       " array(-2.1747124195098877, dtype=float32),\n",
       " array(-2.1747124195098877, dtype=float32),\n",
       " array(-2.1747124195098877, dtype=float32),\n",
       " array(-2.1747124195098877, dtype=float32),\n",
       " array(-2.1747124195098877, dtype=float32),\n",
       " array(-2.1747124195098877, dtype=float32),\n",
       " array(-2.1747124195098877, dtype=float32),\n",
       " array(-2.1747124195098877, dtype=float32),\n",
       " array(-2.1747124195098877, dtype=float32),\n",
       " array(-2.1747124195098877, dtype=float32),\n",
       " array(-2.1747124195098877, dtype=float32),\n",
       " array(-2.1747124195098877, dtype=float32),\n",
       " array(-2.1747124195098877, dtype=float32),\n",
       " array(-2.1747124195098877, dtype=float32),\n",
       " array(-2.1747124195098877, dtype=float32),\n",
       " array(-2.1747124195098877, dtype=float32),\n",
       " array(-2.1747124195098877, dtype=float32),\n",
       " array(-2.1747124195098877, dtype=float32),\n",
       " array(-2.1747124195098877, dtype=float32),\n",
       " array(-2.1747124195098877, dtype=float32),\n",
       " array(-2.1747124195098877, dtype=float32),\n",
       " array(-2.1747124195098877, dtype=float32),\n",
       " array(-2.1747124195098877, dtype=float32),\n",
       " array(-2.1747124195098877, dtype=float32),\n",
       " array(-2.1747124195098877, dtype=float32),\n",
       " array(-2.1747124195098877, dtype=float32),\n",
       " array(-2.1747124195098877, dtype=float32),\n",
       " array(-2.1747124195098877, dtype=float32),\n",
       " array(-2.1747124195098877, dtype=float32),\n",
       " array(-2.1747124195098877, dtype=float32),\n",
       " array(-2.1747124195098877, dtype=float32),\n",
       " array(-2.1747124195098877, dtype=float32),\n",
       " array(-2.1747124195098877, dtype=float32),\n",
       " array(-2.1747124195098877, dtype=float32),\n",
       " array(-2.1747124195098877, dtype=float32),\n",
       " array(-2.1747124195098877, dtype=float32),\n",
       " array(-2.1747124195098877, dtype=float32),\n",
       " array(-2.1747124195098877, dtype=float32),\n",
       " array(-2.1747124195098877, dtype=float32),\n",
       " array(-2.1747124195098877, dtype=float32),\n",
       " array(-2.1747124195098877, dtype=float32),\n",
       " array(-2.1747124195098877, dtype=float32),\n",
       " array(-2.1747124195098877, dtype=float32),\n",
       " array(-2.1747124195098877, dtype=float32),\n",
       " array(-2.1747124195098877, dtype=float32),\n",
       " array(-2.1747124195098877, dtype=float32),\n",
       " array(-2.1747124195098877, dtype=float32),\n",
       " array(-2.1747124195098877, dtype=float32),\n",
       " array(-2.1747124195098877, dtype=float32),\n",
       " array(-2.1747124195098877, dtype=float32),\n",
       " array(-2.1747124195098877, dtype=float32),\n",
       " array(-2.1747124195098877, dtype=float32),\n",
       " array(-2.1747124195098877, dtype=float32),\n",
       " array(-2.1747124195098877, dtype=float32),\n",
       " array(-2.1747124195098877, dtype=float32),\n",
       " array(-2.1747124195098877, dtype=float32),\n",
       " array(-2.1747124195098877, dtype=float32),\n",
       " array(-2.1747124195098877, dtype=float32),\n",
       " array(-2.1747124195098877, dtype=float32),\n",
       " array(-2.1747124195098877, dtype=float32),\n",
       " array(-2.1747124195098877, dtype=float32),\n",
       " array(-2.1747124195098877, dtype=float32),\n",
       " array(-2.1747124195098877, dtype=float32),\n",
       " array(-2.1747124195098877, dtype=float32),\n",
       " array(-2.1747124195098877, dtype=float32),\n",
       " array(-2.1747124195098877, dtype=float32),\n",
       " array(-2.1747124195098877, dtype=float32),\n",
       " array(-2.1747124195098877, dtype=float32),\n",
       " array(-2.1747124195098877, dtype=float32),\n",
       " array(-2.1747124195098877, dtype=float32),\n",
       " array(-2.1747124195098877, dtype=float32),\n",
       " array(-2.1747124195098877, dtype=float32),\n",
       " array(-2.1747124195098877, dtype=float32),\n",
       " array(-2.1747124195098877, dtype=float32),\n",
       " array(-2.1747124195098877, dtype=float32),\n",
       " array(-2.1747124195098877, dtype=float32),\n",
       " array(-2.1747124195098877, dtype=float32),\n",
       " array(-2.1747124195098877, dtype=float32),\n",
       " array(-2.1747124195098877, dtype=float32),\n",
       " array(-2.1747124195098877, dtype=float32),\n",
       " array(-2.1747124195098877, dtype=float32),\n",
       " array(-2.1747124195098877, dtype=float32),\n",
       " array(-2.1747124195098877, dtype=float32),\n",
       " array(-2.1747124195098877, dtype=float32),\n",
       " array(-2.1747124195098877, dtype=float32),\n",
       " array(-2.1747124195098877, dtype=float32),\n",
       " array(-2.1747124195098877, dtype=float32),\n",
       " array(-2.1747124195098877, dtype=float32),\n",
       " array(-2.1747124195098877, dtype=float32),\n",
       " array(-2.1747124195098877, dtype=float32),\n",
       " array(-2.1747124195098877, dtype=float32),\n",
       " array(-2.1747124195098877, dtype=float32),\n",
       " array(-2.1747124195098877, dtype=float32),\n",
       " array(-2.1747124195098877, dtype=float32),\n",
       " array(-2.1747124195098877, dtype=float32),\n",
       " array(-2.1747124195098877, dtype=float32),\n",
       " array(-2.1747124195098877, dtype=float32),\n",
       " array(-2.1747124195098877, dtype=float32),\n",
       " array(-2.1747124195098877, dtype=float32),\n",
       " array(-2.1747124195098877, dtype=float32),\n",
       " array(-2.1747124195098877, dtype=float32),\n",
       " array(-2.1747124195098877, dtype=float32),\n",
       " array(-2.1747124195098877, dtype=float32),\n",
       " array(-2.1747124195098877, dtype=float32),\n",
       " array(-2.1747124195098877, dtype=float32),\n",
       " array(-2.1747124195098877, dtype=float32),\n",
       " array(-2.1747124195098877, dtype=float32),\n",
       " array(-2.1747124195098877, dtype=float32),\n",
       " array(-2.1747124195098877, dtype=float32),\n",
       " array(-2.1747124195098877, dtype=float32),\n",
       " array(-2.1747124195098877, dtype=float32),\n",
       " array(-2.1747124195098877, dtype=float32),\n",
       " array(-2.1747124195098877, dtype=float32),\n",
       " array(-2.1747124195098877, dtype=float32),\n",
       " array(-2.1747124195098877, dtype=float32),\n",
       " array(-2.1747124195098877, dtype=float32),\n",
       " array(-2.1747124195098877, dtype=float32),\n",
       " array(-2.1747124195098877, dtype=float32),\n",
       " array(-2.1747124195098877, dtype=float32),\n",
       " array(-2.1747124195098877, dtype=float32),\n",
       " array(-2.1747124195098877, dtype=float32),\n",
       " array(-2.1747124195098877, dtype=float32),\n",
       " array(-2.1747124195098877, dtype=float32),\n",
       " array(-2.1747124195098877, dtype=float32),\n",
       " array(-2.1747124195098877, dtype=float32),\n",
       " array(-2.1747124195098877, dtype=float32),\n",
       " array(-2.1747124195098877, dtype=float32),\n",
       " array(-2.1747124195098877, dtype=float32),\n",
       " array(-2.1747124195098877, dtype=float32),\n",
       " array(-2.1747124195098877, dtype=float32),\n",
       " array(-2.1747124195098877, dtype=float32),\n",
       " array(-2.1747124195098877, dtype=float32),\n",
       " array(-2.1747124195098877, dtype=float32),\n",
       " array(-2.1747124195098877, dtype=float32),\n",
       " array(-2.1747124195098877, dtype=float32),\n",
       " array(-2.1747124195098877, dtype=float32),\n",
       " array(-2.1747124195098877, dtype=float32),\n",
       " array(-2.1747124195098877, dtype=float32),\n",
       " array(-2.1747124195098877, dtype=float32),\n",
       " array(-2.1747124195098877, dtype=float32),\n",
       " array(-2.1747124195098877, dtype=float32),\n",
       " array(-2.1747124195098877, dtype=float32),\n",
       " array(-2.1747124195098877, dtype=float32),\n",
       " array(-2.1747124195098877, dtype=float32),\n",
       " array(-2.1747124195098877, dtype=float32),\n",
       " array(-2.1747124195098877, dtype=float32),\n",
       " array(-2.1747124195098877, dtype=float32),\n",
       " array(-2.1747124195098877, dtype=float32),\n",
       " array(-2.1747124195098877, dtype=float32),\n",
       " array(-2.1747124195098877, dtype=float32),\n",
       " array(-2.1747124195098877, dtype=float32),\n",
       " array(-2.1747124195098877, dtype=float32),\n",
       " array(-2.1747124195098877, dtype=float32),\n",
       " array(-2.1747124195098877, dtype=float32),\n",
       " array(-2.1747124195098877, dtype=float32),\n",
       " array(-2.1747124195098877, dtype=float32),\n",
       " array(-2.1747124195098877, dtype=float32),\n",
       " array(-2.1747124195098877, dtype=float32),\n",
       " array(-2.1747124195098877, dtype=float32),\n",
       " array(-2.1747124195098877, dtype=float32),\n",
       " array(-2.1747124195098877, dtype=float32),\n",
       " array(-2.1747124195098877, dtype=float32),\n",
       " array(-2.1747124195098877, dtype=float32),\n",
       " array(-2.1747124195098877, dtype=float32),\n",
       " array(-2.1747124195098877, dtype=float32),\n",
       " array(-2.1747124195098877, dtype=float32),\n",
       " array(-2.1747124195098877, dtype=float32),\n",
       " array(-2.1747124195098877, dtype=float32),\n",
       " array(-2.1747124195098877, dtype=float32),\n",
       " array(-2.1747124195098877, dtype=float32),\n",
       " array(-2.1747124195098877, dtype=float32),\n",
       " array(-2.1747124195098877, dtype=float32),\n",
       " array(-2.1747124195098877, dtype=float32),\n",
       " array(-2.1747124195098877, dtype=float32),\n",
       " array(-2.1747124195098877, dtype=float32),\n",
       " array(-2.1747124195098877, dtype=float32),\n",
       " array(-2.1747124195098877, dtype=float32),\n",
       " array(-2.1747124195098877, dtype=float32),\n",
       " array(-2.1747124195098877, dtype=float32),\n",
       " array(-2.1747124195098877, dtype=float32),\n",
       " array(-2.1747124195098877, dtype=float32),\n",
       " array(-2.1747124195098877, dtype=float32),\n",
       " array(-2.1747124195098877, dtype=float32),\n",
       " array(-2.1747124195098877, dtype=float32),\n",
       " array(-2.1747124195098877, dtype=float32),\n",
       " array(-2.1747124195098877, dtype=float32),\n",
       " array(-2.1747124195098877, dtype=float32),\n",
       " array(-2.1747124195098877, dtype=float32),\n",
       " array(-2.1747124195098877, dtype=float32),\n",
       " array(-2.1747124195098877, dtype=float32),\n",
       " array(-2.1747124195098877, dtype=float32),\n",
       " array(-2.1747124195098877, dtype=float32),\n",
       " array(-2.1747124195098877, dtype=float32),\n",
       " array(-2.1747124195098877, dtype=float32),\n",
       " array(-2.1747124195098877, dtype=float32),\n",
       " array(-2.1747124195098877, dtype=float32),\n",
       " array(-2.1747124195098877, dtype=float32),\n",
       " array(-2.1747124195098877, dtype=float32),\n",
       " array(-2.1747124195098877, dtype=float32),\n",
       " array(-2.1747124195098877, dtype=float32),\n",
       " array(-2.1747124195098877, dtype=float32),\n",
       " array(-2.1747124195098877, dtype=float32),\n",
       " array(-2.1747124195098877, dtype=float32),\n",
       " array(-2.1747124195098877, dtype=float32),\n",
       " array(-2.1747124195098877, dtype=float32),\n",
       " array(-2.1747124195098877, dtype=float32),\n",
       " array(-2.1747124195098877, dtype=float32),\n",
       " array(-2.1747124195098877, dtype=float32),\n",
       " array(-2.1747124195098877, dtype=float32),\n",
       " array(-2.1747124195098877, dtype=float32),\n",
       " array(-2.1747124195098877, dtype=float32),\n",
       " array(-2.1747124195098877, dtype=float32),\n",
       " array(-2.1747124195098877, dtype=float32),\n",
       " array(-2.1747124195098877, dtype=float32),\n",
       " array(-2.1747124195098877, dtype=float32),\n",
       " array(-2.1747124195098877, dtype=float32),\n",
       " array(-2.1747124195098877, dtype=float32),\n",
       " array(-2.1747124195098877, dtype=float32),\n",
       " array(-2.1747124195098877, dtype=float32),\n",
       " array(-2.1747124195098877, dtype=float32),\n",
       " array(-2.1747124195098877, dtype=float32),\n",
       " array(-2.1747124195098877, dtype=float32),\n",
       " array(-2.1747124195098877, dtype=float32),\n",
       " array(-2.1747124195098877, dtype=float32),\n",
       " array(-2.1747124195098877, dtype=float32),\n",
       " array(-2.1747124195098877, dtype=float32),\n",
       " array(-2.1747124195098877, dtype=float32),\n",
       " array(-2.1747124195098877, dtype=float32),\n",
       " array(-2.1747124195098877, dtype=float32),\n",
       " array(-2.1747124195098877, dtype=float32),\n",
       " array(-2.1747124195098877, dtype=float32),\n",
       " array(-2.1747124195098877, dtype=float32),\n",
       " array(-2.1747124195098877, dtype=float32),\n",
       " array(-2.1747124195098877, dtype=float32),\n",
       " array(-2.1747124195098877, dtype=float32),\n",
       " array(-2.1747124195098877, dtype=float32),\n",
       " array(-2.1747124195098877, dtype=float32),\n",
       " array(-2.1747124195098877, dtype=float32),\n",
       " array(-2.1747124195098877, dtype=float32),\n",
       " array(-2.1747124195098877, dtype=float32),\n",
       " array(-2.1747124195098877, dtype=float32),\n",
       " array(-2.1747124195098877, dtype=float32),\n",
       " array(-2.1747124195098877, dtype=float32),\n",
       " array(-2.1747124195098877, dtype=float32),\n",
       " array(-2.1747124195098877, dtype=float32),\n",
       " array(-2.1747124195098877, dtype=float32),\n",
       " array(-2.1747124195098877, dtype=float32),\n",
       " array(-2.1747124195098877, dtype=float32),\n",
       " array(-2.1747124195098877, dtype=float32),\n",
       " array(-2.1747124195098877, dtype=float32),\n",
       " array(-2.1747124195098877, dtype=float32),\n",
       " array(-2.1747124195098877, dtype=float32),\n",
       " array(-2.1747124195098877, dtype=float32),\n",
       " array(-2.1747124195098877, dtype=float32),\n",
       " array(-2.1747124195098877, dtype=float32),\n",
       " array(-2.1747124195098877, dtype=float32),\n",
       " array(-2.1747124195098877, dtype=float32),\n",
       " array(-2.1747124195098877, dtype=float32),\n",
       " array(-2.1747124195098877, dtype=float32),\n",
       " array(-2.1747124195098877, dtype=float32),\n",
       " array(-2.1747124195098877, dtype=float32),\n",
       " array(-2.1747124195098877, dtype=float32),\n",
       " array(-2.1747124195098877, dtype=float32),\n",
       " array(-2.1747124195098877, dtype=float32),\n",
       " array(-2.1747124195098877, dtype=float32),\n",
       " array(-2.1747124195098877, dtype=float32),\n",
       " array(-2.1747124195098877, dtype=float32),\n",
       " array(-2.1747124195098877, dtype=float32),\n",
       " array(-2.1747124195098877, dtype=float32),\n",
       " array(-2.1747124195098877, dtype=float32),\n",
       " array(-2.1747124195098877, dtype=float32),\n",
       " array(-2.1747124195098877, dtype=float32),\n",
       " array(-2.1747124195098877, dtype=float32),\n",
       " array(-2.1747124195098877, dtype=float32),\n",
       " array(-2.1747124195098877, dtype=float32),\n",
       " array(-2.1747124195098877, dtype=float32),\n",
       " array(-2.1747124195098877, dtype=float32),\n",
       " array(-2.1747124195098877, dtype=float32),\n",
       " array(-2.1747124195098877, dtype=float32),\n",
       " array(-2.1747124195098877, dtype=float32),\n",
       " array(-2.1747124195098877, dtype=float32),\n",
       " array(-2.1747124195098877, dtype=float32),\n",
       " array(-2.1747124195098877, dtype=float32),\n",
       " array(-2.1747124195098877, dtype=float32),\n",
       " array(-2.1747124195098877, dtype=float32),\n",
       " array(-2.1747124195098877, dtype=float32),\n",
       " array(-2.1747124195098877, dtype=float32),\n",
       " array(-2.1747124195098877, dtype=float32),\n",
       " array(-2.1747124195098877, dtype=float32),\n",
       " array(-2.1747124195098877, dtype=float32),\n",
       " array(-2.1747124195098877, dtype=float32),\n",
       " array(-2.1747124195098877, dtype=float32),\n",
       " array(-2.1747124195098877, dtype=float32),\n",
       " array(-2.1747124195098877, dtype=float32),\n",
       " array(-2.1747124195098877, dtype=float32),\n",
       " array(-2.1747124195098877, dtype=float32),\n",
       " array(-2.1747124195098877, dtype=float32),\n",
       " array(-2.1747124195098877, dtype=float32),\n",
       " array(-2.1747124195098877, dtype=float32),\n",
       " array(-2.1747124195098877, dtype=float32),\n",
       " array(-2.1747124195098877, dtype=float32),\n",
       " array(-2.1747124195098877, dtype=float32),\n",
       " array(-2.1747124195098877, dtype=float32),\n",
       " array(-2.1747124195098877, dtype=float32),\n",
       " array(-2.1747124195098877, dtype=float32),\n",
       " array(-2.1747124195098877, dtype=float32),\n",
       " array(-2.1747124195098877, dtype=float32),\n",
       " array(-2.1747124195098877, dtype=float32),\n",
       " array(-2.1747124195098877, dtype=float32),\n",
       " array(-2.1747124195098877, dtype=float32),\n",
       " array(-2.1747124195098877, dtype=float32),\n",
       " array(-2.1747124195098877, dtype=float32),\n",
       " array(-2.1747124195098877, dtype=float32),\n",
       " array(-2.1747124195098877, dtype=float32),\n",
       " array(-2.1747124195098877, dtype=float32),\n",
       " array(-2.1747124195098877, dtype=float32),\n",
       " array(-2.1747124195098877, dtype=float32),\n",
       " array(-2.1747124195098877, dtype=float32),\n",
       " array(-2.1747124195098877, dtype=float32),\n",
       " array(-2.1747124195098877, dtype=float32),\n",
       " array(-2.1747124195098877, dtype=float32),\n",
       " array(-2.1747124195098877, dtype=float32),\n",
       " array(-2.1747124195098877, dtype=float32),\n",
       " array(-2.1747124195098877, dtype=float32),\n",
       " array(-2.1747124195098877, dtype=float32),\n",
       " array(-2.1747124195098877, dtype=float32),\n",
       " array(-2.1747124195098877, dtype=float32),\n",
       " array(-2.1747124195098877, dtype=float32),\n",
       " array(-2.1747124195098877, dtype=float32),\n",
       " array(-2.1747124195098877, dtype=float32),\n",
       " array(-2.1747124195098877, dtype=float32),\n",
       " array(-2.1747124195098877, dtype=float32),\n",
       " array(-2.1747124195098877, dtype=float32),\n",
       " array(-2.1747124195098877, dtype=float32),\n",
       " array(-2.1747124195098877, dtype=float32),\n",
       " array(-2.1747124195098877, dtype=float32),\n",
       " array(-2.1747124195098877, dtype=float32),\n",
       " array(-2.1747124195098877, dtype=float32),\n",
       " array(-2.1747124195098877, dtype=float32),\n",
       " array(-2.1747124195098877, dtype=float32),\n",
       " array(-2.1747124195098877, dtype=float32),\n",
       " array(-2.1747124195098877, dtype=float32),\n",
       " array(-2.1747124195098877, dtype=float32),\n",
       " array(-2.1747124195098877, dtype=float32),\n",
       " array(-2.1747124195098877, dtype=float32),\n",
       " array(-2.1747124195098877, dtype=float32),\n",
       " array(-2.1747124195098877, dtype=float32),\n",
       " array(-2.1747124195098877, dtype=float32),\n",
       " array(-2.1747124195098877, dtype=float32),\n",
       " array(-2.1747124195098877, dtype=float32),\n",
       " array(-2.1747124195098877, dtype=float32),\n",
       " array(-2.1747124195098877, dtype=float32),\n",
       " array(-2.1747124195098877, dtype=float32),\n",
       " array(-2.1747124195098877, dtype=float32),\n",
       " array(-2.1747124195098877, dtype=float32),\n",
       " array(-2.1747124195098877, dtype=float32),\n",
       " array(-2.1747124195098877, dtype=float32),\n",
       " array(-2.1747124195098877, dtype=float32),\n",
       " array(-2.1747124195098877, dtype=float32),\n",
       " array(-2.1747124195098877, dtype=float32),\n",
       " array(-2.1747124195098877, dtype=float32),\n",
       " array(-2.1747124195098877, dtype=float32),\n",
       " array(-2.1747124195098877, dtype=float32),\n",
       " array(-2.1747124195098877, dtype=float32),\n",
       " array(-2.1747124195098877, dtype=float32),\n",
       " array(-2.1747124195098877, dtype=float32),\n",
       " array(-2.1747124195098877, dtype=float32),\n",
       " array(-2.1747124195098877, dtype=float32),\n",
       " array(-2.1747124195098877, dtype=float32),\n",
       " array(-2.1747124195098877, dtype=float32),\n",
       " array(-2.1747124195098877, dtype=float32),\n",
       " array(-2.1747124195098877, dtype=float32),\n",
       " array(-2.1747124195098877, dtype=float32),\n",
       " array(-2.1747124195098877, dtype=float32),\n",
       " array(-2.1747124195098877, dtype=float32),\n",
       " array(-2.1747124195098877, dtype=float32),\n",
       " array(-2.1747124195098877, dtype=float32),\n",
       " array(-2.1747124195098877, dtype=float32),\n",
       " array(-2.1747124195098877, dtype=float32),\n",
       " array(-2.1747124195098877, dtype=float32),\n",
       " array(-2.1747124195098877, dtype=float32),\n",
       " array(-2.1747124195098877, dtype=float32),\n",
       " array(-2.1747124195098877, dtype=float32),\n",
       " array(-2.1747124195098877, dtype=float32),\n",
       " array(-2.1747124195098877, dtype=float32),\n",
       " array(-2.1747124195098877, dtype=float32),\n",
       " array(-2.1747124195098877, dtype=float32),\n",
       " array(-2.1747124195098877, dtype=float32),\n",
       " array(-2.1747124195098877, dtype=float32),\n",
       " array(-2.1747124195098877, dtype=float32),\n",
       " array(-2.1747124195098877, dtype=float32),\n",
       " array(-2.1747124195098877, dtype=float32),\n",
       " array(-2.1747124195098877, dtype=float32),\n",
       " array(-2.1747124195098877, dtype=float32),\n",
       " array(-2.1747124195098877, dtype=float32),\n",
       " array(-2.1747124195098877, dtype=float32),\n",
       " array(-2.1747124195098877, dtype=float32),\n",
       " array(-2.1747124195098877, dtype=float32),\n",
       " array(-2.1747124195098877, dtype=float32),\n",
       " array(-2.1747124195098877, dtype=float32),\n",
       " array(-2.1747124195098877, dtype=float32),\n",
       " array(-2.1747124195098877, dtype=float32),\n",
       " array(-2.1747124195098877, dtype=float32),\n",
       " array(-2.1747124195098877, dtype=float32),\n",
       " array(-2.1747124195098877, dtype=float32),\n",
       " array(-2.1747124195098877, dtype=float32),\n",
       " array(-2.1747124195098877, dtype=float32),\n",
       " array(-2.1747124195098877, dtype=float32),\n",
       " array(-2.1747124195098877, dtype=float32),\n",
       " array(-2.1747124195098877, dtype=float32),\n",
       " array(-2.1747124195098877, dtype=float32),\n",
       " array(-2.1747124195098877, dtype=float32),\n",
       " array(-2.1747124195098877, dtype=float32),\n",
       " array(-2.1747124195098877, dtype=float32),\n",
       " array(-2.1747124195098877, dtype=float32),\n",
       " array(-2.1747124195098877, dtype=float32),\n",
       " array(-2.1747124195098877, dtype=float32),\n",
       " array(-2.1747124195098877, dtype=float32),\n",
       " array(-2.1747124195098877, dtype=float32),\n",
       " array(-2.1747124195098877, dtype=float32),\n",
       " array(-2.1747124195098877, dtype=float32),\n",
       " array(-2.1747124195098877, dtype=float32),\n",
       " array(-2.1747124195098877, dtype=float32),\n",
       " array(-2.1747124195098877, dtype=float32),\n",
       " array(-2.1747124195098877, dtype=float32),\n",
       " array(-2.1747124195098877, dtype=float32),\n",
       " array(-2.1747124195098877, dtype=float32),\n",
       " array(-2.1747124195098877, dtype=float32),\n",
       " array(-2.1747124195098877, dtype=float32),\n",
       " array(-2.1747124195098877, dtype=float32),\n",
       " array(-2.1747124195098877, dtype=float32),\n",
       " array(-2.1747124195098877, dtype=float32),\n",
       " array(-2.1747124195098877, dtype=float32),\n",
       " array(-2.1747124195098877, dtype=float32),\n",
       " array(-2.1747124195098877, dtype=float32),\n",
       " array(-2.1747124195098877, dtype=float32),\n",
       " array(-2.1747124195098877, dtype=float32),\n",
       " array(-2.1747124195098877, dtype=float32),\n",
       " array(-2.1747124195098877, dtype=float32),\n",
       " array(-2.1747124195098877, dtype=float32),\n",
       " array(-2.1747124195098877, dtype=float32),\n",
       " array(-2.1747124195098877, dtype=float32),\n",
       " array(-2.1747124195098877, dtype=float32),\n",
       " array(-2.1747124195098877, dtype=float32),\n",
       " array(-2.1747124195098877, dtype=float32),\n",
       " array(-2.1747124195098877, dtype=float32),\n",
       " array(-2.1747124195098877, dtype=float32),\n",
       " array(-2.1747124195098877, dtype=float32),\n",
       " array(-2.1747124195098877, dtype=float32),\n",
       " array(-2.1747124195098877, dtype=float32),\n",
       " array(-2.1747124195098877, dtype=float32),\n",
       " array(-2.1747124195098877, dtype=float32),\n",
       " array(-2.1747124195098877, dtype=float32),\n",
       " array(-2.1747124195098877, dtype=float32),\n",
       " array(-2.1747124195098877, dtype=float32),\n",
       " array(-2.1747124195098877, dtype=float32),\n",
       " array(-2.1747124195098877, dtype=float32),\n",
       " array(-2.1747124195098877, dtype=float32),\n",
       " array(-2.1747124195098877, dtype=float32),\n",
       " array(-2.1747124195098877, dtype=float32),\n",
       " array(-2.1747124195098877, dtype=float32),\n",
       " array(-2.1747124195098877, dtype=float32),\n",
       " array(-2.1747124195098877, dtype=float32),\n",
       " array(-2.1747124195098877, dtype=float32),\n",
       " array(-2.1747124195098877, dtype=float32),\n",
       " array(-2.1747124195098877, dtype=float32),\n",
       " array(-2.1747124195098877, dtype=float32),\n",
       " array(-2.1747124195098877, dtype=float32),\n",
       " array(-2.1747124195098877, dtype=float32),\n",
       " array(-2.1747124195098877, dtype=float32),\n",
       " array(-2.1747124195098877, dtype=float32),\n",
       " array(-2.1747124195098877, dtype=float32),\n",
       " array(-2.1747124195098877, dtype=float32),\n",
       " array(-2.1747124195098877, dtype=float32),\n",
       " array(-2.1747124195098877, dtype=float32),\n",
       " array(-2.1747124195098877, dtype=float32),\n",
       " array(-2.1747124195098877, dtype=float32),\n",
       " array(-2.1747124195098877, dtype=float32),\n",
       " array(-2.1747124195098877, dtype=float32),\n",
       " array(-2.1747124195098877, dtype=float32),\n",
       " array(-2.1747124195098877, dtype=float32),\n",
       " array(-2.1747124195098877, dtype=float32),\n",
       " array(-2.1747124195098877, dtype=float32),\n",
       " array(-2.1747124195098877, dtype=float32),\n",
       " array(-2.1747124195098877, dtype=float32),\n",
       " array(-2.1747124195098877, dtype=float32),\n",
       " array(-2.1747124195098877, dtype=float32),\n",
       " array(-2.1747124195098877, dtype=float32),\n",
       " array(-2.1747124195098877, dtype=float32),\n",
       " array(-2.1747124195098877, dtype=float32),\n",
       " array(-2.1747124195098877, dtype=float32),\n",
       " array(-2.1747124195098877, dtype=float32),\n",
       " array(-2.1747124195098877, dtype=float32),\n",
       " array(-2.1747124195098877, dtype=float32),\n",
       " array(-2.1747124195098877, dtype=float32),\n",
       " array(-2.1747124195098877, dtype=float32),\n",
       " array(-2.1747124195098877, dtype=float32),\n",
       " array(-2.1747124195098877, dtype=float32),\n",
       " array(-2.1747124195098877, dtype=float32),\n",
       " array(-2.1747124195098877, dtype=float32),\n",
       " array(-2.1747124195098877, dtype=float32),\n",
       " array(-2.1747124195098877, dtype=float32),\n",
       " array(-2.1747124195098877, dtype=float32),\n",
       " array(-2.1747124195098877, dtype=float32),\n",
       " array(-2.1747124195098877, dtype=float32),\n",
       " array(-2.1747124195098877, dtype=float32),\n",
       " array(-2.1747124195098877, dtype=float32),\n",
       " array(-2.1747124195098877, dtype=float32),\n",
       " array(-2.1747124195098877, dtype=float32),\n",
       " array(-2.1747124195098877, dtype=float32),\n",
       " array(-2.1747124195098877, dtype=float32),\n",
       " array(-2.1747124195098877, dtype=float32),\n",
       " array(-2.1747124195098877, dtype=float32),\n",
       " array(-2.1747124195098877, dtype=float32),\n",
       " array(-2.1747124195098877, dtype=float32),\n",
       " array(-2.1747124195098877, dtype=float32),\n",
       " array(-2.1747124195098877, dtype=float32),\n",
       " array(-2.1747124195098877, dtype=float32),\n",
       " array(-2.1747124195098877, dtype=float32),\n",
       " array(-2.1747124195098877, dtype=float32),\n",
       " array(-2.1747124195098877, dtype=float32),\n",
       " array(-2.1747124195098877, dtype=float32),\n",
       " array(-2.1747124195098877, dtype=float32),\n",
       " array(-2.1747124195098877, dtype=float32),\n",
       " array(-2.1747124195098877, dtype=float32),\n",
       " array(-2.1747124195098877, dtype=float32),\n",
       " array(-2.1747124195098877, dtype=float32),\n",
       " array(-2.1747124195098877, dtype=float32),\n",
       " array(-2.1747124195098877, dtype=float32),\n",
       " array(-2.1747124195098877, dtype=float32),\n",
       " array(-2.1747124195098877, dtype=float32),\n",
       " array(-2.1747124195098877, dtype=float32),\n",
       " array(-2.1747124195098877, dtype=float32),\n",
       " array(-2.1747124195098877, dtype=float32),\n",
       " array(-2.1747124195098877, dtype=float32),\n",
       " array(-2.1747124195098877, dtype=float32),\n",
       " array(-2.1747124195098877, dtype=float32),\n",
       " array(-2.1747124195098877, dtype=float32),\n",
       " array(-2.1747124195098877, dtype=float32),\n",
       " array(-2.1747124195098877, dtype=float32),\n",
       " array(-2.1747124195098877, dtype=float32),\n",
       " array(-2.1747124195098877, dtype=float32),\n",
       " array(-2.1747124195098877, dtype=float32),\n",
       " array(-2.1747124195098877, dtype=float32),\n",
       " array(-2.1747124195098877, dtype=float32),\n",
       " array(-2.1747124195098877, dtype=float32),\n",
       " array(-2.1747124195098877, dtype=float32),\n",
       " array(-2.1747124195098877, dtype=float32),\n",
       " array(-2.1747124195098877, dtype=float32),\n",
       " array(-2.1747124195098877, dtype=float32),\n",
       " array(-2.1747124195098877, dtype=float32),\n",
       " array(-2.1747124195098877, dtype=float32),\n",
       " array(-2.1747124195098877, dtype=float32),\n",
       " array(-2.1747124195098877, dtype=float32),\n",
       " array(-2.1747124195098877, dtype=float32),\n",
       " array(-2.1747124195098877, dtype=float32),\n",
       " array(-2.1747124195098877, dtype=float32),\n",
       " array(-2.1747124195098877, dtype=float32),\n",
       " array(-2.1747124195098877, dtype=float32),\n",
       " array(-2.1747124195098877, dtype=float32),\n",
       " array(-2.1747124195098877, dtype=float32),\n",
       " array(-2.1747124195098877, dtype=float32),\n",
       " array(-2.1747124195098877, dtype=float32),\n",
       " array(-2.1747124195098877, dtype=float32),\n",
       " array(-2.1747124195098877, dtype=float32),\n",
       " array(-2.1747124195098877, dtype=float32),\n",
       " array(-2.1747124195098877, dtype=float32),\n",
       " array(-2.1747124195098877, dtype=float32),\n",
       " array(-2.1747124195098877, dtype=float32),\n",
       " array(-2.1747124195098877, dtype=float32),\n",
       " array(-2.1747124195098877, dtype=float32),\n",
       " array(-2.1747124195098877, dtype=float32),\n",
       " array(-2.1747124195098877, dtype=float32),\n",
       " array(-2.1747124195098877, dtype=float32),\n",
       " array(-2.1747124195098877, dtype=float32),\n",
       " array(-2.1747124195098877, dtype=float32),\n",
       " array(-2.1747124195098877, dtype=float32),\n",
       " array(-2.1747124195098877, dtype=float32),\n",
       " array(-2.1747124195098877, dtype=float32),\n",
       " array(-2.1747124195098877, dtype=float32),\n",
       " array(-2.1747124195098877, dtype=float32),\n",
       " ...]"
      ]
     },
     "execution_count": 145,
     "metadata": {},
     "output_type": "execute_result"
    }
   ],
   "source": [
    "ypreds = [x for x in np.nditer(ypred)]\n",
    "ypreds"
   ]
  },
  {
   "cell_type": "code",
   "execution_count": 148,
   "metadata": {
    "collapsed": false,
    "scrolled": true
   },
   "outputs": [],
   "source": [
    "indexes=np.arange(1, len(ypred)+1, 1)\n",
    "xg_df = pd.DataFrame(data=[indexes, ypreds]).T\n",
    "xg_df.columns =['Id','WnvPresent']\n",
    "xg_df['Id'] = xg_df.Id.astype(int)\n",
    "xg_df.to_csv('./submissions/xg_best.csv', index=False)"
   ]
  },
  {
   "cell_type": "code",
   "execution_count": null,
   "metadata": {
    "collapsed": true
   },
   "outputs": [],
   "source": [
    "Score Notes:\n",
    "    Temp, Humidity, month = .66\n",
    "    Temp, humiditiy, month, mosquito specis = "
   ]
  },
  {
   "cell_type": "code",
   "execution_count": null,
   "metadata": {
    "collapsed": true
   },
   "outputs": [],
   "source": []
  },
  {
   "cell_type": "markdown",
   "metadata": {},
   "source": [
    "# Import and Transform Test Data"
   ]
  },
  {
   "cell_type": "code",
   "execution_count": 194,
   "metadata": {
    "collapsed": false
   },
   "outputs": [],
   "source": [
    "test = pd.read_csv('assets/test.csv')"
   ]
  },
  {
   "cell_type": "code",
   "execution_count": 195,
   "metadata": {
    "collapsed": false
   },
   "outputs": [],
   "source": [
    "### converting datetime\n",
    "\n",
    "test.Date = pd.to_datetime(test.Date)\n"
   ]
  },
  {
   "cell_type": "code",
   "execution_count": 197,
   "metadata": {
    "collapsed": false
   },
   "outputs": [],
   "source": [
    "## Applying weather data\n",
    "test['Tmax'] = weather_add(test, weather_col='Tmax', func=np.mean)\n",
    "test['Tmin'] = weather_add(test, weather_col='Tmin', func=np.mean)\n",
    "test['rain'] = weather_add(test, weather_col='PrecipTotal', func= np.sum)\n",
    "test['Tmax_3'] = weather_add(test, weather_col='Tmax', func=np.mean, days_range=3)\n",
    "test['Tmax_20'] = weather_add(test, weather_col='Tmax',func=np.mean, days_range=20)\n",
    "test['Dew']= weather_add(test, weather_col ='DewPoint', func=np.mean, days_range = 10)\n",
    "test['Tmin_3'] = weather_add(test, weather_col='Tmin', func=np.mean, days_range=3)\n",
    "test['Tmin_20'] = weather_add(test, weather_col='Tmin', func=np.mean, days_range=20)"
   ]
  },
  {
   "cell_type": "code",
   "execution_count": null,
   "metadata": {
    "collapsed": true
   },
   "outputs": [],
   "source": [
    "## Spray data\n",
    "# add_spray_data(test)"
   ]
  },
  {
   "cell_type": "code",
   "execution_count": 206,
   "metadata": {
    "collapsed": true
   },
   "outputs": [],
   "source": [
    "dummies = pd.get_dummies(test, columns=['Species'])\n",
    "test = pd.concat([test, pd.get_dummies(test['Species'])], axis=1)"
   ]
  },
  {
   "cell_type": "code",
   "execution_count": 207,
   "metadata": {
    "collapsed": false
   },
   "outputs": [],
   "source": [
    "test['month']=test['Date'].dt.month"
   ]
  },
  {
   "cell_type": "code",
   "execution_count": 208,
   "metadata": {
    "collapsed": false
   },
   "outputs": [],
   "source": [
    "## Export the tranformed test data to a folder in the repo \n",
    "## so we don't have to run the above cells every time\n",
    "\n",
    "test.to_csv('./assets/Test_transformed/test_transformed.csv',sep=',', encoding='utf-8')"
   ]
  },
  {
   "cell_type": "code",
   "execution_count": 75,
   "metadata": {
    "collapsed": true
   },
   "outputs": [],
   "source": [
    "test = pd.read_csv('./assets/Test_transformed/test_transformed.csv')"
   ]
  },
  {
   "cell_type": "code",
   "execution_count": null,
   "metadata": {
    "collapsed": false,
    "scrolled": true
   },
   "outputs": [],
   "source": [
    "test.head(2)"
   ]
  },
  {
   "cell_type": "code",
   "execution_count": 209,
   "metadata": {
    "collapsed": false
   },
   "outputs": [],
   "source": [
    "test_X = test[features]"
   ]
  },
  {
   "cell_type": "markdown",
   "metadata": {},
   "source": [
    "# Exporting to test"
   ]
  },
  {
   "cell_type": "code",
   "execution_count": 69,
   "metadata": {
    "collapsed": false
   },
   "outputs": [],
   "source": [
    "###This function will takes a model and a model name(as a string), generate predictions, \n",
    "### and save that as a CSV labeled with the model name and date.\n",
    "import time \n",
    "import math\n",
    "def model_and_export(model, model_name):\n",
    "    pred_list = []\n",
    "#     predictions = [\"%.1f\" % (math.ceil(x[1] * 100) / 100) for x in model.predict_proba(test_X)]\n",
    "    predictions =  model.predict_proba(test_X)\n",
    "    for x in predictions:\n",
    "        pred_list.append(x[1])\n",
    "    indexes=np.arange(1, len(predictions)+1, 1)\n",
    "    preds_df = pd.DataFrame(data=[indexes, pred_list]).T\n",
    "    preds_df.columns =['Id','WnvPresent']\n",
    "    preds_df['Id'] = preds_df.Id.astype(int)\n",
    "    location = './submissions/{}_{}.csv'.format(model_name, time.strftime(\"%d_%m_%Y\"))\n",
    "    preds_df.to_csv(location, index=False)\n",
    "    return\n",
    "    "
   ]
  },
  {
   "cell_type": "code",
   "execution_count": 80,
   "metadata": {
    "collapsed": false
   },
   "outputs": [],
   "source": [
    "model_and_export(RF_model, 'RF_test')"
   ]
  },
  {
   "cell_type": "code",
   "execution_count": null,
   "metadata": {
    "collapsed": false
   },
   "outputs": [],
   "source": []
  },
  {
   "cell_type": "code",
   "execution_count": null,
   "metadata": {
    "collapsed": false
   },
   "outputs": [],
   "source": [
    "model_and_export(svm_model, 'SVM')"
   ]
  },
  {
   "cell_type": "code",
   "execution_count": null,
   "metadata": {
    "collapsed": false
   },
   "outputs": [],
   "source": [
    "model_and_export(ada_model, 'ADABoost')"
   ]
  },
  {
   "cell_type": "code",
   "execution_count": 35,
   "metadata": {
    "collapsed": false
   },
   "outputs": [],
   "source": [
    "model_and_export(xgm, 'XG')\n",
    "#. 4"
   ]
  },
  {
   "cell_type": "code",
   "execution_count": 112,
   "metadata": {
    "collapsed": false
   },
   "outputs": [],
   "source": [
    "model_and_export(xg_final, 'XW')"
   ]
  },
  {
   "cell_type": "markdown",
   "metadata": {},
   "source": [
    "You can test the model by submitting the results CSV to :\n",
    "\n",
    "https://www.kaggle.com/c/predict-west-nile-virus/submit\n",
    "\n",
    "please note that only 5 submission can be made per day. \n",
    "\n",
    "Make note of the model and score below:\n",
    "\n",
    "\n"
   ]
  },
  {
   "cell_type": "code",
   "execution_count": null,
   "metadata": {
    "collapsed": true
   },
   "outputs": [],
   "source": []
  }
 ],
 "metadata": {
  "kernelspec": {
   "display_name": "Python 2",
   "language": "python",
   "name": "python2"
  },
  "language_info": {
   "codemirror_mode": {
    "name": "ipython",
    "version": 2
   },
   "file_extension": ".py",
   "mimetype": "text/x-python",
   "name": "python",
   "nbconvert_exporter": "python",
   "pygments_lexer": "ipython2",
   "version": "2.7.13"
  }
 },
 "nbformat": 4,
 "nbformat_minor": 2
}
