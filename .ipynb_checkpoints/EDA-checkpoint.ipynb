{
 "cells": [
  {
   "cell_type": "code",
   "execution_count": 85,
   "metadata": {
    "collapsed": false
   },
   "outputs": [],
   "source": [
    "import pandas as pd\n",
    "from matplotlib import pyplot as plt\n",
    "import numpy as np\n",
    "%matplotlib inline\n",
    "\n",
    "traps = pd.read_csv('assets/traps_spray_distance.csv')\n",
    "spray = pd.read_csv('assets/spray.csv')\n",
    "weather = pd.read_csv('assets/weather.csv')"
   ]
  },
  {
   "cell_type": "markdown",
   "metadata": {},
   "source": [
    "# Preliminary EDA"
   ]
  },
  {
   "cell_type": "code",
   "execution_count": null,
   "metadata": {
    "collapsed": true
   },
   "outputs": [],
   "source": [
    "# # pip install pandas-profiling\n",
    "# import pandas_profiling as pdp\n",
    "# import seaborn as sns\n",
    "\n",
    "# pdp.ProfileReport(traps)\n",
    "# pdp.ProfileReport(spray)\n",
    "# pdp.ProfileReport(weather)\n",
    "\n",
    "# sns.pairplot(traps)\n",
    "# sns.pairplot(spray)\n",
    "# sns.pairplot(weather)"
   ]
  },
  {
   "cell_type": "code",
   "execution_count": 57,
   "metadata": {
    "collapsed": false
   },
   "outputs": [
    {
     "data": {
      "image/png": "[encoded data removed]",
      "text/plain": [
       "<matplotlib.figure.Figure at 0x129f73390>"
      ]
     },
     "metadata": {},
     "output_type": "display_data"
    }
   ],
   "source": [
    "def find_correlation(data,title):\n",
    "    correlation = data.corr()\n",
    "    sns.heatmap(correlation, vmax=.8, square=True)\n",
    "    plt.title(title)\n",
    "\n",
    "find_correlation(traps, 'Traps')"
   ]
  },
  {
   "cell_type": "markdown",
   "metadata": {},
   "source": [
    "# Data Transformation"
   ]
  },
  {
   "cell_type": "markdown",
   "metadata": {},
   "source": [
    "## Modify columns"
   ]
  },
  {
   "cell_type": "code",
   "execution_count": 102,
   "metadata": {
    "collapsed": true
   },
   "outputs": [],
   "source": [
    "import datetime\n",
    "# Convert Date columns to actual date data type\n",
    "traps.Date = pd.to_datetime(traps.Date)\n",
    "spray.Date = pd.to_datetime(spray.Date)\n",
    "weather.Date = pd.to_datetime(weather.Date)\n",
    "\n",
    "# Create dummies for Species and Trap\n",
    "dummies = pd.get_dummies(traps, columns=['Species'])\n",
    "\n",
    "# Create a new df with the dummies\n",
    "traps_2_cols = traps.columns.drop('Species')\n",
    "traps_2 = pd.concat([traps[traps_2_cols],dummies])\n",
    "\n",
    "# Weather data:\n",
    "# the PrecipTotal column contains the letter 'T' in some rows\n",
    "# this indicates a 'trace' amount of precipitation, which is\n",
    "# defined as less than 0.005\n",
    "# 'M' indicates missing data\n",
    "weather.PrecipTotal = weather.PrecipTotal.str.replace('T','0.005')\n",
    "weather.PrecipTotal = weather.PrecipTotal.str.replace('M','0.0')\n",
    "weather.PrecipTotal = weather.PrecipTotal.astype(float)"
   ]
  },
  {
   "cell_type": "markdown",
   "metadata": {},
   "source": [
    "## Grouping records from same trap, same day inspection"
   ]
  },
  {
   "cell_type": "code",
   "execution_count": null,
   "metadata": {
    "collapsed": true
   },
   "outputs": [],
   "source": [
    "# Because records are capped at 50 mosquitos,\n",
    "# we are grouping the data to obtain a unique\n",
    "# observation record per trap per date, with\n",
    "# a total sum of NumMosquitos\n",
    "\n",
    "traps = traps[['Trap',\n",
    "               'Latitude',\n",
    "               'Longitude',\n",
    "               'Date',\n",
    "               'Species',\n",
    "               'WnvPresent',\n",
    "               'NumMosquitos']].groupby(['Trap',\n",
    "                                         'Latitude',\n",
    "                                         'Longitude',\n",
    "                                         'Date', \n",
    "                                         'Species',\n",
    "                                         'WnvPresent']).agg({'NumMosquitos':np.sum}).reset_index()"
   ]
  },
  {
   "cell_type": "markdown",
   "metadata": {
    "collapsed": true
   },
   "source": [
    "## Applying the weather data to the dataframe"
   ]
  },
  {
   "cell_type": "code",
   "execution_count": 100,
   "metadata": {
    "collapsed": true
   },
   "outputs": [],
   "source": [
    "## This function takes three arguments:\n",
    "## The column name as a string from weather dataframe that we want to extract\n",
    "## a numpy function that we want to do to the data\n",
    "## an integer number of previous days to extraxct\n",
    "\n",
    "def weather_add(weather_col, func, days_range=7):\n",
    "    new_list = []\n",
    "    for i in traps['Date']:\n",
    "        mask = (weather['Date'] <= i) & (weather['Date'] >= i - pd.Timedelta(days=days_range))\n",
    "        data_list = func(weather[weather_col][mask])\n",
    "        new_list.append(data_list)\n",
    "    return new_list"
   ]
  },
  {
   "cell_type": "code",
   "execution_count": 103,
   "metadata": {
    "collapsed": false
   },
   "outputs": [],
   "source": [
    "## running this cell will extract the average temp min, average temp max, and precipitation sum \n",
    "## to the traps dataframe from the previous 7 days.\n",
    "\n",
    "traps['Tmax'] = weather_add(weather_col='Tmax', func=np.mean)\n",
    "traps['Tmin'] = weather_add(weather_col='Tmin', func=np.mean)\n",
    "traps['rain'] = weather_add(weather_col='PrecipTotal', func= np.sum)"
   ]
  },
  {
   "cell_type": "code",
   "execution_count": null,
   "metadata": {
    "collapsed": true
   },
   "outputs": [],
   "source": []
  },
  {
   "cell_type": "code",
   "execution_count": null,
   "metadata": {
    "collapsed": true
   },
   "outputs": [],
   "source": []
  },
  {
   "cell_type": "markdown",
   "metadata": {},
   "source": [
    "## Applying the spray data to the dataframe"
   ]
  },
  {
   "cell_type": "code",
   "execution_count": null,
   "metadata": {
    "collapsed": true
   },
   "outputs": [],
   "source": [
    "## create a feature displaying the closest spray to the trap where applicable\n",
    "## takes about 10 minutes to run so beware\n",
    "traps['Spray'] = np.NaN\n",
    "\n",
    "## get trap observations for dates with spray data\n",
    "traps_sprayed = traps[traps.Date>=min(spray.Date)]\n",
    "## record the indices of these records for when we set the spray values to the main df\n",
    "traps_indices = traps_sprayed.index.values\n",
    "\n",
    "start= datetime.datetime.now()\n",
    "print start\n",
    "\n",
    "remaining = len(traps_indices)\n",
    "    \n",
    "for i in traps_indices:\n",
    "    trap_lat = traps_sprayed.Latitude.loc[i]\n",
    "    trap_long = traps_sprayed.Longitude.loc[i]\n",
    "    # record the date of a week prior to the inspection\n",
    "    trap_week_ago = traps_sprayed.Date.loc[i] - timedelta(days=7)\n",
    "    dist = []\n",
    "    # for each dated trap inspection, select only the spray records within a week prior to the inspection\n",
    "    spray_temp = spray[['Latitude','Longitude']][spray.Date >= trap_week_ago][spray.Date<=traps_sprayed.Date.loc[i]]\n",
    "    remaining-=1\n",
    "    print str(remaining),' remaining'\n",
    "    \n",
    "    # run through each coordinate in the spray data and record the distance\n",
    "    for j in range(0,len(spray_temp)):\n",
    "        spray_lat = spray.Latitude.iloc[j] \n",
    "        spray_long = spray.Longitude.iloc[j]\n",
    "        a = (trap_lat, trap_long)\n",
    "        b = (spray_lat, spray_long)\n",
    "        dist.append(vincenty(a, b).miles)\n",
    "    try:\n",
    "        # set the spray value to the shortest distance\n",
    "        traps.Spray.loc[i] = min(dist)\n",
    "    except:\n",
    "        pass\n",
    "\n",
    "elapsed = datetime.datetime.now() - start\n",
    "print elapsed        "
   ]
  },
  {
   "cell_type": "code",
   "execution_count": 97,
   "metadata": {
    "collapsed": false
   },
   "outputs": [],
   "source": [
    "# traps.to_csv('/Users/jennydoyle/Desktop/dsi/West-Nile-Virus-Prediction/traps_spray_distance.csv',sep=',', encoding='utf-8')"
   ]
  },
  {
   "cell_type": "code",
   "execution_count": 104,
   "metadata": {
    "collapsed": false
   },
   "outputs": [
    {
     "data": {
      "image/png": "[encoded data removed]",
      "text/plain": [
       "<matplotlib.figure.Figure at 0x12e80e310>"
      ]
     },
     "metadata": {},
     "output_type": "display_data"
    }
   ],
   "source": [
    "## Check out how the correlation map changes with our new features\n",
    "find_correlation(traps, 'Traps')"
   ]
  },
  {
   "cell_type": "markdown",
   "metadata": {},
   "source": [
    "## Scale the Data ??"
   ]
  },
  {
   "cell_type": "code",
   "execution_count": null,
   "metadata": {
    "collapsed": true
   },
   "outputs": [],
   "source": [
    "from sklearn.preprocessing import MinMaxScaler\n",
    "\n",
    "# how do we reconcile null distances for nearest spray?\n",
    "# setting them to zero implies the spray is super close\n",
    "# this cell is still in progress... \n",
    "max_dist = max(traps.spray)+100\n",
    "traps.spray = traps.spray.fillna(max_dist)\n",
    "\n",
    "features = traps.columns.drop(['Species','Date','Trap'])\n",
    "\n",
    "traps[features].head()\n",
    "\n",
    "traps_rescaled =  pd.DataFrame(MinMaxScaler().fit_transform(traps[features]),columns=features)\n",
    "traps_rescaled.concat(traps[['Species','Date','Trap']])\n",
    "\n",
    "traps['spray_scaled'] = np.NaN           \n",
    "min_dist = min(traps.spray)\n",
    "traps.spray_scaled = traps.spray.map(lambda x: x/float(max_dist))   \n",
    "\n",
    "traps[['spray_scaled','spray']].sort('spray')"
   ]
  }
 ],
 "metadata": {
  "kernelspec": {
   "display_name": "Python 2",
   "language": "python",
   "name": "python2"
  },
  "language_info": {
   "codemirror_mode": {
    "name": "ipython",
    "version": 2
   },
   "file_extension": ".py",
   "mimetype": "text/x-python",
   "name": "python",
   "nbconvert_exporter": "python",
   "pygments_lexer": "ipython2",
   "version": "2.7.13"
  }
 },
 "nbformat": 4,
 "nbformat_minor": 2
}
